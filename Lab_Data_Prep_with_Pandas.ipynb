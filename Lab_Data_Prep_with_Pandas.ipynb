{
  "nbformat": 4,
  "nbformat_minor": 0,
  "metadata": {
    "colab": {
      "provenance": [],
      "collapsed_sections": [],
      "authorship_tag": "ABX9TyPTx5dxhbkV6PEQl+6UyXj9",
      "include_colab_link": true
    },
    "kernelspec": {
      "name": "python3",
      "display_name": "Python 3"
    },
    "language_info": {
      "name": "python"
    }
  },
  "cells": [
    {
      "cell_type": "markdown",
      "metadata": {
        "id": "view-in-github",
        "colab_type": "text"
      },
      "source": [
        "<a href=\"https://colab.research.google.com/github/ThomasGVoss/LearningFactory/blob/main/Lab_Data_Prep_with_Pandas.ipynb\" target=\"_parent\"><img src=\"https://colab.research.google.com/assets/colab-badge.svg\" alt=\"Open In Colab\"/></a>"
      ]
    },
    {
      "cell_type": "markdown",
      "source": [
        "The **CR**oss *I*ndustry *S*tandard **P**rocess for **D**ata **M**ining (CRISP-DM) is a process model that serves as the base for a data science process. It has six sequential phases:\n",
        "\n",
        "\n",
        "\n",
        "1.   Business understanding – What does the business need?\n",
        "2.   Data understanding – What data do we have / need? Is it clean?\n",
        "3.   Data preparation – How do we organize the data for modeling?\n",
        "4.   Modeling – What modeling techniques should we apply?\n",
        "5.   Evaluation – Which model best meets the business objectives?\n",
        "6.   Deployment – How do stakeholders access the results?\n",
        "\n",
        "\n",
        "Published in 1999 to standardize data mining processes across industries, it has since become the most common methodology for data mining, analytics, and data science projects."
      ],
      "metadata": {
        "id": "BmtufzPd2djq"
      }
    },
    {
      "cell_type": "markdown",
      "source": [
        "## Phase 1: Business Understanding\n",
        "\n",
        "The Business Understanding phase focuses on understanding the objectives and requirements of the project. Aside from the third task, the three other tasks in this phase are foundational project management activities that are universal to most projects:\n",
        "\n",
        "**Determine business objectives:** You should first “thoroughly understand, from a business perspective, what the customer really wants to accomplish.” (CRISP-DM Guide) and then define business success criteria.\n",
        "\n",
        "**Assess situation:** Determine resources availability, project requirements, assess risks and contingencies, and conduct a cost-benefit analysis.\n",
        "\n",
        "**Determine data mining goals:** In addition to defining the business objectives, you should also define what success looks like from a technical data mining perspective.\n",
        "\n",
        "**Produce project plan:** Select technologies and tools and define detailed plans for each project phase.\n",
        "\n",
        "While many teams hurry through this phase, establishing a strong business understanding is like building the foundation of a house – absolutely essential.\n",
        "\n",
        "This enables close coordination between technical department of Data Scientists, Data Analysts and Data Engineers with business stakeholders."
      ],
      "metadata": {
        "id": "U6Yn2ZEL3BUV"
      }
    },
    {
      "cell_type": "code",
      "source": [],
      "metadata": {
        "id": "5ut5xcJw3Tac"
      },
      "execution_count": null,
      "outputs": []
    },
    {
      "cell_type": "markdown",
      "source": [
        "## Phase 2: Data Understanding\n",
        "\n",
        "\n",
        "Next is the Data Understanding phase. Adding to the foundation of Business Understanding, it drives the focus to identify, collect, and analyze the data sets that can help you accomplish the project goals. This phase also has four tasks:\n",
        "\n",
        "Collect initial data: Acquire the necessary data and (if necessary) load it into your analysis tool.\n",
        "Describe data: Examine the data and document its surface properties like data format, number of records, or field identities.\n",
        "Explore data: Dig deeper into the data. Query it, visualize it, and identify relationships among the data.\n",
        "Verify data quality: How clean/dirty is the data? Document any quality issues."
      ],
      "metadata": {
        "id": "QGnjIyIT3Ei_"
      }
    },
    {
      "cell_type": "code",
      "execution_count": 1,
      "metadata": {
        "id": "hMFYYqo75sQE"
      },
      "outputs": [],
      "source": [
        "import numpy as np                                # For matrix operations and numerical processing\n",
        "import pandas as pd                               # For munging tabular data\n",
        "import matplotlib.pyplot as plt                   # For charts and visualizations\n",
        "from IPython.display import Image                 # For displaying images in the notebook\n",
        "from IPython.display import display               # For displaying outputs in the notebook\n",
        "from time import gmtime, strftime                 # For labeling SageMaker models, endpoints, etc.\n",
        "import sys                                        # For writing outputs to notebook\n",
        "import math                                       # For ceiling function\n",
        "import json                                       # For parsing hosting outputs\n",
        "import os                                         # For manipulating filepath names\n",
        "import zipfile                                    # For unzipping\n",
        "\n",
        "# ensure graphs are displayed correctly inline in this notebook\n",
        "%matplotlib inline"
      ]
    },
    {
      "cell_type": "markdown",
      "source": [
        "Collecting and Loading the data"
      ],
      "metadata": {
        "id": "uWCThRl63u79"
      }
    },
    {
      "cell_type": "code",
      "source": [
        "!wget https://raw.githubusercontent.com/ThomasGVoss/LearningFactory/main/apjournal.csv\n",
        "!wget https://raw.githubusercontent.com/ThomasGVoss/LearningFactory/main/kundenauftrag.csv\n",
        "!wget https://raw.githubusercontent.com/ThomasGVoss/LearningFactory/main/produktionsauftrag.csv\n"
      ],
      "metadata": {
        "id": "L5H87LZ_5suy",
        "colab": {
          "base_uri": "https://localhost:8080/"
        },
        "outputId": "4748f007-265f-4801-dc02-64c7b4bee261"
      },
      "execution_count": 2,
      "outputs": [
        {
          "output_type": "stream",
          "name": "stdout",
          "text": [
            "--2022-09-29 05:17:23--  https://raw.githubusercontent.com/ThomasGVoss/LearningFactory/main/apjournal.csv\n",
            "Resolving raw.githubusercontent.com (raw.githubusercontent.com)... 185.199.108.133, 185.199.109.133, 185.199.110.133, ...\n",
            "Connecting to raw.githubusercontent.com (raw.githubusercontent.com)|185.199.108.133|:443... connected.\n",
            "HTTP request sent, awaiting response... 200 OK\n",
            "Length: 297142 (290K) [text/plain]\n",
            "Saving to: ‘apjournal.csv’\n",
            "\n",
            "apjournal.csv       100%[===================>] 290.18K  --.-KB/s    in 0.03s   \n",
            "\n",
            "2022-09-29 05:17:24 (9.19 MB/s) - ‘apjournal.csv’ saved [297142/297142]\n",
            "\n",
            "--2022-09-29 05:17:24--  https://raw.githubusercontent.com/ThomasGVoss/LearningFactory/main/kundenauftrag.csv\n",
            "Resolving raw.githubusercontent.com (raw.githubusercontent.com)... 185.199.108.133, 185.199.109.133, 185.199.110.133, ...\n",
            "Connecting to raw.githubusercontent.com (raw.githubusercontent.com)|185.199.108.133|:443... connected.\n",
            "HTTP request sent, awaiting response... 200 OK\n",
            "Length: 277956 (271K) [text/plain]\n",
            "Saving to: ‘kundenauftrag.csv’\n",
            "\n",
            "kundenauftrag.csv   100%[===================>] 271.44K  --.-KB/s    in 0.03s   \n",
            "\n",
            "2022-09-29 05:17:24 (8.53 MB/s) - ‘kundenauftrag.csv’ saved [277956/277956]\n",
            "\n",
            "--2022-09-29 05:17:24--  https://raw.githubusercontent.com/ThomasGVoss/LearningFactory/main/produktionsauftrag.csv\n",
            "Resolving raw.githubusercontent.com (raw.githubusercontent.com)... 185.199.108.133, 185.199.109.133, 185.199.111.133, ...\n",
            "Connecting to raw.githubusercontent.com (raw.githubusercontent.com)|185.199.108.133|:443... connected.\n",
            "HTTP request sent, awaiting response... 200 OK\n",
            "Length: 106696 (104K) [text/plain]\n",
            "Saving to: ‘produktionsauftrag.csv’\n",
            "\n",
            "produktionsauftrag. 100%[===================>] 104.20K  --.-KB/s    in 0.02s   \n",
            "\n",
            "2022-09-29 05:17:25 (4.94 MB/s) - ‘produktionsauftrag.csv’ saved [106696/106696]\n",
            "\n"
          ]
        }
      ]
    },
    {
      "cell_type": "code",
      "source": [
        "col = ['ProcessID','RoundId','Workstation','Null','Start','End']\n",
        "data = pd.read_csv('/content/apjournal.csv', header=None, names=col, index_col=0 , sep=',',on_bad_lines='skip')\n",
        "pd.set_option('display.max_columns', 500)   # Make sure we can see all of the columns\n",
        "pd.set_option('display.max_rows', 20) # Keep the output on one page\n",
        "data = data.drop(columns='Null')\n",
        "#last output of a cell is automatically displayed in this case the pandas DataFrame\n",
        "data"
      ],
      "metadata": {
        "id": "xWWYyzM87HnM",
        "colab": {
          "base_uri": "https://localhost:8080/",
          "height": 424
        },
        "outputId": "7f386bb9-57bf-4890-d8c9-3ae57837dd8a"
      },
      "execution_count": 3,
      "outputs": [
        {
          "output_type": "execute_result",
          "data": {
            "text/plain": [
              "      ProcessID  RoundId  Workstation                Start  \\\n",
              "1            76       31            1  2018-01-10 21:00:50   \n",
              "2            76       31            1  2018-01-10 21:05:16   \n",
              "3            77       31            1  2018-01-10 21:13:29   \n",
              "4            78       31            1  2018-01-10 21:20:21   \n",
              "5            78       31            2  2018-01-10 21:20:33   \n",
              "...         ...      ...          ...                  ...   \n",
              "4217       1762      216            2  2022-09-02 20:05:56   \n",
              "4218       1759      216            5  2022-09-02 20:06:51   \n",
              "4219       1762      216            3  2022-09-02 20:07:09   \n",
              "4220       1762      216            4  2022-09-02 20:07:46   \n",
              "4221       1762      216            5  2022-09-02 20:08:14   \n",
              "\n",
              "                      End  \n",
              "1     2018-01-10 21:05:09  \n",
              "2     2018-01-10 21:05:21  \n",
              "3     2018-01-10 21:13:56  \n",
              "4     2018-01-12 15:59:51  \n",
              "5     2018-01-10 21:20:35  \n",
              "...                   ...  \n",
              "4217  2022-09-02 20:07:07  \n",
              "4218  2022-09-02 20:07:20  \n",
              "4219  2022-09-02 20:07:31  \n",
              "4220  2022-09-02 20:08:12  \n",
              "4221  2022-09-02 20:08:19  \n",
              "\n",
              "[4221 rows x 5 columns]"
            ],
            "text/html": [
              "\n",
              "  <div id=\"df-98f58413-f5c7-402a-8cb3-70c8fda10eab\">\n",
              "    <div class=\"colab-df-container\">\n",
              "      <div>\n",
              "<style scoped>\n",
              "    .dataframe tbody tr th:only-of-type {\n",
              "        vertical-align: middle;\n",
              "    }\n",
              "\n",
              "    .dataframe tbody tr th {\n",
              "        vertical-align: top;\n",
              "    }\n",
              "\n",
              "    .dataframe thead th {\n",
              "        text-align: right;\n",
              "    }\n",
              "</style>\n",
              "<table border=\"1\" class=\"dataframe\">\n",
              "  <thead>\n",
              "    <tr style=\"text-align: right;\">\n",
              "      <th></th>\n",
              "      <th>ProcessID</th>\n",
              "      <th>RoundId</th>\n",
              "      <th>Workstation</th>\n",
              "      <th>Start</th>\n",
              "      <th>End</th>\n",
              "    </tr>\n",
              "  </thead>\n",
              "  <tbody>\n",
              "    <tr>\n",
              "      <th>1</th>\n",
              "      <td>76</td>\n",
              "      <td>31</td>\n",
              "      <td>1</td>\n",
              "      <td>2018-01-10 21:00:50</td>\n",
              "      <td>2018-01-10 21:05:09</td>\n",
              "    </tr>\n",
              "    <tr>\n",
              "      <th>2</th>\n",
              "      <td>76</td>\n",
              "      <td>31</td>\n",
              "      <td>1</td>\n",
              "      <td>2018-01-10 21:05:16</td>\n",
              "      <td>2018-01-10 21:05:21</td>\n",
              "    </tr>\n",
              "    <tr>\n",
              "      <th>3</th>\n",
              "      <td>77</td>\n",
              "      <td>31</td>\n",
              "      <td>1</td>\n",
              "      <td>2018-01-10 21:13:29</td>\n",
              "      <td>2018-01-10 21:13:56</td>\n",
              "    </tr>\n",
              "    <tr>\n",
              "      <th>4</th>\n",
              "      <td>78</td>\n",
              "      <td>31</td>\n",
              "      <td>1</td>\n",
              "      <td>2018-01-10 21:20:21</td>\n",
              "      <td>2018-01-12 15:59:51</td>\n",
              "    </tr>\n",
              "    <tr>\n",
              "      <th>5</th>\n",
              "      <td>78</td>\n",
              "      <td>31</td>\n",
              "      <td>2</td>\n",
              "      <td>2018-01-10 21:20:33</td>\n",
              "      <td>2018-01-10 21:20:35</td>\n",
              "    </tr>\n",
              "    <tr>\n",
              "      <th>...</th>\n",
              "      <td>...</td>\n",
              "      <td>...</td>\n",
              "      <td>...</td>\n",
              "      <td>...</td>\n",
              "      <td>...</td>\n",
              "    </tr>\n",
              "    <tr>\n",
              "      <th>4217</th>\n",
              "      <td>1762</td>\n",
              "      <td>216</td>\n",
              "      <td>2</td>\n",
              "      <td>2022-09-02 20:05:56</td>\n",
              "      <td>2022-09-02 20:07:07</td>\n",
              "    </tr>\n",
              "    <tr>\n",
              "      <th>4218</th>\n",
              "      <td>1759</td>\n",
              "      <td>216</td>\n",
              "      <td>5</td>\n",
              "      <td>2022-09-02 20:06:51</td>\n",
              "      <td>2022-09-02 20:07:20</td>\n",
              "    </tr>\n",
              "    <tr>\n",
              "      <th>4219</th>\n",
              "      <td>1762</td>\n",
              "      <td>216</td>\n",
              "      <td>3</td>\n",
              "      <td>2022-09-02 20:07:09</td>\n",
              "      <td>2022-09-02 20:07:31</td>\n",
              "    </tr>\n",
              "    <tr>\n",
              "      <th>4220</th>\n",
              "      <td>1762</td>\n",
              "      <td>216</td>\n",
              "      <td>4</td>\n",
              "      <td>2022-09-02 20:07:46</td>\n",
              "      <td>2022-09-02 20:08:12</td>\n",
              "    </tr>\n",
              "    <tr>\n",
              "      <th>4221</th>\n",
              "      <td>1762</td>\n",
              "      <td>216</td>\n",
              "      <td>5</td>\n",
              "      <td>2022-09-02 20:08:14</td>\n",
              "      <td>2022-09-02 20:08:19</td>\n",
              "    </tr>\n",
              "  </tbody>\n",
              "</table>\n",
              "<p>4221 rows × 5 columns</p>\n",
              "</div>\n",
              "      <button class=\"colab-df-convert\" onclick=\"convertToInteractive('df-98f58413-f5c7-402a-8cb3-70c8fda10eab')\"\n",
              "              title=\"Convert this dataframe to an interactive table.\"\n",
              "              style=\"display:none;\">\n",
              "        \n",
              "  <svg xmlns=\"http://www.w3.org/2000/svg\" height=\"24px\"viewBox=\"0 0 24 24\"\n",
              "       width=\"24px\">\n",
              "    <path d=\"M0 0h24v24H0V0z\" fill=\"none\"/>\n",
              "    <path d=\"M18.56 5.44l.94 2.06.94-2.06 2.06-.94-2.06-.94-.94-2.06-.94 2.06-2.06.94zm-11 1L8.5 8.5l.94-2.06 2.06-.94-2.06-.94L8.5 2.5l-.94 2.06-2.06.94zm10 10l.94 2.06.94-2.06 2.06-.94-2.06-.94-.94-2.06-.94 2.06-2.06.94z\"/><path d=\"M17.41 7.96l-1.37-1.37c-.4-.4-.92-.59-1.43-.59-.52 0-1.04.2-1.43.59L10.3 9.45l-7.72 7.72c-.78.78-.78 2.05 0 2.83L4 21.41c.39.39.9.59 1.41.59.51 0 1.02-.2 1.41-.59l7.78-7.78 2.81-2.81c.8-.78.8-2.07 0-2.86zM5.41 20L4 18.59l7.72-7.72 1.47 1.35L5.41 20z\"/>\n",
              "  </svg>\n",
              "      </button>\n",
              "      \n",
              "  <style>\n",
              "    .colab-df-container {\n",
              "      display:flex;\n",
              "      flex-wrap:wrap;\n",
              "      gap: 12px;\n",
              "    }\n",
              "\n",
              "    .colab-df-convert {\n",
              "      background-color: #E8F0FE;\n",
              "      border: none;\n",
              "      border-radius: 50%;\n",
              "      cursor: pointer;\n",
              "      display: none;\n",
              "      fill: #1967D2;\n",
              "      height: 32px;\n",
              "      padding: 0 0 0 0;\n",
              "      width: 32px;\n",
              "    }\n",
              "\n",
              "    .colab-df-convert:hover {\n",
              "      background-color: #E2EBFA;\n",
              "      box-shadow: 0px 1px 2px rgba(60, 64, 67, 0.3), 0px 1px 3px 1px rgba(60, 64, 67, 0.15);\n",
              "      fill: #174EA6;\n",
              "    }\n",
              "\n",
              "    [theme=dark] .colab-df-convert {\n",
              "      background-color: #3B4455;\n",
              "      fill: #D2E3FC;\n",
              "    }\n",
              "\n",
              "    [theme=dark] .colab-df-convert:hover {\n",
              "      background-color: #434B5C;\n",
              "      box-shadow: 0px 1px 3px 1px rgba(0, 0, 0, 0.15);\n",
              "      filter: drop-shadow(0px 1px 2px rgba(0, 0, 0, 0.3));\n",
              "      fill: #FFFFFF;\n",
              "    }\n",
              "  </style>\n",
              "\n",
              "      <script>\n",
              "        const buttonEl =\n",
              "          document.querySelector('#df-98f58413-f5c7-402a-8cb3-70c8fda10eab button.colab-df-convert');\n",
              "        buttonEl.style.display =\n",
              "          google.colab.kernel.accessAllowed ? 'block' : 'none';\n",
              "\n",
              "        async function convertToInteractive(key) {\n",
              "          const element = document.querySelector('#df-98f58413-f5c7-402a-8cb3-70c8fda10eab');\n",
              "          const dataTable =\n",
              "            await google.colab.kernel.invokeFunction('convertToInteractive',\n",
              "                                                     [key], {});\n",
              "          if (!dataTable) return;\n",
              "\n",
              "          const docLinkHtml = 'Like what you see? Visit the ' +\n",
              "            '<a target=\"_blank\" href=https://colab.research.google.com/notebooks/data_table.ipynb>data table notebook</a>'\n",
              "            + ' to learn more about interactive tables.';\n",
              "          element.innerHTML = '';\n",
              "          dataTable['output_type'] = 'display_data';\n",
              "          await google.colab.output.renderOutput(dataTable, element);\n",
              "          const docLink = document.createElement('div');\n",
              "          docLink.innerHTML = docLinkHtml;\n",
              "          element.appendChild(docLink);\n",
              "        }\n",
              "      </script>\n",
              "    </div>\n",
              "  </div>\n",
              "  "
            ]
          },
          "metadata": {},
          "execution_count": 3
        }
      ]
    },
    {
      "cell_type": "markdown",
      "source": [
        "Let's take a look into the round we played and talk about the data. \n",
        "\n"
      ],
      "metadata": {
        "id": "H8t60yVeAwtz"
      }
    },
    {
      "cell_type": "code",
      "source": [
        "data = data.loc[data['RoundId'] == 216]"
      ],
      "metadata": {
        "id": "Bdynbjk3AwIf"
      },
      "execution_count": 4,
      "outputs": []
    },
    {
      "cell_type": "markdown",
      "source": [
        "#Task: \n",
        "\n",
        "Please think back on the game and match your experience from the game with the data set you have been presented with. Please generate a description of the data. What are the Rows and Collums representing, what type of values are you looking at? \n",
        "\n",
        "Below you find some examples of ways to access the data.\n"
      ],
      "metadata": {
        "id": "DaLMfYV5-vSh"
      }
    },
    {
      "cell_type": "code",
      "source": [
        "data['Start'] = pd.to_datetime(data['Start'])\n",
        "#data['End'] = pd.to_datetime(data['End'])\n",
        "data['End'] = data['End'].astype('datetime64[ns]')\n",
        "data.dtypes\n"
      ],
      "metadata": {
        "id": "a2-UPlUwJj7l",
        "colab": {
          "base_uri": "https://localhost:8080/"
        },
        "outputId": "c05e3e5e-09c1-4db3-ee8b-518cf4aeed71"
      },
      "execution_count": 5,
      "outputs": [
        {
          "output_type": "stream",
          "name": "stderr",
          "text": [
            "/usr/local/lib/python3.7/dist-packages/ipykernel_launcher.py:1: SettingWithCopyWarning: \n",
            "A value is trying to be set on a copy of a slice from a DataFrame.\n",
            "Try using .loc[row_indexer,col_indexer] = value instead\n",
            "\n",
            "See the caveats in the documentation: https://pandas.pydata.org/pandas-docs/stable/user_guide/indexing.html#returning-a-view-versus-a-copy\n",
            "  \"\"\"Entry point for launching an IPython kernel.\n",
            "/usr/local/lib/python3.7/dist-packages/ipykernel_launcher.py:3: SettingWithCopyWarning: \n",
            "A value is trying to be set on a copy of a slice from a DataFrame.\n",
            "Try using .loc[row_indexer,col_indexer] = value instead\n",
            "\n",
            "See the caveats in the documentation: https://pandas.pydata.org/pandas-docs/stable/user_guide/indexing.html#returning-a-view-versus-a-copy\n",
            "  This is separate from the ipykernel package so we can avoid doing imports until\n"
          ]
        },
        {
          "output_type": "execute_result",
          "data": {
            "text/plain": [
              "ProcessID               int64\n",
              "RoundId                 int64\n",
              "Workstation             int64\n",
              "Start          datetime64[ns]\n",
              "End            datetime64[ns]\n",
              "dtype: object"
            ]
          },
          "metadata": {},
          "execution_count": 5
        }
      ]
    },
    {
      "cell_type": "code",
      "source": [
        "# Select a column\n",
        "ws = data['Workstation']\n",
        "ws"
      ],
      "metadata": {
        "id": "IdSHQZdmAS5d",
        "colab": {
          "base_uri": "https://localhost:8080/"
        },
        "outputId": "bcfd6c79-b895-4fa8-93af-bd617abe2501"
      },
      "execution_count": 6,
      "outputs": [
        {
          "output_type": "execute_result",
          "data": {
            "text/plain": [
              "4125    1\n",
              "4126    2\n",
              "4127    1\n",
              "4128    1\n",
              "4129    3\n",
              "       ..\n",
              "4217    2\n",
              "4218    5\n",
              "4219    3\n",
              "4220    4\n",
              "4221    5\n",
              "Name: Workstation, Length: 97, dtype: int64"
            ]
          },
          "metadata": {},
          "execution_count": 6
        }
      ]
    },
    {
      "cell_type": "code",
      "source": [
        "data.sort_values(by=\"Start\")"
      ],
      "metadata": {
        "id": "bKr5Oe2MAaT3",
        "colab": {
          "base_uri": "https://localhost:8080/",
          "height": 424
        },
        "outputId": "5cb5d39d-562b-4732-f42c-78bb15045025"
      },
      "execution_count": 7,
      "outputs": [
        {
          "output_type": "execute_result",
          "data": {
            "text/plain": [
              "      ProcessID  RoundId  Workstation               Start                 End\n",
              "4125       1745      216            1 2022-09-02 19:29:26 2022-09-02 19:30:27\n",
              "4126       1745      216            2 2022-09-02 19:30:29 2022-09-02 19:32:32\n",
              "4127       1746      216            1 2022-09-02 19:30:36 2022-09-02 19:32:01\n",
              "4128       1747      216            1 2022-09-02 19:32:23 2022-09-02 19:33:21\n",
              "4129       1745      216            3 2022-09-02 19:32:35 2022-09-02 19:34:29\n",
              "...         ...      ...          ...                 ...                 ...\n",
              "4217       1762      216            2 2022-09-02 20:05:56 2022-09-02 20:07:07\n",
              "4218       1759      216            5 2022-09-02 20:06:51 2022-09-02 20:07:20\n",
              "4219       1762      216            3 2022-09-02 20:07:09 2022-09-02 20:07:31\n",
              "4220       1762      216            4 2022-09-02 20:07:46 2022-09-02 20:08:12\n",
              "4221       1762      216            5 2022-09-02 20:08:14 2022-09-02 20:08:19\n",
              "\n",
              "[97 rows x 5 columns]"
            ],
            "text/html": [
              "\n",
              "  <div id=\"df-40dd8afe-a116-4291-b812-814f03ea4599\">\n",
              "    <div class=\"colab-df-container\">\n",
              "      <div>\n",
              "<style scoped>\n",
              "    .dataframe tbody tr th:only-of-type {\n",
              "        vertical-align: middle;\n",
              "    }\n",
              "\n",
              "    .dataframe tbody tr th {\n",
              "        vertical-align: top;\n",
              "    }\n",
              "\n",
              "    .dataframe thead th {\n",
              "        text-align: right;\n",
              "    }\n",
              "</style>\n",
              "<table border=\"1\" class=\"dataframe\">\n",
              "  <thead>\n",
              "    <tr style=\"text-align: right;\">\n",
              "      <th></th>\n",
              "      <th>ProcessID</th>\n",
              "      <th>RoundId</th>\n",
              "      <th>Workstation</th>\n",
              "      <th>Start</th>\n",
              "      <th>End</th>\n",
              "    </tr>\n",
              "  </thead>\n",
              "  <tbody>\n",
              "    <tr>\n",
              "      <th>4125</th>\n",
              "      <td>1745</td>\n",
              "      <td>216</td>\n",
              "      <td>1</td>\n",
              "      <td>2022-09-02 19:29:26</td>\n",
              "      <td>2022-09-02 19:30:27</td>\n",
              "    </tr>\n",
              "    <tr>\n",
              "      <th>4126</th>\n",
              "      <td>1745</td>\n",
              "      <td>216</td>\n",
              "      <td>2</td>\n",
              "      <td>2022-09-02 19:30:29</td>\n",
              "      <td>2022-09-02 19:32:32</td>\n",
              "    </tr>\n",
              "    <tr>\n",
              "      <th>4127</th>\n",
              "      <td>1746</td>\n",
              "      <td>216</td>\n",
              "      <td>1</td>\n",
              "      <td>2022-09-02 19:30:36</td>\n",
              "      <td>2022-09-02 19:32:01</td>\n",
              "    </tr>\n",
              "    <tr>\n",
              "      <th>4128</th>\n",
              "      <td>1747</td>\n",
              "      <td>216</td>\n",
              "      <td>1</td>\n",
              "      <td>2022-09-02 19:32:23</td>\n",
              "      <td>2022-09-02 19:33:21</td>\n",
              "    </tr>\n",
              "    <tr>\n",
              "      <th>4129</th>\n",
              "      <td>1745</td>\n",
              "      <td>216</td>\n",
              "      <td>3</td>\n",
              "      <td>2022-09-02 19:32:35</td>\n",
              "      <td>2022-09-02 19:34:29</td>\n",
              "    </tr>\n",
              "    <tr>\n",
              "      <th>...</th>\n",
              "      <td>...</td>\n",
              "      <td>...</td>\n",
              "      <td>...</td>\n",
              "      <td>...</td>\n",
              "      <td>...</td>\n",
              "    </tr>\n",
              "    <tr>\n",
              "      <th>4217</th>\n",
              "      <td>1762</td>\n",
              "      <td>216</td>\n",
              "      <td>2</td>\n",
              "      <td>2022-09-02 20:05:56</td>\n",
              "      <td>2022-09-02 20:07:07</td>\n",
              "    </tr>\n",
              "    <tr>\n",
              "      <th>4218</th>\n",
              "      <td>1759</td>\n",
              "      <td>216</td>\n",
              "      <td>5</td>\n",
              "      <td>2022-09-02 20:06:51</td>\n",
              "      <td>2022-09-02 20:07:20</td>\n",
              "    </tr>\n",
              "    <tr>\n",
              "      <th>4219</th>\n",
              "      <td>1762</td>\n",
              "      <td>216</td>\n",
              "      <td>3</td>\n",
              "      <td>2022-09-02 20:07:09</td>\n",
              "      <td>2022-09-02 20:07:31</td>\n",
              "    </tr>\n",
              "    <tr>\n",
              "      <th>4220</th>\n",
              "      <td>1762</td>\n",
              "      <td>216</td>\n",
              "      <td>4</td>\n",
              "      <td>2022-09-02 20:07:46</td>\n",
              "      <td>2022-09-02 20:08:12</td>\n",
              "    </tr>\n",
              "    <tr>\n",
              "      <th>4221</th>\n",
              "      <td>1762</td>\n",
              "      <td>216</td>\n",
              "      <td>5</td>\n",
              "      <td>2022-09-02 20:08:14</td>\n",
              "      <td>2022-09-02 20:08:19</td>\n",
              "    </tr>\n",
              "  </tbody>\n",
              "</table>\n",
              "<p>97 rows × 5 columns</p>\n",
              "</div>\n",
              "      <button class=\"colab-df-convert\" onclick=\"convertToInteractive('df-40dd8afe-a116-4291-b812-814f03ea4599')\"\n",
              "              title=\"Convert this dataframe to an interactive table.\"\n",
              "              style=\"display:none;\">\n",
              "        \n",
              "  <svg xmlns=\"http://www.w3.org/2000/svg\" height=\"24px\"viewBox=\"0 0 24 24\"\n",
              "       width=\"24px\">\n",
              "    <path d=\"M0 0h24v24H0V0z\" fill=\"none\"/>\n",
              "    <path d=\"M18.56 5.44l.94 2.06.94-2.06 2.06-.94-2.06-.94-.94-2.06-.94 2.06-2.06.94zm-11 1L8.5 8.5l.94-2.06 2.06-.94-2.06-.94L8.5 2.5l-.94 2.06-2.06.94zm10 10l.94 2.06.94-2.06 2.06-.94-2.06-.94-.94-2.06-.94 2.06-2.06.94z\"/><path d=\"M17.41 7.96l-1.37-1.37c-.4-.4-.92-.59-1.43-.59-.52 0-1.04.2-1.43.59L10.3 9.45l-7.72 7.72c-.78.78-.78 2.05 0 2.83L4 21.41c.39.39.9.59 1.41.59.51 0 1.02-.2 1.41-.59l7.78-7.78 2.81-2.81c.8-.78.8-2.07 0-2.86zM5.41 20L4 18.59l7.72-7.72 1.47 1.35L5.41 20z\"/>\n",
              "  </svg>\n",
              "      </button>\n",
              "      \n",
              "  <style>\n",
              "    .colab-df-container {\n",
              "      display:flex;\n",
              "      flex-wrap:wrap;\n",
              "      gap: 12px;\n",
              "    }\n",
              "\n",
              "    .colab-df-convert {\n",
              "      background-color: #E8F0FE;\n",
              "      border: none;\n",
              "      border-radius: 50%;\n",
              "      cursor: pointer;\n",
              "      display: none;\n",
              "      fill: #1967D2;\n",
              "      height: 32px;\n",
              "      padding: 0 0 0 0;\n",
              "      width: 32px;\n",
              "    }\n",
              "\n",
              "    .colab-df-convert:hover {\n",
              "      background-color: #E2EBFA;\n",
              "      box-shadow: 0px 1px 2px rgba(60, 64, 67, 0.3), 0px 1px 3px 1px rgba(60, 64, 67, 0.15);\n",
              "      fill: #174EA6;\n",
              "    }\n",
              "\n",
              "    [theme=dark] .colab-df-convert {\n",
              "      background-color: #3B4455;\n",
              "      fill: #D2E3FC;\n",
              "    }\n",
              "\n",
              "    [theme=dark] .colab-df-convert:hover {\n",
              "      background-color: #434B5C;\n",
              "      box-shadow: 0px 1px 3px 1px rgba(0, 0, 0, 0.15);\n",
              "      filter: drop-shadow(0px 1px 2px rgba(0, 0, 0, 0.3));\n",
              "      fill: #FFFFFF;\n",
              "    }\n",
              "  </style>\n",
              "\n",
              "      <script>\n",
              "        const buttonEl =\n",
              "          document.querySelector('#df-40dd8afe-a116-4291-b812-814f03ea4599 button.colab-df-convert');\n",
              "        buttonEl.style.display =\n",
              "          google.colab.kernel.accessAllowed ? 'block' : 'none';\n",
              "\n",
              "        async function convertToInteractive(key) {\n",
              "          const element = document.querySelector('#df-40dd8afe-a116-4291-b812-814f03ea4599');\n",
              "          const dataTable =\n",
              "            await google.colab.kernel.invokeFunction('convertToInteractive',\n",
              "                                                     [key], {});\n",
              "          if (!dataTable) return;\n",
              "\n",
              "          const docLinkHtml = 'Like what you see? Visit the ' +\n",
              "            '<a target=\"_blank\" href=https://colab.research.google.com/notebooks/data_table.ipynb>data table notebook</a>'\n",
              "            + ' to learn more about interactive tables.';\n",
              "          element.innerHTML = '';\n",
              "          dataTable['output_type'] = 'display_data';\n",
              "          await google.colab.output.renderOutput(dataTable, element);\n",
              "          const docLink = document.createElement('div');\n",
              "          docLink.innerHTML = docLinkHtml;\n",
              "          element.appendChild(docLink);\n",
              "        }\n",
              "      </script>\n",
              "    </div>\n",
              "  </div>\n",
              "  "
            ]
          },
          "metadata": {},
          "execution_count": 7
        }
      ]
    },
    {
      "cell_type": "code",
      "source": [
        "# Grouping\n",
        "data.groupby('Workstation').size()"
      ],
      "metadata": {
        "id": "NuH93T28Ac-v",
        "colab": {
          "base_uri": "https://localhost:8080/"
        },
        "outputId": "0994c991-50a5-4cb0-beb9-e55532bb5876"
      },
      "execution_count": 8,
      "outputs": [
        {
          "output_type": "execute_result",
          "data": {
            "text/plain": [
              "Workstation\n",
              "1    18\n",
              "2    17\n",
              "3    18\n",
              "4    25\n",
              "5    19\n",
              "dtype: int64"
            ]
          },
          "metadata": {},
          "execution_count": 8
        }
      ]
    },
    {
      "cell_type": "code",
      "source": [
        "#Generate the duration based on the end and the start date\n",
        "data['Duration'] = data['End'] - data['Start']\n",
        "\n",
        "# Series.dt - Accessor object for datetimelike properties of the Series values.\n",
        "data['Seconds'] = data['Duration'].dt.total_seconds()\n",
        "\n",
        "#drop the duration col \n",
        "data = data.drop(columns=['Duration'])"
      ],
      "metadata": {
        "id": "xHx1BsnCJfmv",
        "colab": {
          "base_uri": "https://localhost:8080/"
        },
        "outputId": "053b85ac-2880-475f-944c-c49785936529"
      },
      "execution_count": 9,
      "outputs": [
        {
          "output_type": "stream",
          "name": "stderr",
          "text": [
            "/usr/local/lib/python3.7/dist-packages/ipykernel_launcher.py:2: SettingWithCopyWarning: \n",
            "A value is trying to be set on a copy of a slice from a DataFrame.\n",
            "Try using .loc[row_indexer,col_indexer] = value instead\n",
            "\n",
            "See the caveats in the documentation: https://pandas.pydata.org/pandas-docs/stable/user_guide/indexing.html#returning-a-view-versus-a-copy\n",
            "  \n",
            "/usr/local/lib/python3.7/dist-packages/ipykernel_launcher.py:5: SettingWithCopyWarning: \n",
            "A value is trying to be set on a copy of a slice from a DataFrame.\n",
            "Try using .loc[row_indexer,col_indexer] = value instead\n",
            "\n",
            "See the caveats in the documentation: https://pandas.pydata.org/pandas-docs/stable/user_guide/indexing.html#returning-a-view-versus-a-copy\n",
            "  \"\"\"\n"
          ]
        }
      ]
    },
    {
      "cell_type": "markdown",
      "source": [
        "# Exploration \n",
        " \n",
        "Let's start exploring the data. First, let's understand how the features are distributed."
      ],
      "metadata": {
        "id": "FgDC0BkZBCMu"
      }
    },
    {
      "cell_type": "code",
      "source": [
        "data.describe()"
      ],
      "metadata": {
        "id": "Dfy6oOX3KCgF",
        "colab": {
          "base_uri": "https://localhost:8080/",
          "height": 300
        },
        "outputId": "a2ac47b3-8f48-4ad8-8d0b-57c3054fcc92"
      },
      "execution_count": 10,
      "outputs": [
        {
          "output_type": "execute_result",
          "data": {
            "text/plain": [
              "         ProcessID  RoundId  Workstation     Seconds\n",
              "count    97.000000     97.0    97.000000   96.000000\n",
              "mean   1752.680412    216.0     3.103093   75.302083\n",
              "std       5.312223      0.0     1.403007   73.804738\n",
              "min    1745.000000    216.0     1.000000    1.000000\n",
              "25%    1748.000000    216.0     2.000000   30.500000\n",
              "50%    1753.000000    216.0     3.000000   62.000000\n",
              "75%    1757.000000    216.0     4.000000   94.000000\n",
              "max    1762.000000    216.0     5.000000  414.000000"
            ],
            "text/html": [
              "\n",
              "  <div id=\"df-8d729ef1-9900-4ed2-a678-1d644f8e29e4\">\n",
              "    <div class=\"colab-df-container\">\n",
              "      <div>\n",
              "<style scoped>\n",
              "    .dataframe tbody tr th:only-of-type {\n",
              "        vertical-align: middle;\n",
              "    }\n",
              "\n",
              "    .dataframe tbody tr th {\n",
              "        vertical-align: top;\n",
              "    }\n",
              "\n",
              "    .dataframe thead th {\n",
              "        text-align: right;\n",
              "    }\n",
              "</style>\n",
              "<table border=\"1\" class=\"dataframe\">\n",
              "  <thead>\n",
              "    <tr style=\"text-align: right;\">\n",
              "      <th></th>\n",
              "      <th>ProcessID</th>\n",
              "      <th>RoundId</th>\n",
              "      <th>Workstation</th>\n",
              "      <th>Seconds</th>\n",
              "    </tr>\n",
              "  </thead>\n",
              "  <tbody>\n",
              "    <tr>\n",
              "      <th>count</th>\n",
              "      <td>97.000000</td>\n",
              "      <td>97.0</td>\n",
              "      <td>97.000000</td>\n",
              "      <td>96.000000</td>\n",
              "    </tr>\n",
              "    <tr>\n",
              "      <th>mean</th>\n",
              "      <td>1752.680412</td>\n",
              "      <td>216.0</td>\n",
              "      <td>3.103093</td>\n",
              "      <td>75.302083</td>\n",
              "    </tr>\n",
              "    <tr>\n",
              "      <th>std</th>\n",
              "      <td>5.312223</td>\n",
              "      <td>0.0</td>\n",
              "      <td>1.403007</td>\n",
              "      <td>73.804738</td>\n",
              "    </tr>\n",
              "    <tr>\n",
              "      <th>min</th>\n",
              "      <td>1745.000000</td>\n",
              "      <td>216.0</td>\n",
              "      <td>1.000000</td>\n",
              "      <td>1.000000</td>\n",
              "    </tr>\n",
              "    <tr>\n",
              "      <th>25%</th>\n",
              "      <td>1748.000000</td>\n",
              "      <td>216.0</td>\n",
              "      <td>2.000000</td>\n",
              "      <td>30.500000</td>\n",
              "    </tr>\n",
              "    <tr>\n",
              "      <th>50%</th>\n",
              "      <td>1753.000000</td>\n",
              "      <td>216.0</td>\n",
              "      <td>3.000000</td>\n",
              "      <td>62.000000</td>\n",
              "    </tr>\n",
              "    <tr>\n",
              "      <th>75%</th>\n",
              "      <td>1757.000000</td>\n",
              "      <td>216.0</td>\n",
              "      <td>4.000000</td>\n",
              "      <td>94.000000</td>\n",
              "    </tr>\n",
              "    <tr>\n",
              "      <th>max</th>\n",
              "      <td>1762.000000</td>\n",
              "      <td>216.0</td>\n",
              "      <td>5.000000</td>\n",
              "      <td>414.000000</td>\n",
              "    </tr>\n",
              "  </tbody>\n",
              "</table>\n",
              "</div>\n",
              "      <button class=\"colab-df-convert\" onclick=\"convertToInteractive('df-8d729ef1-9900-4ed2-a678-1d644f8e29e4')\"\n",
              "              title=\"Convert this dataframe to an interactive table.\"\n",
              "              style=\"display:none;\">\n",
              "        \n",
              "  <svg xmlns=\"http://www.w3.org/2000/svg\" height=\"24px\"viewBox=\"0 0 24 24\"\n",
              "       width=\"24px\">\n",
              "    <path d=\"M0 0h24v24H0V0z\" fill=\"none\"/>\n",
              "    <path d=\"M18.56 5.44l.94 2.06.94-2.06 2.06-.94-2.06-.94-.94-2.06-.94 2.06-2.06.94zm-11 1L8.5 8.5l.94-2.06 2.06-.94-2.06-.94L8.5 2.5l-.94 2.06-2.06.94zm10 10l.94 2.06.94-2.06 2.06-.94-2.06-.94-.94-2.06-.94 2.06-2.06.94z\"/><path d=\"M17.41 7.96l-1.37-1.37c-.4-.4-.92-.59-1.43-.59-.52 0-1.04.2-1.43.59L10.3 9.45l-7.72 7.72c-.78.78-.78 2.05 0 2.83L4 21.41c.39.39.9.59 1.41.59.51 0 1.02-.2 1.41-.59l7.78-7.78 2.81-2.81c.8-.78.8-2.07 0-2.86zM5.41 20L4 18.59l7.72-7.72 1.47 1.35L5.41 20z\"/>\n",
              "  </svg>\n",
              "      </button>\n",
              "      \n",
              "  <style>\n",
              "    .colab-df-container {\n",
              "      display:flex;\n",
              "      flex-wrap:wrap;\n",
              "      gap: 12px;\n",
              "    }\n",
              "\n",
              "    .colab-df-convert {\n",
              "      background-color: #E8F0FE;\n",
              "      border: none;\n",
              "      border-radius: 50%;\n",
              "      cursor: pointer;\n",
              "      display: none;\n",
              "      fill: #1967D2;\n",
              "      height: 32px;\n",
              "      padding: 0 0 0 0;\n",
              "      width: 32px;\n",
              "    }\n",
              "\n",
              "    .colab-df-convert:hover {\n",
              "      background-color: #E2EBFA;\n",
              "      box-shadow: 0px 1px 2px rgba(60, 64, 67, 0.3), 0px 1px 3px 1px rgba(60, 64, 67, 0.15);\n",
              "      fill: #174EA6;\n",
              "    }\n",
              "\n",
              "    [theme=dark] .colab-df-convert {\n",
              "      background-color: #3B4455;\n",
              "      fill: #D2E3FC;\n",
              "    }\n",
              "\n",
              "    [theme=dark] .colab-df-convert:hover {\n",
              "      background-color: #434B5C;\n",
              "      box-shadow: 0px 1px 3px 1px rgba(0, 0, 0, 0.15);\n",
              "      filter: drop-shadow(0px 1px 2px rgba(0, 0, 0, 0.3));\n",
              "      fill: #FFFFFF;\n",
              "    }\n",
              "  </style>\n",
              "\n",
              "      <script>\n",
              "        const buttonEl =\n",
              "          document.querySelector('#df-8d729ef1-9900-4ed2-a678-1d644f8e29e4 button.colab-df-convert');\n",
              "        buttonEl.style.display =\n",
              "          google.colab.kernel.accessAllowed ? 'block' : 'none';\n",
              "\n",
              "        async function convertToInteractive(key) {\n",
              "          const element = document.querySelector('#df-8d729ef1-9900-4ed2-a678-1d644f8e29e4');\n",
              "          const dataTable =\n",
              "            await google.colab.kernel.invokeFunction('convertToInteractive',\n",
              "                                                     [key], {});\n",
              "          if (!dataTable) return;\n",
              "\n",
              "          const docLinkHtml = 'Like what you see? Visit the ' +\n",
              "            '<a target=\"_blank\" href=https://colab.research.google.com/notebooks/data_table.ipynb>data table notebook</a>'\n",
              "            + ' to learn more about interactive tables.';\n",
              "          element.innerHTML = '';\n",
              "          dataTable['output_type'] = 'display_data';\n",
              "          await google.colab.output.renderOutput(dataTable, element);\n",
              "          const docLink = document.createElement('div');\n",
              "          docLink.innerHTML = docLinkHtml;\n",
              "          element.appendChild(docLink);\n",
              "        }\n",
              "      </script>\n",
              "    </div>\n",
              "  </div>\n",
              "  "
            ]
          },
          "metadata": {},
          "execution_count": 10
        }
      ]
    },
    {
      "cell_type": "code",
      "source": [
        "data['ProcessID'] = data['ProcessID'].astype(\"category\")\n",
        "data['Workstation'] = data['Workstation'].astype(\"category\")"
      ],
      "metadata": {
        "id": "z6Pl9YvqKGdQ"
      },
      "execution_count": 11,
      "outputs": []
    },
    {
      "cell_type": "code",
      "source": [
        "# let's find the mean value of each process step \n",
        "data.groupby(['Workstation']).mean()"
      ],
      "metadata": {
        "id": "eUfdwMnmBDY6",
        "colab": {
          "base_uri": "https://localhost:8080/",
          "height": 238
        },
        "outputId": "10b90547-f7b1-4f48-a9e0-df139c0192bf"
      },
      "execution_count": 12,
      "outputs": [
        {
          "output_type": "execute_result",
          "data": {
            "text/plain": [
              "             RoundId    Seconds\n",
              "Workstation                    \n",
              "1              216.0  62.764706\n",
              "2              216.0  67.823529\n",
              "3              216.0  98.611111\n",
              "4              216.0  98.160000\n",
              "5              216.0  41.052632"
            ],
            "text/html": [
              "\n",
              "  <div id=\"df-ef18c4e8-7e7a-4297-a326-c6304823ab0e\">\n",
              "    <div class=\"colab-df-container\">\n",
              "      <div>\n",
              "<style scoped>\n",
              "    .dataframe tbody tr th:only-of-type {\n",
              "        vertical-align: middle;\n",
              "    }\n",
              "\n",
              "    .dataframe tbody tr th {\n",
              "        vertical-align: top;\n",
              "    }\n",
              "\n",
              "    .dataframe thead th {\n",
              "        text-align: right;\n",
              "    }\n",
              "</style>\n",
              "<table border=\"1\" class=\"dataframe\">\n",
              "  <thead>\n",
              "    <tr style=\"text-align: right;\">\n",
              "      <th></th>\n",
              "      <th>RoundId</th>\n",
              "      <th>Seconds</th>\n",
              "    </tr>\n",
              "    <tr>\n",
              "      <th>Workstation</th>\n",
              "      <th></th>\n",
              "      <th></th>\n",
              "    </tr>\n",
              "  </thead>\n",
              "  <tbody>\n",
              "    <tr>\n",
              "      <th>1</th>\n",
              "      <td>216.0</td>\n",
              "      <td>62.764706</td>\n",
              "    </tr>\n",
              "    <tr>\n",
              "      <th>2</th>\n",
              "      <td>216.0</td>\n",
              "      <td>67.823529</td>\n",
              "    </tr>\n",
              "    <tr>\n",
              "      <th>3</th>\n",
              "      <td>216.0</td>\n",
              "      <td>98.611111</td>\n",
              "    </tr>\n",
              "    <tr>\n",
              "      <th>4</th>\n",
              "      <td>216.0</td>\n",
              "      <td>98.160000</td>\n",
              "    </tr>\n",
              "    <tr>\n",
              "      <th>5</th>\n",
              "      <td>216.0</td>\n",
              "      <td>41.052632</td>\n",
              "    </tr>\n",
              "  </tbody>\n",
              "</table>\n",
              "</div>\n",
              "      <button class=\"colab-df-convert\" onclick=\"convertToInteractive('df-ef18c4e8-7e7a-4297-a326-c6304823ab0e')\"\n",
              "              title=\"Convert this dataframe to an interactive table.\"\n",
              "              style=\"display:none;\">\n",
              "        \n",
              "  <svg xmlns=\"http://www.w3.org/2000/svg\" height=\"24px\"viewBox=\"0 0 24 24\"\n",
              "       width=\"24px\">\n",
              "    <path d=\"M0 0h24v24H0V0z\" fill=\"none\"/>\n",
              "    <path d=\"M18.56 5.44l.94 2.06.94-2.06 2.06-.94-2.06-.94-.94-2.06-.94 2.06-2.06.94zm-11 1L8.5 8.5l.94-2.06 2.06-.94-2.06-.94L8.5 2.5l-.94 2.06-2.06.94zm10 10l.94 2.06.94-2.06 2.06-.94-2.06-.94-.94-2.06-.94 2.06-2.06.94z\"/><path d=\"M17.41 7.96l-1.37-1.37c-.4-.4-.92-.59-1.43-.59-.52 0-1.04.2-1.43.59L10.3 9.45l-7.72 7.72c-.78.78-.78 2.05 0 2.83L4 21.41c.39.39.9.59 1.41.59.51 0 1.02-.2 1.41-.59l7.78-7.78 2.81-2.81c.8-.78.8-2.07 0-2.86zM5.41 20L4 18.59l7.72-7.72 1.47 1.35L5.41 20z\"/>\n",
              "  </svg>\n",
              "      </button>\n",
              "      \n",
              "  <style>\n",
              "    .colab-df-container {\n",
              "      display:flex;\n",
              "      flex-wrap:wrap;\n",
              "      gap: 12px;\n",
              "    }\n",
              "\n",
              "    .colab-df-convert {\n",
              "      background-color: #E8F0FE;\n",
              "      border: none;\n",
              "      border-radius: 50%;\n",
              "      cursor: pointer;\n",
              "      display: none;\n",
              "      fill: #1967D2;\n",
              "      height: 32px;\n",
              "      padding: 0 0 0 0;\n",
              "      width: 32px;\n",
              "    }\n",
              "\n",
              "    .colab-df-convert:hover {\n",
              "      background-color: #E2EBFA;\n",
              "      box-shadow: 0px 1px 2px rgba(60, 64, 67, 0.3), 0px 1px 3px 1px rgba(60, 64, 67, 0.15);\n",
              "      fill: #174EA6;\n",
              "    }\n",
              "\n",
              "    [theme=dark] .colab-df-convert {\n",
              "      background-color: #3B4455;\n",
              "      fill: #D2E3FC;\n",
              "    }\n",
              "\n",
              "    [theme=dark] .colab-df-convert:hover {\n",
              "      background-color: #434B5C;\n",
              "      box-shadow: 0px 1px 3px 1px rgba(0, 0, 0, 0.15);\n",
              "      filter: drop-shadow(0px 1px 2px rgba(0, 0, 0, 0.3));\n",
              "      fill: #FFFFFF;\n",
              "    }\n",
              "  </style>\n",
              "\n",
              "      <script>\n",
              "        const buttonEl =\n",
              "          document.querySelector('#df-ef18c4e8-7e7a-4297-a326-c6304823ab0e button.colab-df-convert');\n",
              "        buttonEl.style.display =\n",
              "          google.colab.kernel.accessAllowed ? 'block' : 'none';\n",
              "\n",
              "        async function convertToInteractive(key) {\n",
              "          const element = document.querySelector('#df-ef18c4e8-7e7a-4297-a326-c6304823ab0e');\n",
              "          const dataTable =\n",
              "            await google.colab.kernel.invokeFunction('convertToInteractive',\n",
              "                                                     [key], {});\n",
              "          if (!dataTable) return;\n",
              "\n",
              "          const docLinkHtml = 'Like what you see? Visit the ' +\n",
              "            '<a target=\"_blank\" href=https://colab.research.google.com/notebooks/data_table.ipynb>data table notebook</a>'\n",
              "            + ' to learn more about interactive tables.';\n",
              "          element.innerHTML = '';\n",
              "          dataTable['output_type'] = 'display_data';\n",
              "          await google.colab.output.renderOutput(dataTable, element);\n",
              "          const docLink = document.createElement('div');\n",
              "          docLink.innerHTML = docLinkHtml;\n",
              "          element.appendChild(docLink);\n",
              "        }\n",
              "      </script>\n",
              "    </div>\n",
              "  </div>\n",
              "  "
            ]
          },
          "metadata": {},
          "execution_count": 12
        }
      ]
    },
    {
      "cell_type": "code",
      "source": [
        "data.plot(x='Start',y='Seconds')"
      ],
      "metadata": {
        "colab": {
          "base_uri": "https://localhost:8080/",
          "height": 296
        },
        "id": "sL8f8unsIP4k",
        "outputId": "d82322e9-ce35-43a9-e721-38762649739c"
      },
      "execution_count": 13,
      "outputs": [
        {
          "output_type": "execute_result",
          "data": {
            "text/plain": [
              "<matplotlib.axes._subplots.AxesSubplot at 0x7fa69ba95e50>"
            ]
          },
          "metadata": {},
          "execution_count": 13
        },
        {
          "output_type": "display_data",
          "data": {
            "text/plain": [
              "<Figure size 432x288 with 1 Axes>"
            ],
            "image/png": "[encoded data removed]"
          },
          "metadata": {
            "needs_background": "light"
          }
        }
      ]
    },
    {
      "cell_type": "code",
      "source": [
        "data.groupby(['Workstation'])['Seconds'].mean().plot.bar(subplots=True)"
      ],
      "metadata": {
        "colab": {
          "base_uri": "https://localhost:8080/",
          "height": 327
        },
        "id": "8EQamKSUJJJt",
        "outputId": "98dee6fd-4c22-4395-b55a-3c3a2790c94e"
      },
      "execution_count": 14,
      "outputs": [
        {
          "output_type": "execute_result",
          "data": {
            "text/plain": [
              "array([<matplotlib.axes._subplots.AxesSubplot object at 0x7fa69b9f1490>],\n",
              "      dtype=object)"
            ]
          },
          "metadata": {},
          "execution_count": 14
        },
        {
          "output_type": "display_data",
          "data": {
            "text/plain": [
              "<Figure size 432x288 with 1 Axes>"
            ],
            "image/png": "[encoded data removed]"
          },
          "metadata": {
            "needs_background": "light"
          }
        }
      ]
    },
    {
      "cell_type": "code",
      "source": [
        "data.groupby(['ProcessID'])['Seconds'].mean().plot.bar(subplots=True)"
      ],
      "metadata": {
        "colab": {
          "base_uri": "https://localhost:8080/",
          "height": 346
        },
        "id": "h1Vkqol7K_as",
        "outputId": "f15394e8-2c9c-4bc9-e9a5-bb9f702569bb"
      },
      "execution_count": 15,
      "outputs": [
        {
          "output_type": "execute_result",
          "data": {
            "text/plain": [
              "array([<matplotlib.axes._subplots.AxesSubplot object at 0x7fa69b4d3890>],\n",
              "      dtype=object)"
            ]
          },
          "metadata": {},
          "execution_count": 15
        },
        {
          "output_type": "display_data",
          "data": {
            "text/plain": [
              "<Figure size 432x288 with 1 Axes>"
            ],
            "image/png": "[encoded data removed]"
          },
          "metadata": {
            "needs_background": "light"
          }
        }
      ]
    },
    {
      "cell_type": "code",
      "source": [
        "data.groupby(['ProcessID']).apply(print)"
      ],
      "metadata": {
        "id": "fcSbJZuOM6My"
      },
      "execution_count": null,
      "outputs": []
    },
    {
      "cell_type": "markdown",
      "source": [
        "## Task: \n",
        "Please take a look at the Produktionsauftrag.csv - what can you find out? "
      ],
      "metadata": {
        "id": "Zzjdv7u2Nf3I"
      }
    },
    {
      "cell_type": "code",
      "source": [],
      "metadata": {
        "id": "SR4uGYDn4Q8v"
      },
      "execution_count": null,
      "outputs": []
    },
    {
      "cell_type": "markdown",
      "source": [
        "## Phase 3: Data Preparation \n",
        "Transformation / Feature engineering\n",
        "\n",
        "---\n",
        "\n",
        "\n",
        "Cleaning up data is part of nearly every machine learning project. It takes up a lot of time and is a necessity for a good model.\n",
        "\n",
        "**Select data:** Determine which data sets will be used and document reasons for inclusion/exclusion.\n",
        "\n",
        "**Clean data:** Often this is the lengthiest task. Without it, you’ll likely fall victim to garbage-in, garbage-out. A common practice during this task is to correct, impute, or remove erroneous values.\n",
        "\n",
        "**Construct data:** Derive new attributes that will be helpful. For example, derive someone’s body mass index from height and weight fields.\n",
        "\n",
        "**Integrate data:** Create new data sets by combining data from multiple sources.\n",
        "\n",
        "**Format data:** Re-format data as necessary. For example, you might convert string values that store numbers to numeric values so that you can perform mathematical operations."
      ],
      "metadata": {
        "id": "nogxAeg9N-kI"
      }
    },
    {
      "cell_type": "markdown",
      "source": [
        "Using the data can you match the ProcessID with a variant?"
      ],
      "metadata": {
        "id": "qOvFBMRi4OAm"
      }
    },
    {
      "cell_type": "code",
      "source": [],
      "metadata": {
        "id": "dbfKLtLsNxBN"
      },
      "execution_count": null,
      "outputs": []
    },
    {
      "cell_type": "markdown",
      "source": [
        "can you group the data based on the type of car and the workstation used? "
      ],
      "metadata": {
        "id": "h4pZzoVBOhsT"
      }
    },
    {
      "cell_type": "code",
      "source": [],
      "metadata": {
        "id": "xj6Ia1gSOm9G"
      },
      "execution_count": null,
      "outputs": []
    },
    {
      "cell_type": "markdown",
      "source": [
        "Can you maybe add more steps to the data set? Such as the start and the end? "
      ],
      "metadata": {
        "id": "ihHtCKwJUbbW"
      }
    },
    {
      "cell_type": "code",
      "source": [
        "# for each ProcessID add 2 rows to the datatable with station PPS and Storage? \n",
        "# think which time would be usefull? In which table would you find those data items? "
      ],
      "metadata": {
        "id": "wfBMVukbUb2a"
      },
      "execution_count": null,
      "outputs": []
    },
    {
      "cell_type": "markdown",
      "source": [
        "\n",
        "## End of Lab 1\n",
        "We now have gained an understanding of our data and prepared our data ...\n",
        "\n",
        "Please download the file after generation for further processing"
      ],
      "metadata": {
        "id": "98FdjJD7ON27"
      }
    },
    {
      "cell_type": "code",
      "source": [
        "data.to_csv('output.csv')"
      ],
      "metadata": {
        "id": "jYBqEVD8ORD6"
      },
      "execution_count": null,
      "outputs": []
    }
  ]
}