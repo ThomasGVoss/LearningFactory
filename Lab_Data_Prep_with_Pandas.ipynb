{
  "nbformat": 4,
  "nbformat_minor": 0,
  "metadata": {
    "colab": {
      "provenance": [],
      "authorship_tag": "ABX9TyM2rYL4TGFBVG3fBR+gE8Bz",
      "include_colab_link": true
    },
    "kernelspec": {
      "name": "python3",
      "display_name": "Python 3"
    },
    "language_info": {
      "name": "python"
    }
  },
  "cells": [
    {
      "cell_type": "markdown",
      "metadata": {
        "id": "view-in-github",
        "colab_type": "text"
      },
      "source": [
        "<a href=\"https://colab.research.google.com/github/ThomasGVoss/LearningFactory/blob/main/Lab_Data_Prep_with_Pandas.ipynb\" target=\"_parent\"><img src=\"https://colab.research.google.com/assets/colab-badge.svg\" alt=\"Open In Colab\"/></a>"
      ]
    },
    {
      "cell_type": "markdown",
      "source": [
        "## Basic Introduction\n",
        "\n",
        "The **CR**oss **I**ndustry **S**tandard **P**rocess for **D**ata **M**ining (CRISP-DM) is a process model that serves as the base for a data science process. It has six sequential phases:\n",
        "\n",
        "\n",
        "\n",
        "1.   Business understanding – What does the business need?\n",
        "2.   Data understanding – What data do we have / need? Is it clean?\n",
        "3.   Data preparation – How do we organize the data for modeling?\n",
        "4.   Modeling – What modeling techniques should we apply?\n",
        "5.   Evaluation – Which model best meets the business objectives?\n",
        "6.   Deployment – How do stakeholders access the results?\n",
        "\n",
        "\n",
        "Published in 1999 to standardize data mining processes across industries, it has since become the most common methodology for data mining, analytics, and data science projects.\n",
        "\n",
        "In this notebook we will take a look at the first three steps"
      ],
      "metadata": {
        "id": "BmtufzPd2djq"
      }
    },
    {
      "cell_type": "markdown",
      "source": [
        "## Phase 1: Business Understanding\n",
        "\n",
        "The Business Understanding phase focuses on understanding the objectives and requirements of the project. Aside from the third task, the three other tasks in this phase are foundational project management activities that are universal to most projects:\n",
        "\n",
        "**Determine business objectives:** You should first “thoroughly understand, from a business perspective, what the customer really wants to accomplish.” (CRISP-DM Guide) and then define business success criteria.\n",
        "\n",
        "**Assess situation:** Determine resources availability, project requirements, assess risks and contingencies, and conduct a cost-benefit analysis.\n",
        "\n",
        "**Determine data mining goals:** In addition to defining the business objectives, you should also define what success looks like from a technical data mining perspective.\n",
        "\n",
        "**Produce project plan:** Select technologies and tools and define detailed plans for each project phase.\n",
        "\n",
        "While many teams hurry through this phase, establishing a strong business understanding is like building the foundation of a house – absolutely essential.\n",
        "\n",
        "This enables close coordination between technical department of Data Scientists, Data Analysts and Data Engineers with business stakeholders."
      ],
      "metadata": {
        "id": "U6Yn2ZEL3BUV"
      }
    },
    {
      "cell_type": "markdown",
      "source": [
        "### Objective in this notebook\n",
        "For now, let us assume we are in the learning factory and we know, that some products take longer than others.\n",
        "\n",
        "We want to find out why this is the case. If possible, we want to derive actions to ensure, that all products are delivered on time!"
      ],
      "metadata": {
        "id": "xQgaL_N_q75f"
      }
    },
    {
      "cell_type": "markdown",
      "source": [
        "## Phase 2: Data Understanding\n",
        "\n",
        "\n",
        "Next is the Data Understanding phase. Adding to the foundation of Business Understanding, it drives the focus to identify, collect, and analyze the data sets that can help you accomplish the project goals. This phase also has four tasks:\n",
        "\n",
        "Collect initial data: Acquire the necessary data and (if necessary) load it into your analysis tool.\n",
        "Describe data: Examine the data and document its surface properties like data format, number of records, or field identities.\n",
        "Explore data: Dig deeper into the data. Query it, visualize it, and identify relationships among the data.\n",
        "Verify data quality: How clean/dirty is the data? Document any quality issues."
      ],
      "metadata": {
        "id": "QGnjIyIT3Ei_"
      }
    },
    {
      "cell_type": "code",
      "execution_count": 1,
      "metadata": {
        "id": "hMFYYqo75sQE"
      },
      "outputs": [],
      "source": [
        "import numpy as np                                # For matrix operations and numerical processing\n",
        "import pandas as pd                               # For munging tabular data\n",
        "import matplotlib.pyplot as plt                   # For charts and visualizations\n",
        "from IPython.display import Image                 # For displaying images in the notebook\n",
        "from IPython.display import display               # For displaying outputs in the notebook\n",
        "from time import gmtime, strftime                 # For labeling SageMaker models, endpoints, etc.\n",
        "import sys                                        # For writing outputs to notebook\n",
        "import math                                       # For ceiling function\n",
        "import json                                       # For parsing hosting outputs\n",
        "import os                                         # For manipulating filepath names\n",
        "import zipfile\n",
        "import seaborn as sns                               # For unzipping\n",
        "\n",
        "# ensure graphs are displayed correctly inline in this notebook\n",
        "%matplotlib inline"
      ]
    },
    {
      "cell_type": "markdown",
      "source": [
        "Collecting and Loading the data"
      ],
      "metadata": {
        "id": "uWCThRl63u79"
      }
    },
    {
      "cell_type": "code",
      "source": [
        "!wget https://raw.githubusercontent.com/ThomasGVoss/LearningFactory/main/apjournal.csv\n",
        "!wget https://raw.githubusercontent.com/ThomasGVoss/LearningFactory/main/kundenauftrag.csv\n",
        "!wget https://raw.githubusercontent.com/ThomasGVoss/LearningFactory/main/produktionsauftrag.csv\n"
      ],
      "metadata": {
        "id": "L5H87LZ_5suy",
        "colab": {
          "base_uri": "https://localhost:8080/"
        },
        "outputId": "aca3f313-d922-4fa0-bda4-8f2bf1434eb7"
      },
      "execution_count": 2,
      "outputs": [
        {
          "output_type": "stream",
          "name": "stdout",
          "text": [
            "--2023-10-04 09:10:40--  https://raw.githubusercontent.com/ThomasGVoss/LearningFactory/main/apjournal.csv\n",
            "Resolving raw.githubusercontent.com (raw.githubusercontent.com)... 185.199.110.133, 185.199.109.133, 185.199.108.133, ...\n",
            "Connecting to raw.githubusercontent.com (raw.githubusercontent.com)|185.199.110.133|:443... connected.\n",
            "HTTP request sent, awaiting response... 200 OK\n",
            "Length: 297142 (290K) [text/plain]\n",
            "Saving to: ‘apjournal.csv’\n",
            "\n",
            "apjournal.csv       100%[===================>] 290.18K  --.-KB/s    in 0.02s   \n",
            "\n",
            "2023-10-04 09:10:40 (12.2 MB/s) - ‘apjournal.csv’ saved [297142/297142]\n",
            "\n",
            "--2023-10-04 09:10:40--  https://raw.githubusercontent.com/ThomasGVoss/LearningFactory/main/kundenauftrag.csv\n",
            "Resolving raw.githubusercontent.com (raw.githubusercontent.com)... 185.199.110.133, 185.199.111.133, 185.199.109.133, ...\n",
            "Connecting to raw.githubusercontent.com (raw.githubusercontent.com)|185.199.110.133|:443... connected.\n",
            "HTTP request sent, awaiting response... 200 OK\n",
            "Length: 277956 (271K) [text/plain]\n",
            "Saving to: ‘kundenauftrag.csv’\n",
            "\n",
            "kundenauftrag.csv   100%[===================>] 271.44K  --.-KB/s    in 0.03s   \n",
            "\n",
            "2023-10-04 09:10:41 (8.96 MB/s) - ‘kundenauftrag.csv’ saved [277956/277956]\n",
            "\n",
            "--2023-10-04 09:10:41--  https://raw.githubusercontent.com/ThomasGVoss/LearningFactory/main/produktionsauftrag.csv\n",
            "Resolving raw.githubusercontent.com (raw.githubusercontent.com)... 185.199.111.133, 185.199.109.133, 185.199.110.133, ...\n",
            "Connecting to raw.githubusercontent.com (raw.githubusercontent.com)|185.199.111.133|:443... connected.\n",
            "HTTP request sent, awaiting response... 200 OK\n",
            "Length: 106696 (104K) [text/plain]\n",
            "Saving to: ‘produktionsauftrag.csv’\n",
            "\n",
            "produktionsauftrag. 100%[===================>] 104.20K  --.-KB/s    in 0.02s   \n",
            "\n",
            "2023-10-04 09:10:41 (6.74 MB/s) - ‘produktionsauftrag.csv’ saved [106696/106696]\n",
            "\n"
          ]
        }
      ]
    },
    {
      "cell_type": "code",
      "source": [
        "col = ['ProcessId','RoundId','Workstation','Null','Start','End']\n",
        "raw = pd.read_csv('/content/apjournal.csv', header=None, names=col, index_col=0 , sep=',',on_bad_lines='skip')\n",
        "pd.set_option('display.max_columns', 500)   # Make sure we can see all of the columns\n",
        "pd.set_option('display.max_rows', 20) # Keep the output on one page\n",
        "raw = raw.drop(columns='Null')\n"
      ],
      "metadata": {
        "id": "xWWYyzM87HnM"
      },
      "execution_count": 3,
      "outputs": []
    },
    {
      "cell_type": "markdown",
      "source": [
        "Let's start exploring the data. First, let's understand how the data looks and how it is distributed."
      ],
      "metadata": {
        "id": "FgDC0BkZBCMu"
      }
    },
    {
      "cell_type": "code",
      "source": [
        "raw.sample(5)"
      ],
      "metadata": {
        "colab": {
          "base_uri": "https://localhost:8080/",
          "height": 206
        },
        "id": "6djB0vaN2mmm",
        "outputId": "981d1966-7daa-458f-c18c-93074c9c6064"
      },
      "execution_count": 4,
      "outputs": [
        {
          "output_type": "execute_result",
          "data": {
            "text/plain": [
              "      ProcessId  RoundId  Workstation                Start  \\\n",
              "604         355       74            1  2018-08-07 12:18:13   \n",
              "3026       1381      186            3  2021-03-05 13:04:38   \n",
              "1583        711       91            1  2019-05-24 17:13:33   \n",
              "4100       1735      214            5  2022-08-26 14:11:01   \n",
              "3056       1381      186            5  2021-03-05 13:15:26   \n",
              "\n",
              "                      End  \n",
              "604   2018-08-07 12:33:18  \n",
              "3026  2021-03-05 13:08:47  \n",
              "1583  2019-05-24 17:14:37  \n",
              "4100  2022-08-26 14:11:47  \n",
              "3056  2021-03-05 13:16:03  "
            ],
            "text/html": [
              "\n",
              "  <div id=\"df-8f11b59f-aa8d-4f07-b48e-8129dacb77db\" class=\"colab-df-container\">\n",
              "    <div>\n",
              "<style scoped>\n",
              "    .dataframe tbody tr th:only-of-type {\n",
              "        vertical-align: middle;\n",
              "    }\n",
              "\n",
              "    .dataframe tbody tr th {\n",
              "        vertical-align: top;\n",
              "    }\n",
              "\n",
              "    .dataframe thead th {\n",
              "        text-align: right;\n",
              "    }\n",
              "</style>\n",
              "<table border=\"1\" class=\"dataframe\">\n",
              "  <thead>\n",
              "    <tr style=\"text-align: right;\">\n",
              "      <th></th>\n",
              "      <th>ProcessId</th>\n",
              "      <th>RoundId</th>\n",
              "      <th>Workstation</th>\n",
              "      <th>Start</th>\n",
              "      <th>End</th>\n",
              "    </tr>\n",
              "  </thead>\n",
              "  <tbody>\n",
              "    <tr>\n",
              "      <th>604</th>\n",
              "      <td>355</td>\n",
              "      <td>74</td>\n",
              "      <td>1</td>\n",
              "      <td>2018-08-07 12:18:13</td>\n",
              "      <td>2018-08-07 12:33:18</td>\n",
              "    </tr>\n",
              "    <tr>\n",
              "      <th>3026</th>\n",
              "      <td>1381</td>\n",
              "      <td>186</td>\n",
              "      <td>3</td>\n",
              "      <td>2021-03-05 13:04:38</td>\n",
              "      <td>2021-03-05 13:08:47</td>\n",
              "    </tr>\n",
              "    <tr>\n",
              "      <th>1583</th>\n",
              "      <td>711</td>\n",
              "      <td>91</td>\n",
              "      <td>1</td>\n",
              "      <td>2019-05-24 17:13:33</td>\n",
              "      <td>2019-05-24 17:14:37</td>\n",
              "    </tr>\n",
              "    <tr>\n",
              "      <th>4100</th>\n",
              "      <td>1735</td>\n",
              "      <td>214</td>\n",
              "      <td>5</td>\n",
              "      <td>2022-08-26 14:11:01</td>\n",
              "      <td>2022-08-26 14:11:47</td>\n",
              "    </tr>\n",
              "    <tr>\n",
              "      <th>3056</th>\n",
              "      <td>1381</td>\n",
              "      <td>186</td>\n",
              "      <td>5</td>\n",
              "      <td>2021-03-05 13:15:26</td>\n",
              "      <td>2021-03-05 13:16:03</td>\n",
              "    </tr>\n",
              "  </tbody>\n",
              "</table>\n",
              "</div>\n",
              "    <div class=\"colab-df-buttons\">\n",
              "\n",
              "  <div class=\"colab-df-container\">\n",
              "    <button class=\"colab-df-convert\" onclick=\"convertToInteractive('df-8f11b59f-aa8d-4f07-b48e-8129dacb77db')\"\n",
              "            title=\"Convert this dataframe to an interactive table.\"\n",
              "            style=\"display:none;\">\n",
              "\n",
              "  <svg xmlns=\"http://www.w3.org/2000/svg\" height=\"24px\" viewBox=\"0 -960 960 960\">\n",
              "    <path d=\"M120-120v-720h720v720H120Zm60-500h600v-160H180v160Zm220 220h160v-160H400v160Zm0 220h160v-160H400v160ZM180-400h160v-160H180v160Zm440 0h160v-160H620v160ZM180-180h160v-160H180v160Zm440 0h160v-160H620v160Z\"/>\n",
              "  </svg>\n",
              "    </button>\n",
              "\n",
              "  <style>\n",
              "    .colab-df-container {\n",
              "      display:flex;\n",
              "      gap: 12px;\n",
              "    }\n",
              "\n",
              "    .colab-df-convert {\n",
              "      background-color: #E8F0FE;\n",
              "      border: none;\n",
              "      border-radius: 50%;\n",
              "      cursor: pointer;\n",
              "      display: none;\n",
              "      fill: #1967D2;\n",
              "      height: 32px;\n",
              "      padding: 0 0 0 0;\n",
              "      width: 32px;\n",
              "    }\n",
              "\n",
              "    .colab-df-convert:hover {\n",
              "      background-color: #E2EBFA;\n",
              "      box-shadow: 0px 1px 2px rgba(60, 64, 67, 0.3), 0px 1px 3px 1px rgba(60, 64, 67, 0.15);\n",
              "      fill: #174EA6;\n",
              "    }\n",
              "\n",
              "    .colab-df-buttons div {\n",
              "      margin-bottom: 4px;\n",
              "    }\n",
              "\n",
              "    [theme=dark] .colab-df-convert {\n",
              "      background-color: #3B4455;\n",
              "      fill: #D2E3FC;\n",
              "    }\n",
              "\n",
              "    [theme=dark] .colab-df-convert:hover {\n",
              "      background-color: #434B5C;\n",
              "      box-shadow: 0px 1px 3px 1px rgba(0, 0, 0, 0.15);\n",
              "      filter: drop-shadow(0px 1px 2px rgba(0, 0, 0, 0.3));\n",
              "      fill: #FFFFFF;\n",
              "    }\n",
              "  </style>\n",
              "\n",
              "    <script>\n",
              "      const buttonEl =\n",
              "        document.querySelector('#df-8f11b59f-aa8d-4f07-b48e-8129dacb77db button.colab-df-convert');\n",
              "      buttonEl.style.display =\n",
              "        google.colab.kernel.accessAllowed ? 'block' : 'none';\n",
              "\n",
              "      async function convertToInteractive(key) {\n",
              "        const element = document.querySelector('#df-8f11b59f-aa8d-4f07-b48e-8129dacb77db');\n",
              "        const dataTable =\n",
              "          await google.colab.kernel.invokeFunction('convertToInteractive',\n",
              "                                                    [key], {});\n",
              "        if (!dataTable) return;\n",
              "\n",
              "        const docLinkHtml = 'Like what you see? Visit the ' +\n",
              "          '<a target=\"_blank\" href=https://colab.research.google.com/notebooks/data_table.ipynb>data table notebook</a>'\n",
              "          + ' to learn more about interactive tables.';\n",
              "        element.innerHTML = '';\n",
              "        dataTable['output_type'] = 'display_data';\n",
              "        await google.colab.output.renderOutput(dataTable, element);\n",
              "        const docLink = document.createElement('div');\n",
              "        docLink.innerHTML = docLinkHtml;\n",
              "        element.appendChild(docLink);\n",
              "      }\n",
              "    </script>\n",
              "  </div>\n",
              "\n",
              "\n",
              "<div id=\"df-a3a6e0e7-b540-4253-bda3-92f691ceacaf\">\n",
              "  <button class=\"colab-df-quickchart\" onclick=\"quickchart('df-a3a6e0e7-b540-4253-bda3-92f691ceacaf')\"\n",
              "            title=\"Suggest charts.\"\n",
              "            style=\"display:none;\">\n",
              "\n",
              "<svg xmlns=\"http://www.w3.org/2000/svg\" height=\"24px\"viewBox=\"0 0 24 24\"\n",
              "     width=\"24px\">\n",
              "    <g>\n",
              "        <path d=\"M19 3H5c-1.1 0-2 .9-2 2v14c0 1.1.9 2 2 2h14c1.1 0 2-.9 2-2V5c0-1.1-.9-2-2-2zM9 17H7v-7h2v7zm4 0h-2V7h2v10zm4 0h-2v-4h2v4z\"/>\n",
              "    </g>\n",
              "</svg>\n",
              "  </button>\n",
              "\n",
              "<style>\n",
              "  .colab-df-quickchart {\n",
              "      --bg-color: #E8F0FE;\n",
              "      --fill-color: #1967D2;\n",
              "      --hover-bg-color: #E2EBFA;\n",
              "      --hover-fill-color: #174EA6;\n",
              "      --disabled-fill-color: #AAA;\n",
              "      --disabled-bg-color: #DDD;\n",
              "  }\n",
              "\n",
              "  [theme=dark] .colab-df-quickchart {\n",
              "      --bg-color: #3B4455;\n",
              "      --fill-color: #D2E3FC;\n",
              "      --hover-bg-color: #434B5C;\n",
              "      --hover-fill-color: #FFFFFF;\n",
              "      --disabled-bg-color: #3B4455;\n",
              "      --disabled-fill-color: #666;\n",
              "  }\n",
              "\n",
              "  .colab-df-quickchart {\n",
              "    background-color: var(--bg-color);\n",
              "    border: none;\n",
              "    border-radius: 50%;\n",
              "    cursor: pointer;\n",
              "    display: none;\n",
              "    fill: var(--fill-color);\n",
              "    height: 32px;\n",
              "    padding: 0;\n",
              "    width: 32px;\n",
              "  }\n",
              "\n",
              "  .colab-df-quickchart:hover {\n",
              "    background-color: var(--hover-bg-color);\n",
              "    box-shadow: 0 1px 2px rgba(60, 64, 67, 0.3), 0 1px 3px 1px rgba(60, 64, 67, 0.15);\n",
              "    fill: var(--button-hover-fill-color);\n",
              "  }\n",
              "\n",
              "  .colab-df-quickchart-complete:disabled,\n",
              "  .colab-df-quickchart-complete:disabled:hover {\n",
              "    background-color: var(--disabled-bg-color);\n",
              "    fill: var(--disabled-fill-color);\n",
              "    box-shadow: none;\n",
              "  }\n",
              "\n",
              "  .colab-df-spinner {\n",
              "    border: 2px solid var(--fill-color);\n",
              "    border-color: transparent;\n",
              "    border-bottom-color: var(--fill-color);\n",
              "    animation:\n",
              "      spin 1s steps(1) infinite;\n",
              "  }\n",
              "\n",
              "  @keyframes spin {\n",
              "    0% {\n",
              "      border-color: transparent;\n",
              "      border-bottom-color: var(--fill-color);\n",
              "      border-left-color: var(--fill-color);\n",
              "    }\n",
              "    20% {\n",
              "      border-color: transparent;\n",
              "      border-left-color: var(--fill-color);\n",
              "      border-top-color: var(--fill-color);\n",
              "    }\n",
              "    30% {\n",
              "      border-color: transparent;\n",
              "      border-left-color: var(--fill-color);\n",
              "      border-top-color: var(--fill-color);\n",
              "      border-right-color: var(--fill-color);\n",
              "    }\n",
              "    40% {\n",
              "      border-color: transparent;\n",
              "      border-right-color: var(--fill-color);\n",
              "      border-top-color: var(--fill-color);\n",
              "    }\n",
              "    60% {\n",
              "      border-color: transparent;\n",
              "      border-right-color: var(--fill-color);\n",
              "    }\n",
              "    80% {\n",
              "      border-color: transparent;\n",
              "      border-right-color: var(--fill-color);\n",
              "      border-bottom-color: var(--fill-color);\n",
              "    }\n",
              "    90% {\n",
              "      border-color: transparent;\n",
              "      border-bottom-color: var(--fill-color);\n",
              "    }\n",
              "  }\n",
              "</style>\n",
              "\n",
              "  <script>\n",
              "    async function quickchart(key) {\n",
              "      const quickchartButtonEl =\n",
              "        document.querySelector('#' + key + ' button');\n",
              "      quickchartButtonEl.disabled = true;  // To prevent multiple clicks.\n",
              "      quickchartButtonEl.classList.add('colab-df-spinner');\n",
              "      try {\n",
              "        const charts = await google.colab.kernel.invokeFunction(\n",
              "            'suggestCharts', [key], {});\n",
              "      } catch (error) {\n",
              "        console.error('Error during call to suggestCharts:', error);\n",
              "      }\n",
              "      quickchartButtonEl.classList.remove('colab-df-spinner');\n",
              "      quickchartButtonEl.classList.add('colab-df-quickchart-complete');\n",
              "    }\n",
              "    (() => {\n",
              "      let quickchartButtonEl =\n",
              "        document.querySelector('#df-a3a6e0e7-b540-4253-bda3-92f691ceacaf button');\n",
              "      quickchartButtonEl.style.display =\n",
              "        google.colab.kernel.accessAllowed ? 'block' : 'none';\n",
              "    })();\n",
              "  </script>\n",
              "</div>\n",
              "    </div>\n",
              "  </div>\n"
            ]
          },
          "metadata": {},
          "execution_count": 4
        }
      ]
    },
    {
      "cell_type": "code",
      "source": [
        "raw = raw[raw['RoundId'] == 216 ]"
      ],
      "metadata": {
        "id": "Bdynbjk3AwIf"
      },
      "execution_count": 5,
      "outputs": []
    },
    {
      "cell_type": "code",
      "source": [
        "# Two ways to format the Start and Ende Colums to the datetime object\n",
        "raw['Start'] = pd.to_datetime(raw['Start'])\n",
        "#data['End'] = pd.to_datetime(data['End'])\n",
        "raw['End'] = raw['End'].astype('datetime64[ns]')"
      ],
      "metadata": {
        "id": "a2-UPlUwJj7l"
      },
      "execution_count": 6,
      "outputs": []
    },
    {
      "cell_type": "code",
      "source": [
        "# The Process ID as well as the Workstation are discrete categorical variables\n",
        "raw['ProcessId'] = raw['ProcessId'].astype(\"int\")\n",
        "raw['Workstation'] = raw['Workstation'].astype(\"category\")\n",
        "raw['RoundId'] = raw['RoundId'].astype(\"category\")"
      ],
      "metadata": {
        "id": "z6Pl9YvqKGdQ"
      },
      "execution_count": 8,
      "outputs": []
    },
    {
      "cell_type": "code",
      "source": [
        "raw.dtypes"
      ],
      "metadata": {
        "colab": {
          "base_uri": "https://localhost:8080/"
        },
        "id": "yC5AM3bw3JZI",
        "outputId": "753d1dca-bec4-409d-8b7d-6eab33b142b1"
      },
      "execution_count": 9,
      "outputs": [
        {
          "output_type": "execute_result",
          "data": {
            "text/plain": [
              "ProcessId               int64\n",
              "RoundId              category\n",
              "Workstation          category\n",
              "Start          datetime64[ns]\n",
              "End            datetime64[ns]\n",
              "dtype: object"
            ]
          },
          "metadata": {},
          "execution_count": 9
        }
      ]
    },
    {
      "cell_type": "markdown",
      "source": [
        "Let's take a look into the round we played during the course and talk about it\n",
        "\n"
      ],
      "metadata": {
        "id": "H8t60yVeAwtz"
      }
    },
    {
      "cell_type": "code",
      "source": [
        "raw['ProcessId']"
      ],
      "metadata": {
        "colab": {
          "base_uri": "https://localhost:8080/"
        },
        "id": "qCEGM7JfI4Jh",
        "outputId": "f996986f-5d68-4519-9a45-b83afc5a90b7"
      },
      "execution_count": 11,
      "outputs": [
        {
          "output_type": "execute_result",
          "data": {
            "text/plain": [
              "4125    1745\n",
              "4126    1745\n",
              "4127    1746\n",
              "4128    1747\n",
              "4129    1745\n",
              "        ... \n",
              "4217    1762\n",
              "4218    1759\n",
              "4219    1762\n",
              "4220    1762\n",
              "4221    1762\n",
              "Name: ProcessId, Length: 97, dtype: int64"
            ]
          },
          "metadata": {},
          "execution_count": 11
        }
      ]
    },
    {
      "cell_type": "code",
      "source": [
        "plt.scatter(raw['Start'],raw['ProcessId'])\n",
        "plt.xlabel('Process Start')\n",
        "plt.ylabel('Process Id')"
      ],
      "metadata": {
        "colab": {
          "base_uri": "https://localhost:8080/",
          "height": 466
        },
        "id": "QXGofW_puZ_8",
        "outputId": "b6276987-59dc-4cc9-90b5-c5fa95589c7b"
      },
      "execution_count": 14,
      "outputs": [
        {
          "output_type": "execute_result",
          "data": {
            "text/plain": [
              "Text(0, 0.5, 'Process Id')"
            ]
          },
          "metadata": {},
          "execution_count": 14
        },
        {
          "output_type": "display_data",
          "data": {
            "text/plain": [
              "<Figure size 640x480 with 1 Axes>"
            ],
            "image/png": "[encoded data removed]"
          },
          "metadata": {}
        }
      ]
    },
    {
      "cell_type": "code",
      "source": [
        "# group all entries by the ProcessID and see if this matches the production process\n",
        "print(raw.groupby(['ProcessId']).size())"
      ],
      "metadata": {
        "colab": {
          "base_uri": "https://localhost:8080/"
        },
        "id": "h2t-NrVKbgIk",
        "outputId": "f4b5701b-d58a-4bee-96da-e4a3ec4ddc2d"
      },
      "execution_count": 15,
      "outputs": [
        {
          "output_type": "stream",
          "name": "stdout",
          "text": [
            "ProcessId\n",
            "1745    8\n",
            "1746    9\n",
            "1747    5\n",
            "1748    6\n",
            "1749    5\n",
            "1750    6\n",
            "1751    4\n",
            "1752    5\n",
            "1753    6\n",
            "1754    5\n",
            "1755    5\n",
            "1756    5\n",
            "1757    6\n",
            "1758    5\n",
            "1759    6\n",
            "1760    1\n",
            "1761    5\n",
            "1762    5\n",
            "dtype: int64\n"
          ]
        }
      ]
    },
    {
      "cell_type": "code",
      "source": [
        "# Grouping to find out how many samples we have for each station\n",
        "raw.groupby('Workstation').size()"
      ],
      "metadata": {
        "id": "NuH93T28Ac-v",
        "colab": {
          "base_uri": "https://localhost:8080/"
        },
        "outputId": "c5c25669-a8bb-4122-a938-e85b49d479dd"
      },
      "execution_count": 16,
      "outputs": [
        {
          "output_type": "execute_result",
          "data": {
            "text/plain": [
              "Workstation\n",
              "1    18\n",
              "2    17\n",
              "3    18\n",
              "4    25\n",
              "5    19\n",
              "dtype: int64"
            ]
          },
          "metadata": {},
          "execution_count": 16
        }
      ]
    },
    {
      "cell_type": "code",
      "source": [
        "plt.scatter(raw['Start'],raw['Workstation'])\n",
        "plt.xlabel('Process Start')\n",
        "plt.ylabel('Workstation')"
      ],
      "metadata": {
        "colab": {
          "base_uri": "https://localhost:8080/",
          "height": 466
        },
        "id": "A8EoTA1sKI3-",
        "outputId": "eba86a5b-d1af-4d24-abd9-8005bd83db72"
      },
      "execution_count": 17,
      "outputs": [
        {
          "output_type": "execute_result",
          "data": {
            "text/plain": [
              "Text(0, 0.5, 'Workstation')"
            ]
          },
          "metadata": {},
          "execution_count": 17
        },
        {
          "output_type": "display_data",
          "data": {
            "text/plain": [
              "<Figure size 640x480 with 1 Axes>"
            ],
            "image/png": "[encoded data removed]"
          },
          "metadata": {}
        }
      ]
    },
    {
      "cell_type": "markdown",
      "source": [
        "Given that we did essemble no more than 15 cars with 5 stations each, the numbers seem to have some errors. Especially it might help to investigate the process 1745,1746, as well as 1760."
      ],
      "metadata": {
        "id": "RqEPgNadbJvL"
      }
    },
    {
      "cell_type": "code",
      "source": [
        "sample_data = raw.loc[raw['ProcessId'] == 1745]\n",
        "#sample_data = raw.loc[raw['ProcessId'] == 1746]\n",
        "print(sample_data)"
      ],
      "metadata": {
        "colab": {
          "base_uri": "https://localhost:8080/"
        },
        "id": "tc3eD0eBdCM0",
        "outputId": "4148c43a-f9f4-4ae2-b0ab-82a9adacde0d"
      },
      "execution_count": 19,
      "outputs": [
        {
          "output_type": "stream",
          "name": "stdout",
          "text": [
            "      ProcessId RoundId Workstation               Start                 End\n",
            "4125       1745     216           1 2022-09-02 19:29:26 2022-09-02 19:30:27\n",
            "4126       1745     216           2 2022-09-02 19:30:29 2022-09-02 19:32:32\n",
            "4129       1745     216           3 2022-09-02 19:32:35 2022-09-02 19:34:29\n",
            "4134       1745     216           4 2022-09-02 19:34:35 2022-09-02 19:36:03\n",
            "4137       1745     216           4 2022-09-02 19:35:23 2022-09-02 19:36:03\n",
            "4138       1745     216           4 2022-09-02 19:35:26 2022-09-02 19:36:03\n",
            "4139       1745     216           4 2022-09-02 19:35:30 2022-09-02 19:36:03\n",
            "4141       1745     216           5 2022-09-02 19:36:06 2022-09-02 19:36:17\n"
          ]
        }
      ]
    },
    {
      "cell_type": "code",
      "source": [
        "plt.scatter(sample_data['Start'],sample_data['Workstation'], color = 'g')\n",
        "plt.scatter(sample_data['End'],sample_data['Workstation'], color = 'r')\n",
        "plt.xlabel('Process Start')\n",
        "plt.ylabel('Workstation')"
      ],
      "metadata": {
        "colab": {
          "base_uri": "https://localhost:8080/",
          "height": 466
        },
        "id": "i_nBEO_4LOvn",
        "outputId": "34d6f630-6ab1-45d4-96ee-b3b9c3fa4882"
      },
      "execution_count": 20,
      "outputs": [
        {
          "output_type": "execute_result",
          "data": {
            "text/plain": [
              "Text(0, 0.5, 'Workstation')"
            ]
          },
          "metadata": {},
          "execution_count": 20
        },
        {
          "output_type": "display_data",
          "data": {
            "text/plain": [
              "<Figure size 640x480 with 1 Axes>"
            ],
            "image/png": "[encoded data removed]"
          },
          "metadata": {}
        }
      ]
    },
    {
      "cell_type": "code",
      "source": [
        "raw.loc[raw['ProcessId'] == 1760]"
      ],
      "metadata": {
        "id": "xHx1BsnCJfmv",
        "colab": {
          "base_uri": "https://localhost:8080/",
          "height": 81
        },
        "outputId": "dc002828-310f-4350-ebf2-f8f4804716af"
      },
      "execution_count": 22,
      "outputs": [
        {
          "output_type": "execute_result",
          "data": {
            "text/plain": [
              "      ProcessId RoundId Workstation               Start End\n",
              "4203       1760     216           1 2022-09-02 20:00:36 NaT"
            ],
            "text/html": [
              "\n",
              "  <div id=\"df-e2bdcd1a-be3d-4c6d-b296-f80dbff81565\" class=\"colab-df-container\">\n",
              "    <div>\n",
              "<style scoped>\n",
              "    .dataframe tbody tr th:only-of-type {\n",
              "        vertical-align: middle;\n",
              "    }\n",
              "\n",
              "    .dataframe tbody tr th {\n",
              "        vertical-align: top;\n",
              "    }\n",
              "\n",
              "    .dataframe thead th {\n",
              "        text-align: right;\n",
              "    }\n",
              "</style>\n",
              "<table border=\"1\" class=\"dataframe\">\n",
              "  <thead>\n",
              "    <tr style=\"text-align: right;\">\n",
              "      <th></th>\n",
              "      <th>ProcessId</th>\n",
              "      <th>RoundId</th>\n",
              "      <th>Workstation</th>\n",
              "      <th>Start</th>\n",
              "      <th>End</th>\n",
              "    </tr>\n",
              "  </thead>\n",
              "  <tbody>\n",
              "    <tr>\n",
              "      <th>4203</th>\n",
              "      <td>1760</td>\n",
              "      <td>216</td>\n",
              "      <td>1</td>\n",
              "      <td>2022-09-02 20:00:36</td>\n",
              "      <td>NaT</td>\n",
              "    </tr>\n",
              "  </tbody>\n",
              "</table>\n",
              "</div>\n",
              "    <div class=\"colab-df-buttons\">\n",
              "\n",
              "  <div class=\"colab-df-container\">\n",
              "    <button class=\"colab-df-convert\" onclick=\"convertToInteractive('df-e2bdcd1a-be3d-4c6d-b296-f80dbff81565')\"\n",
              "            title=\"Convert this dataframe to an interactive table.\"\n",
              "            style=\"display:none;\">\n",
              "\n",
              "  <svg xmlns=\"http://www.w3.org/2000/svg\" height=\"24px\" viewBox=\"0 -960 960 960\">\n",
              "    <path d=\"M120-120v-720h720v720H120Zm60-500h600v-160H180v160Zm220 220h160v-160H400v160Zm0 220h160v-160H400v160ZM180-400h160v-160H180v160Zm440 0h160v-160H620v160ZM180-180h160v-160H180v160Zm440 0h160v-160H620v160Z\"/>\n",
              "  </svg>\n",
              "    </button>\n",
              "\n",
              "  <style>\n",
              "    .colab-df-container {\n",
              "      display:flex;\n",
              "      gap: 12px;\n",
              "    }\n",
              "\n",
              "    .colab-df-convert {\n",
              "      background-color: #E8F0FE;\n",
              "      border: none;\n",
              "      border-radius: 50%;\n",
              "      cursor: pointer;\n",
              "      display: none;\n",
              "      fill: #1967D2;\n",
              "      height: 32px;\n",
              "      padding: 0 0 0 0;\n",
              "      width: 32px;\n",
              "    }\n",
              "\n",
              "    .colab-df-convert:hover {\n",
              "      background-color: #E2EBFA;\n",
              "      box-shadow: 0px 1px 2px rgba(60, 64, 67, 0.3), 0px 1px 3px 1px rgba(60, 64, 67, 0.15);\n",
              "      fill: #174EA6;\n",
              "    }\n",
              "\n",
              "    .colab-df-buttons div {\n",
              "      margin-bottom: 4px;\n",
              "    }\n",
              "\n",
              "    [theme=dark] .colab-df-convert {\n",
              "      background-color: #3B4455;\n",
              "      fill: #D2E3FC;\n",
              "    }\n",
              "\n",
              "    [theme=dark] .colab-df-convert:hover {\n",
              "      background-color: #434B5C;\n",
              "      box-shadow: 0px 1px 3px 1px rgba(0, 0, 0, 0.15);\n",
              "      filter: drop-shadow(0px 1px 2px rgba(0, 0, 0, 0.3));\n",
              "      fill: #FFFFFF;\n",
              "    }\n",
              "  </style>\n",
              "\n",
              "    <script>\n",
              "      const buttonEl =\n",
              "        document.querySelector('#df-e2bdcd1a-be3d-4c6d-b296-f80dbff81565 button.colab-df-convert');\n",
              "      buttonEl.style.display =\n",
              "        google.colab.kernel.accessAllowed ? 'block' : 'none';\n",
              "\n",
              "      async function convertToInteractive(key) {\n",
              "        const element = document.querySelector('#df-e2bdcd1a-be3d-4c6d-b296-f80dbff81565');\n",
              "        const dataTable =\n",
              "          await google.colab.kernel.invokeFunction('convertToInteractive',\n",
              "                                                    [key], {});\n",
              "        if (!dataTable) return;\n",
              "\n",
              "        const docLinkHtml = 'Like what you see? Visit the ' +\n",
              "          '<a target=\"_blank\" href=https://colab.research.google.com/notebooks/data_table.ipynb>data table notebook</a>'\n",
              "          + ' to learn more about interactive tables.';\n",
              "        element.innerHTML = '';\n",
              "        dataTable['output_type'] = 'display_data';\n",
              "        await google.colab.output.renderOutput(dataTable, element);\n",
              "        const docLink = document.createElement('div');\n",
              "        docLink.innerHTML = docLinkHtml;\n",
              "        element.appendChild(docLink);\n",
              "      }\n",
              "    </script>\n",
              "  </div>\n",
              "\n",
              "    </div>\n",
              "  </div>\n"
            ]
          },
          "metadata": {},
          "execution_count": 22
        }
      ]
    },
    {
      "cell_type": "markdown",
      "source": [
        " Since we still have the index, we could drop values with error, in case we need to. Possible options are 4137, 4138, 4139, 4142, 4152, 4157, 4170 and 4173\n",
        "\n"
      ],
      "metadata": {
        "id": "s5CxMrfMDEq4"
      }
    },
    {
      "cell_type": "code",
      "source": [
        "data_proc = raw\n",
        "#data_proc = data.drop(index=[4137,4138,4139,4142,4152,4157,4170])"
      ],
      "metadata": {
        "id": "erutco1hfhNS"
      },
      "execution_count": 23,
      "outputs": []
    },
    {
      "cell_type": "code",
      "source": [
        "#Generate the duration based on the end and the start date\n",
        "data_proc['Duration'] = data_proc['End'] - data_proc['Start']\n",
        "\n",
        "# Series.dt - Accessor object for datetimelike properties of the Series values.\n",
        "data_proc['ProcessDurationInSeconds'] = data_proc['Duration'].dt.total_seconds()\n",
        "\n",
        "#drop the duration col\n",
        "data_proc = data_proc.drop(columns=['Duration'])"
      ],
      "metadata": {
        "id": "HpqlQxM0cpdM"
      },
      "execution_count": 24,
      "outputs": []
    },
    {
      "cell_type": "code",
      "source": [
        "# Get the most basic information about the dataset\n",
        "data_proc.describe()"
      ],
      "metadata": {
        "id": "Dfy6oOX3KCgF",
        "colab": {
          "base_uri": "https://localhost:8080/",
          "height": 301
        },
        "outputId": "a2ea4f9e-7542-49ff-b6bc-f10b8f328d93"
      },
      "execution_count": 25,
      "outputs": [
        {
          "output_type": "execute_result",
          "data": {
            "text/plain": [
              "         ProcessId  ProcessDurationInSeconds\n",
              "count    97.000000                 96.000000\n",
              "mean   1752.680412                 75.302083\n",
              "std       5.312223                 73.804738\n",
              "min    1745.000000                  1.000000\n",
              "25%    1748.000000                 30.500000\n",
              "50%    1753.000000                 62.000000\n",
              "75%    1757.000000                 94.000000\n",
              "max    1762.000000                414.000000"
            ],
            "text/html": [
              "\n",
              "  <div id=\"df-9d36b054-4eba-446d-89c3-02716272154e\" class=\"colab-df-container\">\n",
              "    <div>\n",
              "<style scoped>\n",
              "    .dataframe tbody tr th:only-of-type {\n",
              "        vertical-align: middle;\n",
              "    }\n",
              "\n",
              "    .dataframe tbody tr th {\n",
              "        vertical-align: top;\n",
              "    }\n",
              "\n",
              "    .dataframe thead th {\n",
              "        text-align: right;\n",
              "    }\n",
              "</style>\n",
              "<table border=\"1\" class=\"dataframe\">\n",
              "  <thead>\n",
              "    <tr style=\"text-align: right;\">\n",
              "      <th></th>\n",
              "      <th>ProcessId</th>\n",
              "      <th>ProcessDurationInSeconds</th>\n",
              "    </tr>\n",
              "  </thead>\n",
              "  <tbody>\n",
              "    <tr>\n",
              "      <th>count</th>\n",
              "      <td>97.000000</td>\n",
              "      <td>96.000000</td>\n",
              "    </tr>\n",
              "    <tr>\n",
              "      <th>mean</th>\n",
              "      <td>1752.680412</td>\n",
              "      <td>75.302083</td>\n",
              "    </tr>\n",
              "    <tr>\n",
              "      <th>std</th>\n",
              "      <td>5.312223</td>\n",
              "      <td>73.804738</td>\n",
              "    </tr>\n",
              "    <tr>\n",
              "      <th>min</th>\n",
              "      <td>1745.000000</td>\n",
              "      <td>1.000000</td>\n",
              "    </tr>\n",
              "    <tr>\n",
              "      <th>25%</th>\n",
              "      <td>1748.000000</td>\n",
              "      <td>30.500000</td>\n",
              "    </tr>\n",
              "    <tr>\n",
              "      <th>50%</th>\n",
              "      <td>1753.000000</td>\n",
              "      <td>62.000000</td>\n",
              "    </tr>\n",
              "    <tr>\n",
              "      <th>75%</th>\n",
              "      <td>1757.000000</td>\n",
              "      <td>94.000000</td>\n",
              "    </tr>\n",
              "    <tr>\n",
              "      <th>max</th>\n",
              "      <td>1762.000000</td>\n",
              "      <td>414.000000</td>\n",
              "    </tr>\n",
              "  </tbody>\n",
              "</table>\n",
              "</div>\n",
              "    <div class=\"colab-df-buttons\">\n",
              "\n",
              "  <div class=\"colab-df-container\">\n",
              "    <button class=\"colab-df-convert\" onclick=\"convertToInteractive('df-9d36b054-4eba-446d-89c3-02716272154e')\"\n",
              "            title=\"Convert this dataframe to an interactive table.\"\n",
              "            style=\"display:none;\">\n",
              "\n",
              "  <svg xmlns=\"http://www.w3.org/2000/svg\" height=\"24px\" viewBox=\"0 -960 960 960\">\n",
              "    <path d=\"M120-120v-720h720v720H120Zm60-500h600v-160H180v160Zm220 220h160v-160H400v160Zm0 220h160v-160H400v160ZM180-400h160v-160H180v160Zm440 0h160v-160H620v160ZM180-180h160v-160H180v160Zm440 0h160v-160H620v160Z\"/>\n",
              "  </svg>\n",
              "    </button>\n",
              "\n",
              "  <style>\n",
              "    .colab-df-container {\n",
              "      display:flex;\n",
              "      gap: 12px;\n",
              "    }\n",
              "\n",
              "    .colab-df-convert {\n",
              "      background-color: #E8F0FE;\n",
              "      border: none;\n",
              "      border-radius: 50%;\n",
              "      cursor: pointer;\n",
              "      display: none;\n",
              "      fill: #1967D2;\n",
              "      height: 32px;\n",
              "      padding: 0 0 0 0;\n",
              "      width: 32px;\n",
              "    }\n",
              "\n",
              "    .colab-df-convert:hover {\n",
              "      background-color: #E2EBFA;\n",
              "      box-shadow: 0px 1px 2px rgba(60, 64, 67, 0.3), 0px 1px 3px 1px rgba(60, 64, 67, 0.15);\n",
              "      fill: #174EA6;\n",
              "    }\n",
              "\n",
              "    .colab-df-buttons div {\n",
              "      margin-bottom: 4px;\n",
              "    }\n",
              "\n",
              "    [theme=dark] .colab-df-convert {\n",
              "      background-color: #3B4455;\n",
              "      fill: #D2E3FC;\n",
              "    }\n",
              "\n",
              "    [theme=dark] .colab-df-convert:hover {\n",
              "      background-color: #434B5C;\n",
              "      box-shadow: 0px 1px 3px 1px rgba(0, 0, 0, 0.15);\n",
              "      filter: drop-shadow(0px 1px 2px rgba(0, 0, 0, 0.3));\n",
              "      fill: #FFFFFF;\n",
              "    }\n",
              "  </style>\n",
              "\n",
              "    <script>\n",
              "      const buttonEl =\n",
              "        document.querySelector('#df-9d36b054-4eba-446d-89c3-02716272154e button.colab-df-convert');\n",
              "      buttonEl.style.display =\n",
              "        google.colab.kernel.accessAllowed ? 'block' : 'none';\n",
              "\n",
              "      async function convertToInteractive(key) {\n",
              "        const element = document.querySelector('#df-9d36b054-4eba-446d-89c3-02716272154e');\n",
              "        const dataTable =\n",
              "          await google.colab.kernel.invokeFunction('convertToInteractive',\n",
              "                                                    [key], {});\n",
              "        if (!dataTable) return;\n",
              "\n",
              "        const docLinkHtml = 'Like what you see? Visit the ' +\n",
              "          '<a target=\"_blank\" href=https://colab.research.google.com/notebooks/data_table.ipynb>data table notebook</a>'\n",
              "          + ' to learn more about interactive tables.';\n",
              "        element.innerHTML = '';\n",
              "        dataTable['output_type'] = 'display_data';\n",
              "        await google.colab.output.renderOutput(dataTable, element);\n",
              "        const docLink = document.createElement('div');\n",
              "        docLink.innerHTML = docLinkHtml;\n",
              "        element.appendChild(docLink);\n",
              "      }\n",
              "    </script>\n",
              "  </div>\n",
              "\n",
              "\n",
              "<div id=\"df-578b236b-01bf-465d-9e42-667655828b11\">\n",
              "  <button class=\"colab-df-quickchart\" onclick=\"quickchart('df-578b236b-01bf-465d-9e42-667655828b11')\"\n",
              "            title=\"Suggest charts.\"\n",
              "            style=\"display:none;\">\n",
              "\n",
              "<svg xmlns=\"http://www.w3.org/2000/svg\" height=\"24px\"viewBox=\"0 0 24 24\"\n",
              "     width=\"24px\">\n",
              "    <g>\n",
              "        <path d=\"M19 3H5c-1.1 0-2 .9-2 2v14c0 1.1.9 2 2 2h14c1.1 0 2-.9 2-2V5c0-1.1-.9-2-2-2zM9 17H7v-7h2v7zm4 0h-2V7h2v10zm4 0h-2v-4h2v4z\"/>\n",
              "    </g>\n",
              "</svg>\n",
              "  </button>\n",
              "\n",
              "<style>\n",
              "  .colab-df-quickchart {\n",
              "      --bg-color: #E8F0FE;\n",
              "      --fill-color: #1967D2;\n",
              "      --hover-bg-color: #E2EBFA;\n",
              "      --hover-fill-color: #174EA6;\n",
              "      --disabled-fill-color: #AAA;\n",
              "      --disabled-bg-color: #DDD;\n",
              "  }\n",
              "\n",
              "  [theme=dark] .colab-df-quickchart {\n",
              "      --bg-color: #3B4455;\n",
              "      --fill-color: #D2E3FC;\n",
              "      --hover-bg-color: #434B5C;\n",
              "      --hover-fill-color: #FFFFFF;\n",
              "      --disabled-bg-color: #3B4455;\n",
              "      --disabled-fill-color: #666;\n",
              "  }\n",
              "\n",
              "  .colab-df-quickchart {\n",
              "    background-color: var(--bg-color);\n",
              "    border: none;\n",
              "    border-radius: 50%;\n",
              "    cursor: pointer;\n",
              "    display: none;\n",
              "    fill: var(--fill-color);\n",
              "    height: 32px;\n",
              "    padding: 0;\n",
              "    width: 32px;\n",
              "  }\n",
              "\n",
              "  .colab-df-quickchart:hover {\n",
              "    background-color: var(--hover-bg-color);\n",
              "    box-shadow: 0 1px 2px rgba(60, 64, 67, 0.3), 0 1px 3px 1px rgba(60, 64, 67, 0.15);\n",
              "    fill: var(--button-hover-fill-color);\n",
              "  }\n",
              "\n",
              "  .colab-df-quickchart-complete:disabled,\n",
              "  .colab-df-quickchart-complete:disabled:hover {\n",
              "    background-color: var(--disabled-bg-color);\n",
              "    fill: var(--disabled-fill-color);\n",
              "    box-shadow: none;\n",
              "  }\n",
              "\n",
              "  .colab-df-spinner {\n",
              "    border: 2px solid var(--fill-color);\n",
              "    border-color: transparent;\n",
              "    border-bottom-color: var(--fill-color);\n",
              "    animation:\n",
              "      spin 1s steps(1) infinite;\n",
              "  }\n",
              "\n",
              "  @keyframes spin {\n",
              "    0% {\n",
              "      border-color: transparent;\n",
              "      border-bottom-color: var(--fill-color);\n",
              "      border-left-color: var(--fill-color);\n",
              "    }\n",
              "    20% {\n",
              "      border-color: transparent;\n",
              "      border-left-color: var(--fill-color);\n",
              "      border-top-color: var(--fill-color);\n",
              "    }\n",
              "    30% {\n",
              "      border-color: transparent;\n",
              "      border-left-color: var(--fill-color);\n",
              "      border-top-color: var(--fill-color);\n",
              "      border-right-color: var(--fill-color);\n",
              "    }\n",
              "    40% {\n",
              "      border-color: transparent;\n",
              "      border-right-color: var(--fill-color);\n",
              "      border-top-color: var(--fill-color);\n",
              "    }\n",
              "    60% {\n",
              "      border-color: transparent;\n",
              "      border-right-color: var(--fill-color);\n",
              "    }\n",
              "    80% {\n",
              "      border-color: transparent;\n",
              "      border-right-color: var(--fill-color);\n",
              "      border-bottom-color: var(--fill-color);\n",
              "    }\n",
              "    90% {\n",
              "      border-color: transparent;\n",
              "      border-bottom-color: var(--fill-color);\n",
              "    }\n",
              "  }\n",
              "</style>\n",
              "\n",
              "  <script>\n",
              "    async function quickchart(key) {\n",
              "      const quickchartButtonEl =\n",
              "        document.querySelector('#' + key + ' button');\n",
              "      quickchartButtonEl.disabled = true;  // To prevent multiple clicks.\n",
              "      quickchartButtonEl.classList.add('colab-df-spinner');\n",
              "      try {\n",
              "        const charts = await google.colab.kernel.invokeFunction(\n",
              "            'suggestCharts', [key], {});\n",
              "      } catch (error) {\n",
              "        console.error('Error during call to suggestCharts:', error);\n",
              "      }\n",
              "      quickchartButtonEl.classList.remove('colab-df-spinner');\n",
              "      quickchartButtonEl.classList.add('colab-df-quickchart-complete');\n",
              "    }\n",
              "    (() => {\n",
              "      let quickchartButtonEl =\n",
              "        document.querySelector('#df-578b236b-01bf-465d-9e42-667655828b11 button');\n",
              "      quickchartButtonEl.style.display =\n",
              "        google.colab.kernel.accessAllowed ? 'block' : 'none';\n",
              "    })();\n",
              "  </script>\n",
              "</div>\n",
              "    </div>\n",
              "  </div>\n"
            ]
          },
          "metadata": {},
          "execution_count": 25
        }
      ]
    },
    {
      "cell_type": "code",
      "source": [
        "plt.scatter(data_proc['Start'],data_proc['ProcessDurationInSeconds'])\n",
        "plt.xlabel('Process Start')\n",
        "plt.ylabel('Process Duration [sec]')"
      ],
      "metadata": {
        "colab": {
          "base_uri": "https://localhost:8080/",
          "height": 466
        },
        "id": "pj-FG0iORTao",
        "outputId": "2a5bc162-05b6-4b0c-9fe8-39c992170676"
      },
      "execution_count": 26,
      "outputs": [
        {
          "output_type": "execute_result",
          "data": {
            "text/plain": [
              "Text(0, 0.5, 'Process Duration [sec]')"
            ]
          },
          "metadata": {},
          "execution_count": 26
        },
        {
          "output_type": "display_data",
          "data": {
            "text/plain": [
              "<Figure size 640x480 with 1 Axes>"
            ],
            "image/png": "[encoded data removed]"
          },
          "metadata": {}
        }
      ]
    },
    {
      "cell_type": "code",
      "source": [
        "plt.hist(data_proc['ProcessDurationInSeconds'])\n",
        "plt.ylabel('Frequenzy')\n",
        "plt.xlabel('Process Duration [sec]')"
      ],
      "metadata": {
        "colab": {
          "base_uri": "https://localhost:8080/",
          "height": 466
        },
        "id": "KvW3vOo9vpIT",
        "outputId": "fd3cc425-6018-4dfa-a726-64ecb6629845"
      },
      "execution_count": 27,
      "outputs": [
        {
          "output_type": "execute_result",
          "data": {
            "text/plain": [
              "Text(0.5, 0, 'Process Duration [sec]')"
            ]
          },
          "metadata": {},
          "execution_count": 27
        },
        {
          "output_type": "display_data",
          "data": {
            "text/plain": [
              "<Figure size 640x480 with 1 Axes>"
            ],
            "image/png": "[encoded data removed]"
          },
          "metadata": {}
        }
      ]
    },
    {
      "cell_type": "code",
      "source": [
        "plt.boxplot([data_proc['ProcessDurationInSeconds'].dropna().astype('int')])\n",
        "plt.ylabel('Process Duration [sec]')\n",
        "plt.xlabel('Group')"
      ],
      "metadata": {
        "colab": {
          "base_uri": "https://localhost:8080/",
          "height": 466
        },
        "id": "Za0ysnngywpo",
        "outputId": "4cdb63a9-84a4-4fa5-afba-d8127e195c84"
      },
      "execution_count": 28,
      "outputs": [
        {
          "output_type": "execute_result",
          "data": {
            "text/plain": [
              "Text(0.5, 0, 'Group')"
            ]
          },
          "metadata": {},
          "execution_count": 28
        },
        {
          "output_type": "display_data",
          "data": {
            "text/plain": [
              "<Figure size 640x480 with 1 Axes>"
            ],
            "image/png": "[encoded data removed]"
          },
          "metadata": {}
        }
      ]
    },
    {
      "cell_type": "markdown",
      "source": [
        "Let us split that by workstation to get some deeper understanding"
      ],
      "metadata": {
        "id": "ZIo6Gah5Uqww"
      }
    },
    {
      "cell_type": "code",
      "source": [
        "# let's find the mean value of each process step\n",
        "data_proc.groupby(['Workstation']).mean()"
      ],
      "metadata": {
        "id": "eUfdwMnmBDY6",
        "colab": {
          "base_uri": "https://localhost:8080/",
          "height": 273
        },
        "outputId": "3d3fa1e9-38dd-4b96-fbbe-fc2d89ae0f29"
      },
      "execution_count": 29,
      "outputs": [
        {
          "output_type": "stream",
          "name": "stderr",
          "text": [
            "<ipython-input-29-4342e2261e7b>:2: FutureWarning: The default value of numeric_only in DataFrameGroupBy.mean is deprecated. In a future version, numeric_only will default to False. Either specify numeric_only or select only columns which should be valid for the function.\n",
            "  data_proc.groupby(['Workstation']).mean()\n"
          ]
        },
        {
          "output_type": "execute_result",
          "data": {
            "text/plain": [
              "               ProcessId  ProcessDurationInSeconds\n",
              "Workstation                                       \n",
              "1            1753.500000                 62.764706\n",
              "2            1753.117647                 67.823529\n",
              "3            1752.777778                 98.611111\n",
              "4            1751.520000                 98.160000\n",
              "5            1752.947368                 41.052632"
            ],
            "text/html": [
              "\n",
              "  <div id=\"df-8c1f8ff7-6474-4e87-8f77-4f23f1757cb3\" class=\"colab-df-container\">\n",
              "    <div>\n",
              "<style scoped>\n",
              "    .dataframe tbody tr th:only-of-type {\n",
              "        vertical-align: middle;\n",
              "    }\n",
              "\n",
              "    .dataframe tbody tr th {\n",
              "        vertical-align: top;\n",
              "    }\n",
              "\n",
              "    .dataframe thead th {\n",
              "        text-align: right;\n",
              "    }\n",
              "</style>\n",
              "<table border=\"1\" class=\"dataframe\">\n",
              "  <thead>\n",
              "    <tr style=\"text-align: right;\">\n",
              "      <th></th>\n",
              "      <th>ProcessId</th>\n",
              "      <th>ProcessDurationInSeconds</th>\n",
              "    </tr>\n",
              "    <tr>\n",
              "      <th>Workstation</th>\n",
              "      <th></th>\n",
              "      <th></th>\n",
              "    </tr>\n",
              "  </thead>\n",
              "  <tbody>\n",
              "    <tr>\n",
              "      <th>1</th>\n",
              "      <td>1753.500000</td>\n",
              "      <td>62.764706</td>\n",
              "    </tr>\n",
              "    <tr>\n",
              "      <th>2</th>\n",
              "      <td>1753.117647</td>\n",
              "      <td>67.823529</td>\n",
              "    </tr>\n",
              "    <tr>\n",
              "      <th>3</th>\n",
              "      <td>1752.777778</td>\n",
              "      <td>98.611111</td>\n",
              "    </tr>\n",
              "    <tr>\n",
              "      <th>4</th>\n",
              "      <td>1751.520000</td>\n",
              "      <td>98.160000</td>\n",
              "    </tr>\n",
              "    <tr>\n",
              "      <th>5</th>\n",
              "      <td>1752.947368</td>\n",
              "      <td>41.052632</td>\n",
              "    </tr>\n",
              "  </tbody>\n",
              "</table>\n",
              "</div>\n",
              "    <div class=\"colab-df-buttons\">\n",
              "\n",
              "  <div class=\"colab-df-container\">\n",
              "    <button class=\"colab-df-convert\" onclick=\"convertToInteractive('df-8c1f8ff7-6474-4e87-8f77-4f23f1757cb3')\"\n",
              "            title=\"Convert this dataframe to an interactive table.\"\n",
              "            style=\"display:none;\">\n",
              "\n",
              "  <svg xmlns=\"http://www.w3.org/2000/svg\" height=\"24px\" viewBox=\"0 -960 960 960\">\n",
              "    <path d=\"M120-120v-720h720v720H120Zm60-500h600v-160H180v160Zm220 220h160v-160H400v160Zm0 220h160v-160H400v160ZM180-400h160v-160H180v160Zm440 0h160v-160H620v160ZM180-180h160v-160H180v160Zm440 0h160v-160H620v160Z\"/>\n",
              "  </svg>\n",
              "    </button>\n",
              "\n",
              "  <style>\n",
              "    .colab-df-container {\n",
              "      display:flex;\n",
              "      gap: 12px;\n",
              "    }\n",
              "\n",
              "    .colab-df-convert {\n",
              "      background-color: #E8F0FE;\n",
              "      border: none;\n",
              "      border-radius: 50%;\n",
              "      cursor: pointer;\n",
              "      display: none;\n",
              "      fill: #1967D2;\n",
              "      height: 32px;\n",
              "      padding: 0 0 0 0;\n",
              "      width: 32px;\n",
              "    }\n",
              "\n",
              "    .colab-df-convert:hover {\n",
              "      background-color: #E2EBFA;\n",
              "      box-shadow: 0px 1px 2px rgba(60, 64, 67, 0.3), 0px 1px 3px 1px rgba(60, 64, 67, 0.15);\n",
              "      fill: #174EA6;\n",
              "    }\n",
              "\n",
              "    .colab-df-buttons div {\n",
              "      margin-bottom: 4px;\n",
              "    }\n",
              "\n",
              "    [theme=dark] .colab-df-convert {\n",
              "      background-color: #3B4455;\n",
              "      fill: #D2E3FC;\n",
              "    }\n",
              "\n",
              "    [theme=dark] .colab-df-convert:hover {\n",
              "      background-color: #434B5C;\n",
              "      box-shadow: 0px 1px 3px 1px rgba(0, 0, 0, 0.15);\n",
              "      filter: drop-shadow(0px 1px 2px rgba(0, 0, 0, 0.3));\n",
              "      fill: #FFFFFF;\n",
              "    }\n",
              "  </style>\n",
              "\n",
              "    <script>\n",
              "      const buttonEl =\n",
              "        document.querySelector('#df-8c1f8ff7-6474-4e87-8f77-4f23f1757cb3 button.colab-df-convert');\n",
              "      buttonEl.style.display =\n",
              "        google.colab.kernel.accessAllowed ? 'block' : 'none';\n",
              "\n",
              "      async function convertToInteractive(key) {\n",
              "        const element = document.querySelector('#df-8c1f8ff7-6474-4e87-8f77-4f23f1757cb3');\n",
              "        const dataTable =\n",
              "          await google.colab.kernel.invokeFunction('convertToInteractive',\n",
              "                                                    [key], {});\n",
              "        if (!dataTable) return;\n",
              "\n",
              "        const docLinkHtml = 'Like what you see? Visit the ' +\n",
              "          '<a target=\"_blank\" href=https://colab.research.google.com/notebooks/data_table.ipynb>data table notebook</a>'\n",
              "          + ' to learn more about interactive tables.';\n",
              "        element.innerHTML = '';\n",
              "        dataTable['output_type'] = 'display_data';\n",
              "        await google.colab.output.renderOutput(dataTable, element);\n",
              "        const docLink = document.createElement('div');\n",
              "        docLink.innerHTML = docLinkHtml;\n",
              "        element.appendChild(docLink);\n",
              "      }\n",
              "    </script>\n",
              "  </div>\n",
              "\n",
              "\n",
              "<div id=\"df-825b83a7-5166-442f-b7ee-b97566c99cdd\">\n",
              "  <button class=\"colab-df-quickchart\" onclick=\"quickchart('df-825b83a7-5166-442f-b7ee-b97566c99cdd')\"\n",
              "            title=\"Suggest charts.\"\n",
              "            style=\"display:none;\">\n",
              "\n",
              "<svg xmlns=\"http://www.w3.org/2000/svg\" height=\"24px\"viewBox=\"0 0 24 24\"\n",
              "     width=\"24px\">\n",
              "    <g>\n",
              "        <path d=\"M19 3H5c-1.1 0-2 .9-2 2v14c0 1.1.9 2 2 2h14c1.1 0 2-.9 2-2V5c0-1.1-.9-2-2-2zM9 17H7v-7h2v7zm4 0h-2V7h2v10zm4 0h-2v-4h2v4z\"/>\n",
              "    </g>\n",
              "</svg>\n",
              "  </button>\n",
              "\n",
              "<style>\n",
              "  .colab-df-quickchart {\n",
              "      --bg-color: #E8F0FE;\n",
              "      --fill-color: #1967D2;\n",
              "      --hover-bg-color: #E2EBFA;\n",
              "      --hover-fill-color: #174EA6;\n",
              "      --disabled-fill-color: #AAA;\n",
              "      --disabled-bg-color: #DDD;\n",
              "  }\n",
              "\n",
              "  [theme=dark] .colab-df-quickchart {\n",
              "      --bg-color: #3B4455;\n",
              "      --fill-color: #D2E3FC;\n",
              "      --hover-bg-color: #434B5C;\n",
              "      --hover-fill-color: #FFFFFF;\n",
              "      --disabled-bg-color: #3B4455;\n",
              "      --disabled-fill-color: #666;\n",
              "  }\n",
              "\n",
              "  .colab-df-quickchart {\n",
              "    background-color: var(--bg-color);\n",
              "    border: none;\n",
              "    border-radius: 50%;\n",
              "    cursor: pointer;\n",
              "    display: none;\n",
              "    fill: var(--fill-color);\n",
              "    height: 32px;\n",
              "    padding: 0;\n",
              "    width: 32px;\n",
              "  }\n",
              "\n",
              "  .colab-df-quickchart:hover {\n",
              "    background-color: var(--hover-bg-color);\n",
              "    box-shadow: 0 1px 2px rgba(60, 64, 67, 0.3), 0 1px 3px 1px rgba(60, 64, 67, 0.15);\n",
              "    fill: var(--button-hover-fill-color);\n",
              "  }\n",
              "\n",
              "  .colab-df-quickchart-complete:disabled,\n",
              "  .colab-df-quickchart-complete:disabled:hover {\n",
              "    background-color: var(--disabled-bg-color);\n",
              "    fill: var(--disabled-fill-color);\n",
              "    box-shadow: none;\n",
              "  }\n",
              "\n",
              "  .colab-df-spinner {\n",
              "    border: 2px solid var(--fill-color);\n",
              "    border-color: transparent;\n",
              "    border-bottom-color: var(--fill-color);\n",
              "    animation:\n",
              "      spin 1s steps(1) infinite;\n",
              "  }\n",
              "\n",
              "  @keyframes spin {\n",
              "    0% {\n",
              "      border-color: transparent;\n",
              "      border-bottom-color: var(--fill-color);\n",
              "      border-left-color: var(--fill-color);\n",
              "    }\n",
              "    20% {\n",
              "      border-color: transparent;\n",
              "      border-left-color: var(--fill-color);\n",
              "      border-top-color: var(--fill-color);\n",
              "    }\n",
              "    30% {\n",
              "      border-color: transparent;\n",
              "      border-left-color: var(--fill-color);\n",
              "      border-top-color: var(--fill-color);\n",
              "      border-right-color: var(--fill-color);\n",
              "    }\n",
              "    40% {\n",
              "      border-color: transparent;\n",
              "      border-right-color: var(--fill-color);\n",
              "      border-top-color: var(--fill-color);\n",
              "    }\n",
              "    60% {\n",
              "      border-color: transparent;\n",
              "      border-right-color: var(--fill-color);\n",
              "    }\n",
              "    80% {\n",
              "      border-color: transparent;\n",
              "      border-right-color: var(--fill-color);\n",
              "      border-bottom-color: var(--fill-color);\n",
              "    }\n",
              "    90% {\n",
              "      border-color: transparent;\n",
              "      border-bottom-color: var(--fill-color);\n",
              "    }\n",
              "  }\n",
              "</style>\n",
              "\n",
              "  <script>\n",
              "    async function quickchart(key) {\n",
              "      const quickchartButtonEl =\n",
              "        document.querySelector('#' + key + ' button');\n",
              "      quickchartButtonEl.disabled = true;  // To prevent multiple clicks.\n",
              "      quickchartButtonEl.classList.add('colab-df-spinner');\n",
              "      try {\n",
              "        const charts = await google.colab.kernel.invokeFunction(\n",
              "            'suggestCharts', [key], {});\n",
              "      } catch (error) {\n",
              "        console.error('Error during call to suggestCharts:', error);\n",
              "      }\n",
              "      quickchartButtonEl.classList.remove('colab-df-spinner');\n",
              "      quickchartButtonEl.classList.add('colab-df-quickchart-complete');\n",
              "    }\n",
              "    (() => {\n",
              "      let quickchartButtonEl =\n",
              "        document.querySelector('#df-825b83a7-5166-442f-b7ee-b97566c99cdd button');\n",
              "      quickchartButtonEl.style.display =\n",
              "        google.colab.kernel.accessAllowed ? 'block' : 'none';\n",
              "    })();\n",
              "  </script>\n",
              "</div>\n",
              "    </div>\n",
              "  </div>\n"
            ]
          },
          "metadata": {},
          "execution_count": 29
        }
      ]
    },
    {
      "cell_type": "code",
      "source": [
        "# Plot the mean value of the processing time based on work station\n",
        "sns.boxplot(x='Workstation', y='ProcessDurationInSeconds', data=data_proc)"
      ],
      "metadata": {
        "colab": {
          "base_uri": "https://localhost:8080/",
          "height": 466
        },
        "id": "8EQamKSUJJJt",
        "outputId": "db121548-89ca-4c3b-8608-cd6f74d0ee6a"
      },
      "execution_count": 30,
      "outputs": [
        {
          "output_type": "execute_result",
          "data": {
            "text/plain": [
              "<Axes: xlabel='Workstation', ylabel='ProcessDurationInSeconds'>"
            ]
          },
          "metadata": {},
          "execution_count": 30
        },
        {
          "output_type": "display_data",
          "data": {
            "text/plain": [
              "<Figure size 640x480 with 1 Axes>"
            ],
            "image/png": "[encoded data removed]"
          },
          "metadata": {}
        }
      ]
    },
    {
      "cell_type": "code",
      "source": [
        "# Plot the sum of the processtimes based on the Process IDs\n",
        "id_plot = data_proc.groupby(['ProcessId'])['ProcessDurationInSeconds'].sum().plot.bar()\n",
        "id_plot.set_xlabel(\"Process Id\")\n",
        "id_plot.set_ylabel(\"Sum of Processtimes [Sec]\")"
      ],
      "metadata": {
        "colab": {
          "base_uri": "https://localhost:8080/",
          "height": 488
        },
        "id": "h1Vkqol7K_as",
        "outputId": "56afb931-d304-4587-b78e-ee916407e863"
      },
      "execution_count": 32,
      "outputs": [
        {
          "output_type": "execute_result",
          "data": {
            "text/plain": [
              "Text(0, 0.5, 'Sum of Processtimes [Sec]')"
            ]
          },
          "metadata": {},
          "execution_count": 32
        },
        {
          "output_type": "display_data",
          "data": {
            "text/plain": [
              "<Figure size 640x480 with 1 Axes>"
            ],
            "image/png": "[encoded data removed]"
          },
          "metadata": {}
        }
      ]
    },
    {
      "cell_type": "markdown",
      "source": [
        "It seems, that some processes take in sum longer than others. We need additional data to find out what makes those processes special."
      ],
      "metadata": {
        "id": "YffMhRIghb6h"
      }
    },
    {
      "cell_type": "markdown",
      "source": [
        "## Phase 3: Data Preparation and Transformation / Feature engineering\n",
        "\n",
        "---\n",
        "\n",
        "\n",
        "Cleaning up data is part of nearly every machine learning project. It takes up a lot of time and is a necessity for a good model.\n",
        "\n",
        "**Select data:** Determine which data sets will be used and document reasons for inclusion/exclusion.\n",
        "\n",
        "**Clean data:** Often this is the lengthiest task. Without it, you’ll likely fall victim to garbage-in, garbage-out. A common practice during this task is to correct, impute, or remove erroneous values.\n",
        "\n",
        "**Construct data:** Derive new attributes that will be helpful. For example, derive someone’s body mass index from height and weight fields.\n",
        "\n",
        "**Integrate data:** Create new data sets by combining data from multiple sources.\n",
        "\n",
        "**Format data:** Re-format data as necessary. For example, you might convert string values that store numbers to numeric values so that you can perform mathematical operations."
      ],
      "metadata": {
        "id": "nogxAeg9N-kI"
      }
    },
    {
      "cell_type": "markdown",
      "source": [
        "## Adding the production orders\n",
        "\n",
        "Using the data from the list of production orders, can you match the ProcessID with a variant? For now we only need the type of the product, all other inforamtion can be discarded."
      ],
      "metadata": {
        "id": "qOvFBMRi4OAm"
      }
    },
    {
      "cell_type": "code",
      "source": [
        "col = ['RoundId','Type','ProductionStart','ProductionEnd','??','BoxId']\n",
        "data_prod = pd.read_csv('/content/produktionsauftrag.csv', header=None, names=col, index_col=0 , sep=',',on_bad_lines='skip')\n",
        "\n",
        "# Two ways to format the Start and Ende Colums to the datetime object\n",
        "data_prod['ProductionStart'] = pd.to_datetime(data_prod['ProductionStart'])\n",
        "data_prod['ProductionEnd'] = pd.to_datetime(data_prod['ProductionEnd'])\n",
        "\n",
        "\n",
        "# here comes some domain knowledge, the Primary Key of the produktionorder table is the ProcessID which is incremented when ever a new order is generated.\n",
        "\n",
        "data_prod = data_prod.loc[data_prod['RoundId'] == 216]\n",
        "data_prod = data_prod.dropna()\n",
        "data_prod = data_prod.drop(columns=['??','BoxId','RoundId'])\n",
        "\n",
        "data_prod.index.name = 'ProcessId'\n",
        "data_prod"
      ],
      "metadata": {
        "id": "dbfKLtLsNxBN",
        "colab": {
          "base_uri": "https://localhost:8080/",
          "height": 614
        },
        "outputId": "ddf1c6ca-6366-499c-b35e-74f77e142dbd"
      },
      "execution_count": 42,
      "outputs": [
        {
          "output_type": "execute_result",
          "data": {
            "text/plain": [
              "           Type     ProductionStart       ProductionEnd\n",
              "ProcessId                                              \n",
              "1745          6 2022-09-02 19:29:19 2022-09-02 19:36:23\n",
              "1746          6 2022-09-02 19:30:33 2022-09-02 19:47:16\n",
              "1747          7 2022-09-02 19:31:35 2022-09-02 19:39:18\n",
              "1748          8 2022-09-02 19:33:23 2022-09-02 19:45:45\n",
              "1749          6 2022-09-02 19:33:58 2022-09-02 19:46:07\n",
              "1750          6 2022-09-02 19:34:05 2022-09-02 19:52:37\n",
              "1751          7 2022-09-02 19:36:58 2022-09-02 19:52:10\n",
              "1752          6 2022-09-02 19:37:29 2022-09-02 19:54:13\n",
              "1753          6 2022-09-02 19:37:39 2022-09-02 19:56:21\n",
              "1754          6 2022-09-02 19:39:17 2022-09-02 20:02:02\n",
              "1755          6 2022-09-02 19:39:25 2022-09-02 19:59:52\n",
              "1756          6 2022-09-02 19:42:21 2022-09-02 20:03:56\n",
              "1757          7 2022-09-02 19:48:14 2022-09-02 19:59:01\n",
              "1758          6 2022-09-02 19:53:18 2022-09-02 20:00:43\n",
              "1759          7 2022-09-02 19:56:33 2022-09-02 20:07:41\n",
              "1761          8 2022-09-02 20:01:21 2022-09-02 20:06:49\n",
              "1762          6 2022-09-02 20:04:48 2022-09-02 20:08:22"
            ],
            "text/html": [
              "\n",
              "  <div id=\"df-eb7a1e71-7273-48d6-a9ef-d4952cc547c8\" class=\"colab-df-container\">\n",
              "    <div>\n",
              "<style scoped>\n",
              "    .dataframe tbody tr th:only-of-type {\n",
              "        vertical-align: middle;\n",
              "    }\n",
              "\n",
              "    .dataframe tbody tr th {\n",
              "        vertical-align: top;\n",
              "    }\n",
              "\n",
              "    .dataframe thead th {\n",
              "        text-align: right;\n",
              "    }\n",
              "</style>\n",
              "<table border=\"1\" class=\"dataframe\">\n",
              "  <thead>\n",
              "    <tr style=\"text-align: right;\">\n",
              "      <th></th>\n",
              "      <th>Type</th>\n",
              "      <th>ProductionStart</th>\n",
              "      <th>ProductionEnd</th>\n",
              "    </tr>\n",
              "    <tr>\n",
              "      <th>ProcessId</th>\n",
              "      <th></th>\n",
              "      <th></th>\n",
              "      <th></th>\n",
              "    </tr>\n",
              "  </thead>\n",
              "  <tbody>\n",
              "    <tr>\n",
              "      <th>1745</th>\n",
              "      <td>6</td>\n",
              "      <td>2022-09-02 19:29:19</td>\n",
              "      <td>2022-09-02 19:36:23</td>\n",
              "    </tr>\n",
              "    <tr>\n",
              "      <th>1746</th>\n",
              "      <td>6</td>\n",
              "      <td>2022-09-02 19:30:33</td>\n",
              "      <td>2022-09-02 19:47:16</td>\n",
              "    </tr>\n",
              "    <tr>\n",
              "      <th>1747</th>\n",
              "      <td>7</td>\n",
              "      <td>2022-09-02 19:31:35</td>\n",
              "      <td>2022-09-02 19:39:18</td>\n",
              "    </tr>\n",
              "    <tr>\n",
              "      <th>1748</th>\n",
              "      <td>8</td>\n",
              "      <td>2022-09-02 19:33:23</td>\n",
              "      <td>2022-09-02 19:45:45</td>\n",
              "    </tr>\n",
              "    <tr>\n",
              "      <th>1749</th>\n",
              "      <td>6</td>\n",
              "      <td>2022-09-02 19:33:58</td>\n",
              "      <td>2022-09-02 19:46:07</td>\n",
              "    </tr>\n",
              "    <tr>\n",
              "      <th>1750</th>\n",
              "      <td>6</td>\n",
              "      <td>2022-09-02 19:34:05</td>\n",
              "      <td>2022-09-02 19:52:37</td>\n",
              "    </tr>\n",
              "    <tr>\n",
              "      <th>1751</th>\n",
              "      <td>7</td>\n",
              "      <td>2022-09-02 19:36:58</td>\n",
              "      <td>2022-09-02 19:52:10</td>\n",
              "    </tr>\n",
              "    <tr>\n",
              "      <th>1752</th>\n",
              "      <td>6</td>\n",
              "      <td>2022-09-02 19:37:29</td>\n",
              "      <td>2022-09-02 19:54:13</td>\n",
              "    </tr>\n",
              "    <tr>\n",
              "      <th>1753</th>\n",
              "      <td>6</td>\n",
              "      <td>2022-09-02 19:37:39</td>\n",
              "      <td>2022-09-02 19:56:21</td>\n",
              "    </tr>\n",
              "    <tr>\n",
              "      <th>1754</th>\n",
              "      <td>6</td>\n",
              "      <td>2022-09-02 19:39:17</td>\n",
              "      <td>2022-09-02 20:02:02</td>\n",
              "    </tr>\n",
              "    <tr>\n",
              "      <th>1755</th>\n",
              "      <td>6</td>\n",
              "      <td>2022-09-02 19:39:25</td>\n",
              "      <td>2022-09-02 19:59:52</td>\n",
              "    </tr>\n",
              "    <tr>\n",
              "      <th>1756</th>\n",
              "      <td>6</td>\n",
              "      <td>2022-09-02 19:42:21</td>\n",
              "      <td>2022-09-02 20:03:56</td>\n",
              "    </tr>\n",
              "    <tr>\n",
              "      <th>1757</th>\n",
              "      <td>7</td>\n",
              "      <td>2022-09-02 19:48:14</td>\n",
              "      <td>2022-09-02 19:59:01</td>\n",
              "    </tr>\n",
              "    <tr>\n",
              "      <th>1758</th>\n",
              "      <td>6</td>\n",
              "      <td>2022-09-02 19:53:18</td>\n",
              "      <td>2022-09-02 20:00:43</td>\n",
              "    </tr>\n",
              "    <tr>\n",
              "      <th>1759</th>\n",
              "      <td>7</td>\n",
              "      <td>2022-09-02 19:56:33</td>\n",
              "      <td>2022-09-02 20:07:41</td>\n",
              "    </tr>\n",
              "    <tr>\n",
              "      <th>1761</th>\n",
              "      <td>8</td>\n",
              "      <td>2022-09-02 20:01:21</td>\n",
              "      <td>2022-09-02 20:06:49</td>\n",
              "    </tr>\n",
              "    <tr>\n",
              "      <th>1762</th>\n",
              "      <td>6</td>\n",
              "      <td>2022-09-02 20:04:48</td>\n",
              "      <td>2022-09-02 20:08:22</td>\n",
              "    </tr>\n",
              "  </tbody>\n",
              "</table>\n",
              "</div>\n",
              "    <div class=\"colab-df-buttons\">\n",
              "\n",
              "  <div class=\"colab-df-container\">\n",
              "    <button class=\"colab-df-convert\" onclick=\"convertToInteractive('df-eb7a1e71-7273-48d6-a9ef-d4952cc547c8')\"\n",
              "            title=\"Convert this dataframe to an interactive table.\"\n",
              "            style=\"display:none;\">\n",
              "\n",
              "  <svg xmlns=\"http://www.w3.org/2000/svg\" height=\"24px\" viewBox=\"0 -960 960 960\">\n",
              "    <path d=\"M120-120v-720h720v720H120Zm60-500h600v-160H180v160Zm220 220h160v-160H400v160Zm0 220h160v-160H400v160ZM180-400h160v-160H180v160Zm440 0h160v-160H620v160ZM180-180h160v-160H180v160Zm440 0h160v-160H620v160Z\"/>\n",
              "  </svg>\n",
              "    </button>\n",
              "\n",
              "  <style>\n",
              "    .colab-df-container {\n",
              "      display:flex;\n",
              "      gap: 12px;\n",
              "    }\n",
              "\n",
              "    .colab-df-convert {\n",
              "      background-color: #E8F0FE;\n",
              "      border: none;\n",
              "      border-radius: 50%;\n",
              "      cursor: pointer;\n",
              "      display: none;\n",
              "      fill: #1967D2;\n",
              "      height: 32px;\n",
              "      padding: 0 0 0 0;\n",
              "      width: 32px;\n",
              "    }\n",
              "\n",
              "    .colab-df-convert:hover {\n",
              "      background-color: #E2EBFA;\n",
              "      box-shadow: 0px 1px 2px rgba(60, 64, 67, 0.3), 0px 1px 3px 1px rgba(60, 64, 67, 0.15);\n",
              "      fill: #174EA6;\n",
              "    }\n",
              "\n",
              "    .colab-df-buttons div {\n",
              "      margin-bottom: 4px;\n",
              "    }\n",
              "\n",
              "    [theme=dark] .colab-df-convert {\n",
              "      background-color: #3B4455;\n",
              "      fill: #D2E3FC;\n",
              "    }\n",
              "\n",
              "    [theme=dark] .colab-df-convert:hover {\n",
              "      background-color: #434B5C;\n",
              "      box-shadow: 0px 1px 3px 1px rgba(0, 0, 0, 0.15);\n",
              "      filter: drop-shadow(0px 1px 2px rgba(0, 0, 0, 0.3));\n",
              "      fill: #FFFFFF;\n",
              "    }\n",
              "  </style>\n",
              "\n",
              "    <script>\n",
              "      const buttonEl =\n",
              "        document.querySelector('#df-eb7a1e71-7273-48d6-a9ef-d4952cc547c8 button.colab-df-convert');\n",
              "      buttonEl.style.display =\n",
              "        google.colab.kernel.accessAllowed ? 'block' : 'none';\n",
              "\n",
              "      async function convertToInteractive(key) {\n",
              "        const element = document.querySelector('#df-eb7a1e71-7273-48d6-a9ef-d4952cc547c8');\n",
              "        const dataTable =\n",
              "          await google.colab.kernel.invokeFunction('convertToInteractive',\n",
              "                                                    [key], {});\n",
              "        if (!dataTable) return;\n",
              "\n",
              "        const docLinkHtml = 'Like what you see? Visit the ' +\n",
              "          '<a target=\"_blank\" href=https://colab.research.google.com/notebooks/data_table.ipynb>data table notebook</a>'\n",
              "          + ' to learn more about interactive tables.';\n",
              "        element.innerHTML = '';\n",
              "        dataTable['output_type'] = 'display_data';\n",
              "        await google.colab.output.renderOutput(dataTable, element);\n",
              "        const docLink = document.createElement('div');\n",
              "        docLink.innerHTML = docLinkHtml;\n",
              "        element.appendChild(docLink);\n",
              "      }\n",
              "    </script>\n",
              "  </div>\n",
              "\n",
              "\n",
              "<div id=\"df-b6a37f08-5a40-4f23-b6eb-b8c3a7662f83\">\n",
              "  <button class=\"colab-df-quickchart\" onclick=\"quickchart('df-b6a37f08-5a40-4f23-b6eb-b8c3a7662f83')\"\n",
              "            title=\"Suggest charts.\"\n",
              "            style=\"display:none;\">\n",
              "\n",
              "<svg xmlns=\"http://www.w3.org/2000/svg\" height=\"24px\"viewBox=\"0 0 24 24\"\n",
              "     width=\"24px\">\n",
              "    <g>\n",
              "        <path d=\"M19 3H5c-1.1 0-2 .9-2 2v14c0 1.1.9 2 2 2h14c1.1 0 2-.9 2-2V5c0-1.1-.9-2-2-2zM9 17H7v-7h2v7zm4 0h-2V7h2v10zm4 0h-2v-4h2v4z\"/>\n",
              "    </g>\n",
              "</svg>\n",
              "  </button>\n",
              "\n",
              "<style>\n",
              "  .colab-df-quickchart {\n",
              "      --bg-color: #E8F0FE;\n",
              "      --fill-color: #1967D2;\n",
              "      --hover-bg-color: #E2EBFA;\n",
              "      --hover-fill-color: #174EA6;\n",
              "      --disabled-fill-color: #AAA;\n",
              "      --disabled-bg-color: #DDD;\n",
              "  }\n",
              "\n",
              "  [theme=dark] .colab-df-quickchart {\n",
              "      --bg-color: #3B4455;\n",
              "      --fill-color: #D2E3FC;\n",
              "      --hover-bg-color: #434B5C;\n",
              "      --hover-fill-color: #FFFFFF;\n",
              "      --disabled-bg-color: #3B4455;\n",
              "      --disabled-fill-color: #666;\n",
              "  }\n",
              "\n",
              "  .colab-df-quickchart {\n",
              "    background-color: var(--bg-color);\n",
              "    border: none;\n",
              "    border-radius: 50%;\n",
              "    cursor: pointer;\n",
              "    display: none;\n",
              "    fill: var(--fill-color);\n",
              "    height: 32px;\n",
              "    padding: 0;\n",
              "    width: 32px;\n",
              "  }\n",
              "\n",
              "  .colab-df-quickchart:hover {\n",
              "    background-color: var(--hover-bg-color);\n",
              "    box-shadow: 0 1px 2px rgba(60, 64, 67, 0.3), 0 1px 3px 1px rgba(60, 64, 67, 0.15);\n",
              "    fill: var(--button-hover-fill-color);\n",
              "  }\n",
              "\n",
              "  .colab-df-quickchart-complete:disabled,\n",
              "  .colab-df-quickchart-complete:disabled:hover {\n",
              "    background-color: var(--disabled-bg-color);\n",
              "    fill: var(--disabled-fill-color);\n",
              "    box-shadow: none;\n",
              "  }\n",
              "\n",
              "  .colab-df-spinner {\n",
              "    border: 2px solid var(--fill-color);\n",
              "    border-color: transparent;\n",
              "    border-bottom-color: var(--fill-color);\n",
              "    animation:\n",
              "      spin 1s steps(1) infinite;\n",
              "  }\n",
              "\n",
              "  @keyframes spin {\n",
              "    0% {\n",
              "      border-color: transparent;\n",
              "      border-bottom-color: var(--fill-color);\n",
              "      border-left-color: var(--fill-color);\n",
              "    }\n",
              "    20% {\n",
              "      border-color: transparent;\n",
              "      border-left-color: var(--fill-color);\n",
              "      border-top-color: var(--fill-color);\n",
              "    }\n",
              "    30% {\n",
              "      border-color: transparent;\n",
              "      border-left-color: var(--fill-color);\n",
              "      border-top-color: var(--fill-color);\n",
              "      border-right-color: var(--fill-color);\n",
              "    }\n",
              "    40% {\n",
              "      border-color: transparent;\n",
              "      border-right-color: var(--fill-color);\n",
              "      border-top-color: var(--fill-color);\n",
              "    }\n",
              "    60% {\n",
              "      border-color: transparent;\n",
              "      border-right-color: var(--fill-color);\n",
              "    }\n",
              "    80% {\n",
              "      border-color: transparent;\n",
              "      border-right-color: var(--fill-color);\n",
              "      border-bottom-color: var(--fill-color);\n",
              "    }\n",
              "    90% {\n",
              "      border-color: transparent;\n",
              "      border-bottom-color: var(--fill-color);\n",
              "    }\n",
              "  }\n",
              "</style>\n",
              "\n",
              "  <script>\n",
              "    async function quickchart(key) {\n",
              "      const quickchartButtonEl =\n",
              "        document.querySelector('#' + key + ' button');\n",
              "      quickchartButtonEl.disabled = true;  // To prevent multiple clicks.\n",
              "      quickchartButtonEl.classList.add('colab-df-spinner');\n",
              "      try {\n",
              "        const charts = await google.colab.kernel.invokeFunction(\n",
              "            'suggestCharts', [key], {});\n",
              "      } catch (error) {\n",
              "        console.error('Error during call to suggestCharts:', error);\n",
              "      }\n",
              "      quickchartButtonEl.classList.remove('colab-df-spinner');\n",
              "      quickchartButtonEl.classList.add('colab-df-quickchart-complete');\n",
              "    }\n",
              "    (() => {\n",
              "      let quickchartButtonEl =\n",
              "        document.querySelector('#df-b6a37f08-5a40-4f23-b6eb-b8c3a7662f83 button');\n",
              "      quickchartButtonEl.style.display =\n",
              "        google.colab.kernel.accessAllowed ? 'block' : 'none';\n",
              "    })();\n",
              "  </script>\n",
              "</div>\n",
              "    </div>\n",
              "  </div>\n"
            ]
          },
          "metadata": {},
          "execution_count": 42
        }
      ]
    },
    {
      "cell_type": "code",
      "source": [
        "data_prod['Duration'] = data_prod['ProductionEnd'] - data_prod['ProductionStart']\n",
        "data_prod['ProductionDurationInSeconds'] = data_prod['Duration'].dt.total_seconds()\n",
        "data_prod = data_prod.drop(columns=['Duration'])"
      ],
      "metadata": {
        "id": "ezj5_jgz-fG1"
      },
      "execution_count": 43,
      "outputs": []
    },
    {
      "cell_type": "code",
      "source": [
        "# Create a custom with custom ticks - this one is a little strange since we have the ID on the Axis and the Value in the legend\n",
        "for index, row in data_prod.iterrows():\n",
        "    plt.plot([row['ProductionStart'],row['ProductionEnd']],\n",
        "             [index,index],\n",
        "             label = row['ProductionDurationInSeconds'])\n",
        "\n",
        "plt.legend(loc='upper left', bbox_to_anchor=(1, 1))\n",
        "plt.xlabel('Time')\n",
        "plt.ylabel('ID')\n",
        "\n",
        "custom_yticks = data_prod.index;  # Positions of the ticks\n",
        "custom_ytick_labels = data_prod.index.values;  # Labels for the ticks\n",
        "\n",
        "# Set the custom tick labels\n",
        "plt.yticks(custom_yticks, custom_ytick_labels);"
      ],
      "metadata": {
        "colab": {
          "base_uri": "https://localhost:8080/",
          "height": 449
        },
        "id": "CmMvBbcs_P70",
        "outputId": "ae030f99-d1ab-47ca-f38d-26ad322ad6d9"
      },
      "execution_count": 44,
      "outputs": [
        {
          "output_type": "display_data",
          "data": {
            "text/plain": [
              "<Figure size 640x480 with 1 Axes>"
            ],
            "image/png": "[encoded data removed]"
          },
          "metadata": {}
        }
      ]
    },
    {
      "cell_type": "markdown",
      "source": [
        "Can you find the prodcution order that took the longest?"
      ],
      "metadata": {
        "id": "7H48IdaAECU8"
      }
    },
    {
      "cell_type": "code",
      "source": [
        "data_prod[data_prod['ProductionDurationInSeconds'] == data_prod['ProductionDurationInSeconds'].max()]"
      ],
      "metadata": {
        "colab": {
          "base_uri": "https://localhost:8080/",
          "height": 112
        },
        "id": "48pCGE9SDuZm",
        "outputId": "e541c4d3-3006-43a3-ff7e-a707a7ce5fca"
      },
      "execution_count": 45,
      "outputs": [
        {
          "output_type": "execute_result",
          "data": {
            "text/plain": [
              "           Type     ProductionStart       ProductionEnd  \\\n",
              "ProcessId                                                 \n",
              "1754          6 2022-09-02 19:39:17 2022-09-02 20:02:02   \n",
              "\n",
              "           ProductionDurationInSeconds  \n",
              "ProcessId                               \n",
              "1754                            1365.0  "
            ],
            "text/html": [
              "\n",
              "  <div id=\"df-eb4f8352-c584-44e6-a7c2-7479d04082db\" class=\"colab-df-container\">\n",
              "    <div>\n",
              "<style scoped>\n",
              "    .dataframe tbody tr th:only-of-type {\n",
              "        vertical-align: middle;\n",
              "    }\n",
              "\n",
              "    .dataframe tbody tr th {\n",
              "        vertical-align: top;\n",
              "    }\n",
              "\n",
              "    .dataframe thead th {\n",
              "        text-align: right;\n",
              "    }\n",
              "</style>\n",
              "<table border=\"1\" class=\"dataframe\">\n",
              "  <thead>\n",
              "    <tr style=\"text-align: right;\">\n",
              "      <th></th>\n",
              "      <th>Type</th>\n",
              "      <th>ProductionStart</th>\n",
              "      <th>ProductionEnd</th>\n",
              "      <th>ProductionDurationInSeconds</th>\n",
              "    </tr>\n",
              "    <tr>\n",
              "      <th>ProcessId</th>\n",
              "      <th></th>\n",
              "      <th></th>\n",
              "      <th></th>\n",
              "      <th></th>\n",
              "    </tr>\n",
              "  </thead>\n",
              "  <tbody>\n",
              "    <tr>\n",
              "      <th>1754</th>\n",
              "      <td>6</td>\n",
              "      <td>2022-09-02 19:39:17</td>\n",
              "      <td>2022-09-02 20:02:02</td>\n",
              "      <td>1365.0</td>\n",
              "    </tr>\n",
              "  </tbody>\n",
              "</table>\n",
              "</div>\n",
              "    <div class=\"colab-df-buttons\">\n",
              "\n",
              "  <div class=\"colab-df-container\">\n",
              "    <button class=\"colab-df-convert\" onclick=\"convertToInteractive('df-eb4f8352-c584-44e6-a7c2-7479d04082db')\"\n",
              "            title=\"Convert this dataframe to an interactive table.\"\n",
              "            style=\"display:none;\">\n",
              "\n",
              "  <svg xmlns=\"http://www.w3.org/2000/svg\" height=\"24px\" viewBox=\"0 -960 960 960\">\n",
              "    <path d=\"M120-120v-720h720v720H120Zm60-500h600v-160H180v160Zm220 220h160v-160H400v160Zm0 220h160v-160H400v160ZM180-400h160v-160H180v160Zm440 0h160v-160H620v160ZM180-180h160v-160H180v160Zm440 0h160v-160H620v160Z\"/>\n",
              "  </svg>\n",
              "    </button>\n",
              "\n",
              "  <style>\n",
              "    .colab-df-container {\n",
              "      display:flex;\n",
              "      gap: 12px;\n",
              "    }\n",
              "\n",
              "    .colab-df-convert {\n",
              "      background-color: #E8F0FE;\n",
              "      border: none;\n",
              "      border-radius: 50%;\n",
              "      cursor: pointer;\n",
              "      display: none;\n",
              "      fill: #1967D2;\n",
              "      height: 32px;\n",
              "      padding: 0 0 0 0;\n",
              "      width: 32px;\n",
              "    }\n",
              "\n",
              "    .colab-df-convert:hover {\n",
              "      background-color: #E2EBFA;\n",
              "      box-shadow: 0px 1px 2px rgba(60, 64, 67, 0.3), 0px 1px 3px 1px rgba(60, 64, 67, 0.15);\n",
              "      fill: #174EA6;\n",
              "    }\n",
              "\n",
              "    .colab-df-buttons div {\n",
              "      margin-bottom: 4px;\n",
              "    }\n",
              "\n",
              "    [theme=dark] .colab-df-convert {\n",
              "      background-color: #3B4455;\n",
              "      fill: #D2E3FC;\n",
              "    }\n",
              "\n",
              "    [theme=dark] .colab-df-convert:hover {\n",
              "      background-color: #434B5C;\n",
              "      box-shadow: 0px 1px 3px 1px rgba(0, 0, 0, 0.15);\n",
              "      filter: drop-shadow(0px 1px 2px rgba(0, 0, 0, 0.3));\n",
              "      fill: #FFFFFF;\n",
              "    }\n",
              "  </style>\n",
              "\n",
              "    <script>\n",
              "      const buttonEl =\n",
              "        document.querySelector('#df-eb4f8352-c584-44e6-a7c2-7479d04082db button.colab-df-convert');\n",
              "      buttonEl.style.display =\n",
              "        google.colab.kernel.accessAllowed ? 'block' : 'none';\n",
              "\n",
              "      async function convertToInteractive(key) {\n",
              "        const element = document.querySelector('#df-eb4f8352-c584-44e6-a7c2-7479d04082db');\n",
              "        const dataTable =\n",
              "          await google.colab.kernel.invokeFunction('convertToInteractive',\n",
              "                                                    [key], {});\n",
              "        if (!dataTable) return;\n",
              "\n",
              "        const docLinkHtml = 'Like what you see? Visit the ' +\n",
              "          '<a target=\"_blank\" href=https://colab.research.google.com/notebooks/data_table.ipynb>data table notebook</a>'\n",
              "          + ' to learn more about interactive tables.';\n",
              "        element.innerHTML = '';\n",
              "        dataTable['output_type'] = 'display_data';\n",
              "        await google.colab.output.renderOutput(dataTable, element);\n",
              "        const docLink = document.createElement('div');\n",
              "        docLink.innerHTML = docLinkHtml;\n",
              "        element.appendChild(docLink);\n",
              "      }\n",
              "    </script>\n",
              "  </div>\n",
              "\n",
              "    </div>\n",
              "  </div>\n"
            ]
          },
          "metadata": {},
          "execution_count": 45
        }
      ]
    },
    {
      "cell_type": "code",
      "source": [
        "sample_df = data_proc[data_proc['ProcessId'] == 1754]\n",
        "display(sample_df.head())\n",
        "\n",
        "for index, row in sample_df.iterrows():\n",
        "    plt.plot([row['Start'],row['End']],\n",
        "             [row['Workstation'],row['Workstation']],\n",
        "             label = row['ProcessDurationInSeconds'])\n",
        "\n",
        "plt.legend(loc='upper left', bbox_to_anchor=(1, 1))\n",
        "plt.xlabel('Time')\n",
        "plt.ylabel('Workstation')"
      ],
      "metadata": {
        "colab": {
          "base_uri": "https://localhost:8080/",
          "height": 656
        },
        "id": "TfiX71KNFV8j",
        "outputId": "a672eef2-6cbb-42df-8447-b569a899fd92"
      },
      "execution_count": 46,
      "outputs": [
        {
          "output_type": "display_data",
          "data": {
            "text/plain": [
              "      ProcessId RoundId Workstation               Start                 End  \\\n",
              "4155       1754     216           1 2022-09-02 19:40:43 2022-09-02 19:42:01   \n",
              "4166       1754     216           2 2022-09-02 19:45:23 2022-09-02 19:46:10   \n",
              "4180       1754     216           3 2022-09-02 19:50:44 2022-09-02 19:53:38   \n",
              "4205       1754     216           4 2022-09-02 20:00:43 2022-09-02 20:01:51   \n",
              "4207       1754     216           5 2022-09-02 20:01:53 2022-09-02 20:01:55   \n",
              "\n",
              "      ProcessDurationInSeconds  \n",
              "4155                      78.0  \n",
              "4166                      47.0  \n",
              "4180                     174.0  \n",
              "4205                      68.0  \n",
              "4207                       2.0  "
            ],
            "text/html": [
              "\n",
              "  <div id=\"df-43d24db0-90a6-4dd8-8df1-b7d37ab4d3af\" class=\"colab-df-container\">\n",
              "    <div>\n",
              "<style scoped>\n",
              "    .dataframe tbody tr th:only-of-type {\n",
              "        vertical-align: middle;\n",
              "    }\n",
              "\n",
              "    .dataframe tbody tr th {\n",
              "        vertical-align: top;\n",
              "    }\n",
              "\n",
              "    .dataframe thead th {\n",
              "        text-align: right;\n",
              "    }\n",
              "</style>\n",
              "<table border=\"1\" class=\"dataframe\">\n",
              "  <thead>\n",
              "    <tr style=\"text-align: right;\">\n",
              "      <th></th>\n",
              "      <th>ProcessId</th>\n",
              "      <th>RoundId</th>\n",
              "      <th>Workstation</th>\n",
              "      <th>Start</th>\n",
              "      <th>End</th>\n",
              "      <th>ProcessDurationInSeconds</th>\n",
              "    </tr>\n",
              "  </thead>\n",
              "  <tbody>\n",
              "    <tr>\n",
              "      <th>4155</th>\n",
              "      <td>1754</td>\n",
              "      <td>216</td>\n",
              "      <td>1</td>\n",
              "      <td>2022-09-02 19:40:43</td>\n",
              "      <td>2022-09-02 19:42:01</td>\n",
              "      <td>78.0</td>\n",
              "    </tr>\n",
              "    <tr>\n",
              "      <th>4166</th>\n",
              "      <td>1754</td>\n",
              "      <td>216</td>\n",
              "      <td>2</td>\n",
              "      <td>2022-09-02 19:45:23</td>\n",
              "      <td>2022-09-02 19:46:10</td>\n",
              "      <td>47.0</td>\n",
              "    </tr>\n",
              "    <tr>\n",
              "      <th>4180</th>\n",
              "      <td>1754</td>\n",
              "      <td>216</td>\n",
              "      <td>3</td>\n",
              "      <td>2022-09-02 19:50:44</td>\n",
              "      <td>2022-09-02 19:53:38</td>\n",
              "      <td>174.0</td>\n",
              "    </tr>\n",
              "    <tr>\n",
              "      <th>4205</th>\n",
              "      <td>1754</td>\n",
              "      <td>216</td>\n",
              "      <td>4</td>\n",
              "      <td>2022-09-02 20:00:43</td>\n",
              "      <td>2022-09-02 20:01:51</td>\n",
              "      <td>68.0</td>\n",
              "    </tr>\n",
              "    <tr>\n",
              "      <th>4207</th>\n",
              "      <td>1754</td>\n",
              "      <td>216</td>\n",
              "      <td>5</td>\n",
              "      <td>2022-09-02 20:01:53</td>\n",
              "      <td>2022-09-02 20:01:55</td>\n",
              "      <td>2.0</td>\n",
              "    </tr>\n",
              "  </tbody>\n",
              "</table>\n",
              "</div>\n",
              "    <div class=\"colab-df-buttons\">\n",
              "\n",
              "  <div class=\"colab-df-container\">\n",
              "    <button class=\"colab-df-convert\" onclick=\"convertToInteractive('df-43d24db0-90a6-4dd8-8df1-b7d37ab4d3af')\"\n",
              "            title=\"Convert this dataframe to an interactive table.\"\n",
              "            style=\"display:none;\">\n",
              "\n",
              "  <svg xmlns=\"http://www.w3.org/2000/svg\" height=\"24px\" viewBox=\"0 -960 960 960\">\n",
              "    <path d=\"M120-120v-720h720v720H120Zm60-500h600v-160H180v160Zm220 220h160v-160H400v160Zm0 220h160v-160H400v160ZM180-400h160v-160H180v160Zm440 0h160v-160H620v160ZM180-180h160v-160H180v160Zm440 0h160v-160H620v160Z\"/>\n",
              "  </svg>\n",
              "    </button>\n",
              "\n",
              "  <style>\n",
              "    .colab-df-container {\n",
              "      display:flex;\n",
              "      gap: 12px;\n",
              "    }\n",
              "\n",
              "    .colab-df-convert {\n",
              "      background-color: #E8F0FE;\n",
              "      border: none;\n",
              "      border-radius: 50%;\n",
              "      cursor: pointer;\n",
              "      display: none;\n",
              "      fill: #1967D2;\n",
              "      height: 32px;\n",
              "      padding: 0 0 0 0;\n",
              "      width: 32px;\n",
              "    }\n",
              "\n",
              "    .colab-df-convert:hover {\n",
              "      background-color: #E2EBFA;\n",
              "      box-shadow: 0px 1px 2px rgba(60, 64, 67, 0.3), 0px 1px 3px 1px rgba(60, 64, 67, 0.15);\n",
              "      fill: #174EA6;\n",
              "    }\n",
              "\n",
              "    .colab-df-buttons div {\n",
              "      margin-bottom: 4px;\n",
              "    }\n",
              "\n",
              "    [theme=dark] .colab-df-convert {\n",
              "      background-color: #3B4455;\n",
              "      fill: #D2E3FC;\n",
              "    }\n",
              "\n",
              "    [theme=dark] .colab-df-convert:hover {\n",
              "      background-color: #434B5C;\n",
              "      box-shadow: 0px 1px 3px 1px rgba(0, 0, 0, 0.15);\n",
              "      filter: drop-shadow(0px 1px 2px rgba(0, 0, 0, 0.3));\n",
              "      fill: #FFFFFF;\n",
              "    }\n",
              "  </style>\n",
              "\n",
              "    <script>\n",
              "      const buttonEl =\n",
              "        document.querySelector('#df-43d24db0-90a6-4dd8-8df1-b7d37ab4d3af button.colab-df-convert');\n",
              "      buttonEl.style.display =\n",
              "        google.colab.kernel.accessAllowed ? 'block' : 'none';\n",
              "\n",
              "      async function convertToInteractive(key) {\n",
              "        const element = document.querySelector('#df-43d24db0-90a6-4dd8-8df1-b7d37ab4d3af');\n",
              "        const dataTable =\n",
              "          await google.colab.kernel.invokeFunction('convertToInteractive',\n",
              "                                                    [key], {});\n",
              "        if (!dataTable) return;\n",
              "\n",
              "        const docLinkHtml = 'Like what you see? Visit the ' +\n",
              "          '<a target=\"_blank\" href=https://colab.research.google.com/notebooks/data_table.ipynb>data table notebook</a>'\n",
              "          + ' to learn more about interactive tables.';\n",
              "        element.innerHTML = '';\n",
              "        dataTable['output_type'] = 'display_data';\n",
              "        await google.colab.output.renderOutput(dataTable, element);\n",
              "        const docLink = document.createElement('div');\n",
              "        docLink.innerHTML = docLinkHtml;\n",
              "        element.appendChild(docLink);\n",
              "      }\n",
              "    </script>\n",
              "  </div>\n",
              "\n",
              "\n",
              "<div id=\"df-5ecfe4b7-8c2d-44e1-83e9-576396b613bc\">\n",
              "  <button class=\"colab-df-quickchart\" onclick=\"quickchart('df-5ecfe4b7-8c2d-44e1-83e9-576396b613bc')\"\n",
              "            title=\"Suggest charts.\"\n",
              "            style=\"display:none;\">\n",
              "\n",
              "<svg xmlns=\"http://www.w3.org/2000/svg\" height=\"24px\"viewBox=\"0 0 24 24\"\n",
              "     width=\"24px\">\n",
              "    <g>\n",
              "        <path d=\"M19 3H5c-1.1 0-2 .9-2 2v14c0 1.1.9 2 2 2h14c1.1 0 2-.9 2-2V5c0-1.1-.9-2-2-2zM9 17H7v-7h2v7zm4 0h-2V7h2v10zm4 0h-2v-4h2v4z\"/>\n",
              "    </g>\n",
              "</svg>\n",
              "  </button>\n",
              "\n",
              "<style>\n",
              "  .colab-df-quickchart {\n",
              "      --bg-color: #E8F0FE;\n",
              "      --fill-color: #1967D2;\n",
              "      --hover-bg-color: #E2EBFA;\n",
              "      --hover-fill-color: #174EA6;\n",
              "      --disabled-fill-color: #AAA;\n",
              "      --disabled-bg-color: #DDD;\n",
              "  }\n",
              "\n",
              "  [theme=dark] .colab-df-quickchart {\n",
              "      --bg-color: #3B4455;\n",
              "      --fill-color: #D2E3FC;\n",
              "      --hover-bg-color: #434B5C;\n",
              "      --hover-fill-color: #FFFFFF;\n",
              "      --disabled-bg-color: #3B4455;\n",
              "      --disabled-fill-color: #666;\n",
              "  }\n",
              "\n",
              "  .colab-df-quickchart {\n",
              "    background-color: var(--bg-color);\n",
              "    border: none;\n",
              "    border-radius: 50%;\n",
              "    cursor: pointer;\n",
              "    display: none;\n",
              "    fill: var(--fill-color);\n",
              "    height: 32px;\n",
              "    padding: 0;\n",
              "    width: 32px;\n",
              "  }\n",
              "\n",
              "  .colab-df-quickchart:hover {\n",
              "    background-color: var(--hover-bg-color);\n",
              "    box-shadow: 0 1px 2px rgba(60, 64, 67, 0.3), 0 1px 3px 1px rgba(60, 64, 67, 0.15);\n",
              "    fill: var(--button-hover-fill-color);\n",
              "  }\n",
              "\n",
              "  .colab-df-quickchart-complete:disabled,\n",
              "  .colab-df-quickchart-complete:disabled:hover {\n",
              "    background-color: var(--disabled-bg-color);\n",
              "    fill: var(--disabled-fill-color);\n",
              "    box-shadow: none;\n",
              "  }\n",
              "\n",
              "  .colab-df-spinner {\n",
              "    border: 2px solid var(--fill-color);\n",
              "    border-color: transparent;\n",
              "    border-bottom-color: var(--fill-color);\n",
              "    animation:\n",
              "      spin 1s steps(1) infinite;\n",
              "  }\n",
              "\n",
              "  @keyframes spin {\n",
              "    0% {\n",
              "      border-color: transparent;\n",
              "      border-bottom-color: var(--fill-color);\n",
              "      border-left-color: var(--fill-color);\n",
              "    }\n",
              "    20% {\n",
              "      border-color: transparent;\n",
              "      border-left-color: var(--fill-color);\n",
              "      border-top-color: var(--fill-color);\n",
              "    }\n",
              "    30% {\n",
              "      border-color: transparent;\n",
              "      border-left-color: var(--fill-color);\n",
              "      border-top-color: var(--fill-color);\n",
              "      border-right-color: var(--fill-color);\n",
              "    }\n",
              "    40% {\n",
              "      border-color: transparent;\n",
              "      border-right-color: var(--fill-color);\n",
              "      border-top-color: var(--fill-color);\n",
              "    }\n",
              "    60% {\n",
              "      border-color: transparent;\n",
              "      border-right-color: var(--fill-color);\n",
              "    }\n",
              "    80% {\n",
              "      border-color: transparent;\n",
              "      border-right-color: var(--fill-color);\n",
              "      border-bottom-color: var(--fill-color);\n",
              "    }\n",
              "    90% {\n",
              "      border-color: transparent;\n",
              "      border-bottom-color: var(--fill-color);\n",
              "    }\n",
              "  }\n",
              "</style>\n",
              "\n",
              "  <script>\n",
              "    async function quickchart(key) {\n",
              "      const quickchartButtonEl =\n",
              "        document.querySelector('#' + key + ' button');\n",
              "      quickchartButtonEl.disabled = true;  // To prevent multiple clicks.\n",
              "      quickchartButtonEl.classList.add('colab-df-spinner');\n",
              "      try {\n",
              "        const charts = await google.colab.kernel.invokeFunction(\n",
              "            'suggestCharts', [key], {});\n",
              "      } catch (error) {\n",
              "        console.error('Error during call to suggestCharts:', error);\n",
              "      }\n",
              "      quickchartButtonEl.classList.remove('colab-df-spinner');\n",
              "      quickchartButtonEl.classList.add('colab-df-quickchart-complete');\n",
              "    }\n",
              "    (() => {\n",
              "      let quickchartButtonEl =\n",
              "        document.querySelector('#df-5ecfe4b7-8c2d-44e1-83e9-576396b613bc button');\n",
              "      quickchartButtonEl.style.display =\n",
              "        google.colab.kernel.accessAllowed ? 'block' : 'none';\n",
              "    })();\n",
              "  </script>\n",
              "</div>\n",
              "    </div>\n",
              "  </div>\n"
            ]
          },
          "metadata": {}
        },
        {
          "output_type": "execute_result",
          "data": {
            "text/plain": [
              "Text(0, 0.5, 'Workstation')"
            ]
          },
          "metadata": {},
          "execution_count": 46
        },
        {
          "output_type": "display_data",
          "data": {
            "text/plain": [
              "<Figure size 640x480 with 1 Axes>"
            ],
            "image/png": "[encoded data removed]"
          },
          "metadata": {}
        }
      ]
    },
    {
      "cell_type": "markdown",
      "source": [
        "We do this by merging the two data frames, based on the left (data_proc) table's Process ID."
      ],
      "metadata": {
        "id": "jf37fuwVj5P4"
      }
    },
    {
      "cell_type": "code",
      "source": [
        "result = pd.merge(data_proc, data_prod, how=\"left\", on=['ProcessId'])\n",
        "result['ProcessId'] = result['ProcessId'].astype(\"category\")\n",
        "result['Workstation'] = result['Workstation'].astype(\"category\")\n",
        "result['Type'] = result['Type'].astype(\"category\")\n",
        "result"
      ],
      "metadata": {
        "colab": {
          "base_uri": "https://localhost:8080/",
          "height": 424
        },
        "id": "aeIeehjsWJlT",
        "outputId": "c3e42e8f-9451-493c-fc1b-00196a0cd666"
      },
      "execution_count": 47,
      "outputs": [
        {
          "output_type": "execute_result",
          "data": {
            "text/plain": [
              "   ProcessId RoundId Workstation               Start                 End  \\\n",
              "0       1745     216           1 2022-09-02 19:29:26 2022-09-02 19:30:27   \n",
              "1       1745     216           2 2022-09-02 19:30:29 2022-09-02 19:32:32   \n",
              "2       1746     216           1 2022-09-02 19:30:36 2022-09-02 19:32:01   \n",
              "3       1747     216           1 2022-09-02 19:32:23 2022-09-02 19:33:21   \n",
              "4       1745     216           3 2022-09-02 19:32:35 2022-09-02 19:34:29   \n",
              "..       ...     ...         ...                 ...                 ...   \n",
              "92      1762     216           2 2022-09-02 20:05:56 2022-09-02 20:07:07   \n",
              "93      1759     216           5 2022-09-02 20:06:51 2022-09-02 20:07:20   \n",
              "94      1762     216           3 2022-09-02 20:07:09 2022-09-02 20:07:31   \n",
              "95      1762     216           4 2022-09-02 20:07:46 2022-09-02 20:08:12   \n",
              "96      1762     216           5 2022-09-02 20:08:14 2022-09-02 20:08:19   \n",
              "\n",
              "    ProcessDurationInSeconds Type     ProductionStart       ProductionEnd  \\\n",
              "0                       61.0  6.0 2022-09-02 19:29:19 2022-09-02 19:36:23   \n",
              "1                      123.0  6.0 2022-09-02 19:29:19 2022-09-02 19:36:23   \n",
              "2                       85.0  6.0 2022-09-02 19:30:33 2022-09-02 19:47:16   \n",
              "3                       58.0  7.0 2022-09-02 19:31:35 2022-09-02 19:39:18   \n",
              "4                      114.0  6.0 2022-09-02 19:29:19 2022-09-02 19:36:23   \n",
              "..                       ...  ...                 ...                 ...   \n",
              "92                      71.0  6.0 2022-09-02 20:04:48 2022-09-02 20:08:22   \n",
              "93                      29.0  7.0 2022-09-02 19:56:33 2022-09-02 20:07:41   \n",
              "94                      22.0  6.0 2022-09-02 20:04:48 2022-09-02 20:08:22   \n",
              "95                      26.0  6.0 2022-09-02 20:04:48 2022-09-02 20:08:22   \n",
              "96                       5.0  6.0 2022-09-02 20:04:48 2022-09-02 20:08:22   \n",
              "\n",
              "    ProductionDurationInSeconds  \n",
              "0                         424.0  \n",
              "1                         424.0  \n",
              "2                        1003.0  \n",
              "3                         463.0  \n",
              "4                         424.0  \n",
              "..                          ...  \n",
              "92                        214.0  \n",
              "93                        668.0  \n",
              "94                        214.0  \n",
              "95                        214.0  \n",
              "96                        214.0  \n",
              "\n",
              "[97 rows x 10 columns]"
            ],
            "text/html": [
              "\n",
              "  <div id=\"df-ba627026-c8ac-4746-99b0-b5d2a3fd823a\" class=\"colab-df-container\">\n",
              "    <div>\n",
              "<style scoped>\n",
              "    .dataframe tbody tr th:only-of-type {\n",
              "        vertical-align: middle;\n",
              "    }\n",
              "\n",
              "    .dataframe tbody tr th {\n",
              "        vertical-align: top;\n",
              "    }\n",
              "\n",
              "    .dataframe thead th {\n",
              "        text-align: right;\n",
              "    }\n",
              "</style>\n",
              "<table border=\"1\" class=\"dataframe\">\n",
              "  <thead>\n",
              "    <tr style=\"text-align: right;\">\n",
              "      <th></th>\n",
              "      <th>ProcessId</th>\n",
              "      <th>RoundId</th>\n",
              "      <th>Workstation</th>\n",
              "      <th>Start</th>\n",
              "      <th>End</th>\n",
              "      <th>ProcessDurationInSeconds</th>\n",
              "      <th>Type</th>\n",
              "      <th>ProductionStart</th>\n",
              "      <th>ProductionEnd</th>\n",
              "      <th>ProductionDurationInSeconds</th>\n",
              "    </tr>\n",
              "  </thead>\n",
              "  <tbody>\n",
              "    <tr>\n",
              "      <th>0</th>\n",
              "      <td>1745</td>\n",
              "      <td>216</td>\n",
              "      <td>1</td>\n",
              "      <td>2022-09-02 19:29:26</td>\n",
              "      <td>2022-09-02 19:30:27</td>\n",
              "      <td>61.0</td>\n",
              "      <td>6.0</td>\n",
              "      <td>2022-09-02 19:29:19</td>\n",
              "      <td>2022-09-02 19:36:23</td>\n",
              "      <td>424.0</td>\n",
              "    </tr>\n",
              "    <tr>\n",
              "      <th>1</th>\n",
              "      <td>1745</td>\n",
              "      <td>216</td>\n",
              "      <td>2</td>\n",
              "      <td>2022-09-02 19:30:29</td>\n",
              "      <td>2022-09-02 19:32:32</td>\n",
              "      <td>123.0</td>\n",
              "      <td>6.0</td>\n",
              "      <td>2022-09-02 19:29:19</td>\n",
              "      <td>2022-09-02 19:36:23</td>\n",
              "      <td>424.0</td>\n",
              "    </tr>\n",
              "    <tr>\n",
              "      <th>2</th>\n",
              "      <td>1746</td>\n",
              "      <td>216</td>\n",
              "      <td>1</td>\n",
              "      <td>2022-09-02 19:30:36</td>\n",
              "      <td>2022-09-02 19:32:01</td>\n",
              "      <td>85.0</td>\n",
              "      <td>6.0</td>\n",
              "      <td>2022-09-02 19:30:33</td>\n",
              "      <td>2022-09-02 19:47:16</td>\n",
              "      <td>1003.0</td>\n",
              "    </tr>\n",
              "    <tr>\n",
              "      <th>3</th>\n",
              "      <td>1747</td>\n",
              "      <td>216</td>\n",
              "      <td>1</td>\n",
              "      <td>2022-09-02 19:32:23</td>\n",
              "      <td>2022-09-02 19:33:21</td>\n",
              "      <td>58.0</td>\n",
              "      <td>7.0</td>\n",
              "      <td>2022-09-02 19:31:35</td>\n",
              "      <td>2022-09-02 19:39:18</td>\n",
              "      <td>463.0</td>\n",
              "    </tr>\n",
              "    <tr>\n",
              "      <th>4</th>\n",
              "      <td>1745</td>\n",
              "      <td>216</td>\n",
              "      <td>3</td>\n",
              "      <td>2022-09-02 19:32:35</td>\n",
              "      <td>2022-09-02 19:34:29</td>\n",
              "      <td>114.0</td>\n",
              "      <td>6.0</td>\n",
              "      <td>2022-09-02 19:29:19</td>\n",
              "      <td>2022-09-02 19:36:23</td>\n",
              "      <td>424.0</td>\n",
              "    </tr>\n",
              "    <tr>\n",
              "      <th>...</th>\n",
              "      <td>...</td>\n",
              "      <td>...</td>\n",
              "      <td>...</td>\n",
              "      <td>...</td>\n",
              "      <td>...</td>\n",
              "      <td>...</td>\n",
              "      <td>...</td>\n",
              "      <td>...</td>\n",
              "      <td>...</td>\n",
              "      <td>...</td>\n",
              "    </tr>\n",
              "    <tr>\n",
              "      <th>92</th>\n",
              "      <td>1762</td>\n",
              "      <td>216</td>\n",
              "      <td>2</td>\n",
              "      <td>2022-09-02 20:05:56</td>\n",
              "      <td>2022-09-02 20:07:07</td>\n",
              "      <td>71.0</td>\n",
              "      <td>6.0</td>\n",
              "      <td>2022-09-02 20:04:48</td>\n",
              "      <td>2022-09-02 20:08:22</td>\n",
              "      <td>214.0</td>\n",
              "    </tr>\n",
              "    <tr>\n",
              "      <th>93</th>\n",
              "      <td>1759</td>\n",
              "      <td>216</td>\n",
              "      <td>5</td>\n",
              "      <td>2022-09-02 20:06:51</td>\n",
              "      <td>2022-09-02 20:07:20</td>\n",
              "      <td>29.0</td>\n",
              "      <td>7.0</td>\n",
              "      <td>2022-09-02 19:56:33</td>\n",
              "      <td>2022-09-02 20:07:41</td>\n",
              "      <td>668.0</td>\n",
              "    </tr>\n",
              "    <tr>\n",
              "      <th>94</th>\n",
              "      <td>1762</td>\n",
              "      <td>216</td>\n",
              "      <td>3</td>\n",
              "      <td>2022-09-02 20:07:09</td>\n",
              "      <td>2022-09-02 20:07:31</td>\n",
              "      <td>22.0</td>\n",
              "      <td>6.0</td>\n",
              "      <td>2022-09-02 20:04:48</td>\n",
              "      <td>2022-09-02 20:08:22</td>\n",
              "      <td>214.0</td>\n",
              "    </tr>\n",
              "    <tr>\n",
              "      <th>95</th>\n",
              "      <td>1762</td>\n",
              "      <td>216</td>\n",
              "      <td>4</td>\n",
              "      <td>2022-09-02 20:07:46</td>\n",
              "      <td>2022-09-02 20:08:12</td>\n",
              "      <td>26.0</td>\n",
              "      <td>6.0</td>\n",
              "      <td>2022-09-02 20:04:48</td>\n",
              "      <td>2022-09-02 20:08:22</td>\n",
              "      <td>214.0</td>\n",
              "    </tr>\n",
              "    <tr>\n",
              "      <th>96</th>\n",
              "      <td>1762</td>\n",
              "      <td>216</td>\n",
              "      <td>5</td>\n",
              "      <td>2022-09-02 20:08:14</td>\n",
              "      <td>2022-09-02 20:08:19</td>\n",
              "      <td>5.0</td>\n",
              "      <td>6.0</td>\n",
              "      <td>2022-09-02 20:04:48</td>\n",
              "      <td>2022-09-02 20:08:22</td>\n",
              "      <td>214.0</td>\n",
              "    </tr>\n",
              "  </tbody>\n",
              "</table>\n",
              "<p>97 rows × 10 columns</p>\n",
              "</div>\n",
              "    <div class=\"colab-df-buttons\">\n",
              "\n",
              "  <div class=\"colab-df-container\">\n",
              "    <button class=\"colab-df-convert\" onclick=\"convertToInteractive('df-ba627026-c8ac-4746-99b0-b5d2a3fd823a')\"\n",
              "            title=\"Convert this dataframe to an interactive table.\"\n",
              "            style=\"display:none;\">\n",
              "\n",
              "  <svg xmlns=\"http://www.w3.org/2000/svg\" height=\"24px\" viewBox=\"0 -960 960 960\">\n",
              "    <path d=\"M120-120v-720h720v720H120Zm60-500h600v-160H180v160Zm220 220h160v-160H400v160Zm0 220h160v-160H400v160ZM180-400h160v-160H180v160Zm440 0h160v-160H620v160ZM180-180h160v-160H180v160Zm440 0h160v-160H620v160Z\"/>\n",
              "  </svg>\n",
              "    </button>\n",
              "\n",
              "  <style>\n",
              "    .colab-df-container {\n",
              "      display:flex;\n",
              "      gap: 12px;\n",
              "    }\n",
              "\n",
              "    .colab-df-convert {\n",
              "      background-color: #E8F0FE;\n",
              "      border: none;\n",
              "      border-radius: 50%;\n",
              "      cursor: pointer;\n",
              "      display: none;\n",
              "      fill: #1967D2;\n",
              "      height: 32px;\n",
              "      padding: 0 0 0 0;\n",
              "      width: 32px;\n",
              "    }\n",
              "\n",
              "    .colab-df-convert:hover {\n",
              "      background-color: #E2EBFA;\n",
              "      box-shadow: 0px 1px 2px rgba(60, 64, 67, 0.3), 0px 1px 3px 1px rgba(60, 64, 67, 0.15);\n",
              "      fill: #174EA6;\n",
              "    }\n",
              "\n",
              "    .colab-df-buttons div {\n",
              "      margin-bottom: 4px;\n",
              "    }\n",
              "\n",
              "    [theme=dark] .colab-df-convert {\n",
              "      background-color: #3B4455;\n",
              "      fill: #D2E3FC;\n",
              "    }\n",
              "\n",
              "    [theme=dark] .colab-df-convert:hover {\n",
              "      background-color: #434B5C;\n",
              "      box-shadow: 0px 1px 3px 1px rgba(0, 0, 0, 0.15);\n",
              "      filter: drop-shadow(0px 1px 2px rgba(0, 0, 0, 0.3));\n",
              "      fill: #FFFFFF;\n",
              "    }\n",
              "  </style>\n",
              "\n",
              "    <script>\n",
              "      const buttonEl =\n",
              "        document.querySelector('#df-ba627026-c8ac-4746-99b0-b5d2a3fd823a button.colab-df-convert');\n",
              "      buttonEl.style.display =\n",
              "        google.colab.kernel.accessAllowed ? 'block' : 'none';\n",
              "\n",
              "      async function convertToInteractive(key) {\n",
              "        const element = document.querySelector('#df-ba627026-c8ac-4746-99b0-b5d2a3fd823a');\n",
              "        const dataTable =\n",
              "          await google.colab.kernel.invokeFunction('convertToInteractive',\n",
              "                                                    [key], {});\n",
              "        if (!dataTable) return;\n",
              "\n",
              "        const docLinkHtml = 'Like what you see? Visit the ' +\n",
              "          '<a target=\"_blank\" href=https://colab.research.google.com/notebooks/data_table.ipynb>data table notebook</a>'\n",
              "          + ' to learn more about interactive tables.';\n",
              "        element.innerHTML = '';\n",
              "        dataTable['output_type'] = 'display_data';\n",
              "        await google.colab.output.renderOutput(dataTable, element);\n",
              "        const docLink = document.createElement('div');\n",
              "        docLink.innerHTML = docLinkHtml;\n",
              "        element.appendChild(docLink);\n",
              "      }\n",
              "    </script>\n",
              "  </div>\n",
              "\n",
              "\n",
              "<div id=\"df-886cf261-2635-4d6b-93a7-483370b552a0\">\n",
              "  <button class=\"colab-df-quickchart\" onclick=\"quickchart('df-886cf261-2635-4d6b-93a7-483370b552a0')\"\n",
              "            title=\"Suggest charts.\"\n",
              "            style=\"display:none;\">\n",
              "\n",
              "<svg xmlns=\"http://www.w3.org/2000/svg\" height=\"24px\"viewBox=\"0 0 24 24\"\n",
              "     width=\"24px\">\n",
              "    <g>\n",
              "        <path d=\"M19 3H5c-1.1 0-2 .9-2 2v14c0 1.1.9 2 2 2h14c1.1 0 2-.9 2-2V5c0-1.1-.9-2-2-2zM9 17H7v-7h2v7zm4 0h-2V7h2v10zm4 0h-2v-4h2v4z\"/>\n",
              "    </g>\n",
              "</svg>\n",
              "  </button>\n",
              "\n",
              "<style>\n",
              "  .colab-df-quickchart {\n",
              "      --bg-color: #E8F0FE;\n",
              "      --fill-color: #1967D2;\n",
              "      --hover-bg-color: #E2EBFA;\n",
              "      --hover-fill-color: #174EA6;\n",
              "      --disabled-fill-color: #AAA;\n",
              "      --disabled-bg-color: #DDD;\n",
              "  }\n",
              "\n",
              "  [theme=dark] .colab-df-quickchart {\n",
              "      --bg-color: #3B4455;\n",
              "      --fill-color: #D2E3FC;\n",
              "      --hover-bg-color: #434B5C;\n",
              "      --hover-fill-color: #FFFFFF;\n",
              "      --disabled-bg-color: #3B4455;\n",
              "      --disabled-fill-color: #666;\n",
              "  }\n",
              "\n",
              "  .colab-df-quickchart {\n",
              "    background-color: var(--bg-color);\n",
              "    border: none;\n",
              "    border-radius: 50%;\n",
              "    cursor: pointer;\n",
              "    display: none;\n",
              "    fill: var(--fill-color);\n",
              "    height: 32px;\n",
              "    padding: 0;\n",
              "    width: 32px;\n",
              "  }\n",
              "\n",
              "  .colab-df-quickchart:hover {\n",
              "    background-color: var(--hover-bg-color);\n",
              "    box-shadow: 0 1px 2px rgba(60, 64, 67, 0.3), 0 1px 3px 1px rgba(60, 64, 67, 0.15);\n",
              "    fill: var(--button-hover-fill-color);\n",
              "  }\n",
              "\n",
              "  .colab-df-quickchart-complete:disabled,\n",
              "  .colab-df-quickchart-complete:disabled:hover {\n",
              "    background-color: var(--disabled-bg-color);\n",
              "    fill: var(--disabled-fill-color);\n",
              "    box-shadow: none;\n",
              "  }\n",
              "\n",
              "  .colab-df-spinner {\n",
              "    border: 2px solid var(--fill-color);\n",
              "    border-color: transparent;\n",
              "    border-bottom-color: var(--fill-color);\n",
              "    animation:\n",
              "      spin 1s steps(1) infinite;\n",
              "  }\n",
              "\n",
              "  @keyframes spin {\n",
              "    0% {\n",
              "      border-color: transparent;\n",
              "      border-bottom-color: var(--fill-color);\n",
              "      border-left-color: var(--fill-color);\n",
              "    }\n",
              "    20% {\n",
              "      border-color: transparent;\n",
              "      border-left-color: var(--fill-color);\n",
              "      border-top-color: var(--fill-color);\n",
              "    }\n",
              "    30% {\n",
              "      border-color: transparent;\n",
              "      border-left-color: var(--fill-color);\n",
              "      border-top-color: var(--fill-color);\n",
              "      border-right-color: var(--fill-color);\n",
              "    }\n",
              "    40% {\n",
              "      border-color: transparent;\n",
              "      border-right-color: var(--fill-color);\n",
              "      border-top-color: var(--fill-color);\n",
              "    }\n",
              "    60% {\n",
              "      border-color: transparent;\n",
              "      border-right-color: var(--fill-color);\n",
              "    }\n",
              "    80% {\n",
              "      border-color: transparent;\n",
              "      border-right-color: var(--fill-color);\n",
              "      border-bottom-color: var(--fill-color);\n",
              "    }\n",
              "    90% {\n",
              "      border-color: transparent;\n",
              "      border-bottom-color: var(--fill-color);\n",
              "    }\n",
              "  }\n",
              "</style>\n",
              "\n",
              "  <script>\n",
              "    async function quickchart(key) {\n",
              "      const quickchartButtonEl =\n",
              "        document.querySelector('#' + key + ' button');\n",
              "      quickchartButtonEl.disabled = true;  // To prevent multiple clicks.\n",
              "      quickchartButtonEl.classList.add('colab-df-spinner');\n",
              "      try {\n",
              "        const charts = await google.colab.kernel.invokeFunction(\n",
              "            'suggestCharts', [key], {});\n",
              "      } catch (error) {\n",
              "        console.error('Error during call to suggestCharts:', error);\n",
              "      }\n",
              "      quickchartButtonEl.classList.remove('colab-df-spinner');\n",
              "      quickchartButtonEl.classList.add('colab-df-quickchart-complete');\n",
              "    }\n",
              "    (() => {\n",
              "      let quickchartButtonEl =\n",
              "        document.querySelector('#df-886cf261-2635-4d6b-93a7-483370b552a0 button');\n",
              "      quickchartButtonEl.style.display =\n",
              "        google.colab.kernel.accessAllowed ? 'block' : 'none';\n",
              "    })();\n",
              "  </script>\n",
              "</div>\n",
              "    </div>\n",
              "  </div>\n"
            ]
          },
          "metadata": {},
          "execution_count": 47
        }
      ]
    },
    {
      "cell_type": "markdown",
      "source": [
        "Next step is to group the data based on the type of product and the workstation used. Can you make a statement regarding the different prouct types?"
      ],
      "metadata": {
        "id": "h4pZzoVBOhsT"
      }
    },
    {
      "cell_type": "code",
      "source": [
        "# Create a boxplot by categories\n",
        "sns.boxplot(x='Type', y='ProcessDurationInSeconds', data=result)\n"
      ],
      "metadata": {
        "colab": {
          "base_uri": "https://localhost:8080/",
          "height": 466
        },
        "id": "IeEhiKImzRaT",
        "outputId": "a1e52f1f-0db0-4607-c023-5b0aa7ef9467"
      },
      "execution_count": 48,
      "outputs": [
        {
          "output_type": "execute_result",
          "data": {
            "text/plain": [
              "<Axes: xlabel='Type', ylabel='ProcessDurationInSeconds'>"
            ]
          },
          "metadata": {},
          "execution_count": 48
        },
        {
          "output_type": "display_data",
          "data": {
            "text/plain": [
              "<Figure size 640x480 with 1 Axes>"
            ],
            "image/png": "[encoded data removed]"
          },
          "metadata": {}
        }
      ]
    },
    {
      "cell_type": "code",
      "source": [
        "# Plot the mean value of the processing time based on work station\n",
        "res_plot = result.groupby(['Type','Workstation'])['ProcessDurationInSeconds'].mean().plot.bar()"
      ],
      "metadata": {
        "id": "xj6Ia1gSOm9G",
        "colab": {
          "base_uri": "https://localhost:8080/",
          "height": 486
        },
        "outputId": "436b37aa-848f-40d9-e24b-1e9899e0cc08"
      },
      "execution_count": 49,
      "outputs": [
        {
          "output_type": "display_data",
          "data": {
            "text/plain": [
              "<Figure size 640x480 with 1 Axes>"
            ],
            "image/png": "[encoded data removed]"
          },
          "metadata": {}
        }
      ]
    },
    {
      "cell_type": "markdown",
      "source": [
        "Based on the plot above it can be seen, that depending on the combination of type and workstation large deviation in regards to the processtime can be expected."
      ],
      "metadata": {
        "id": "4RI6kUdKZ95V"
      }
    },
    {
      "cell_type": "code",
      "source": [
        "# Can we check what class the outliers in workstation 4 had?\n",
        "# Group the data by 'Category'\n",
        "sample_df = result[result['Workstation'] == 4]\n",
        "grouped = sample_df.groupby('Type')\n",
        "\n",
        "sns.boxplot(x='Type', y='ProcessDurationInSeconds', data=sample_df)"
      ],
      "metadata": {
        "colab": {
          "base_uri": "https://localhost:8080/",
          "height": 466
        },
        "id": "9hNUd-_H8329",
        "outputId": "6db80909-7111-4262-915e-8155bffbeefc"
      },
      "execution_count": 50,
      "outputs": [
        {
          "output_type": "execute_result",
          "data": {
            "text/plain": [
              "<Axes: xlabel='Type', ylabel='ProcessDurationInSeconds'>"
            ]
          },
          "metadata": {},
          "execution_count": 50
        },
        {
          "output_type": "display_data",
          "data": {
            "text/plain": [
              "<Figure size 640x480 with 1 Axes>"
            ],
            "image/png": "[encoded data removed]"
          },
          "metadata": {}
        }
      ]
    },
    {
      "cell_type": "code",
      "source": [
        "for name, group in grouped:\n",
        "    plt.scatter(group['Start'], group['ProcessDurationInSeconds'], label=name)\n",
        "\n",
        "\n",
        "# Customize the plot as needed (e.g., add labels, title, etc.)\n",
        "plt.xlabel('Time [Month hh:mm]')\n",
        "plt.ylabel('Process Duration [sec]')\n",
        "plt.title('Scatter Plot')\n",
        "plt.legend()\n",
        "\n",
        "# Show the plot\n",
        "plt.show()\n"
      ],
      "metadata": {
        "colab": {
          "base_uri": "https://localhost:8080/",
          "height": 472
        },
        "id": "emM2Mwfc7GL9",
        "outputId": "7cfb1ebd-738a-4df7-d7d5-7fa92a2f1493"
      },
      "execution_count": 51,
      "outputs": [
        {
          "output_type": "display_data",
          "data": {
            "text/plain": [
              "<Figure size 640x480 with 1 Axes>"
            ],
            "image/png": "[encoded data removed]"
          },
          "metadata": {}
        }
      ]
    },
    {
      "cell_type": "markdown",
      "source": [
        "There is one more aspect to check on - Variant 8 seems to take longer than the others."
      ],
      "metadata": {
        "id": "pUTwN8tl9WQ9"
      }
    },
    {
      "cell_type": "code",
      "source": [
        "# Station 5 seems to struggle with Variant 8?\n",
        "# Group the data by 'Category'\n",
        "sample_df = result[result['Workstation'] == 5]\n",
        "# Create a boxplot by categories\n",
        "sns.boxplot(x='Type', y='ProcessDurationInSeconds', data=sample_df)"
      ],
      "metadata": {
        "colab": {
          "base_uri": "https://localhost:8080/",
          "height": 466
        },
        "id": "n9ZpnPm88Zvk",
        "outputId": "43ba6e58-127a-488f-ff3c-59f619e196a9"
      },
      "execution_count": 52,
      "outputs": [
        {
          "output_type": "execute_result",
          "data": {
            "text/plain": [
              "<Axes: xlabel='Type', ylabel='ProcessDurationInSeconds'>"
            ]
          },
          "metadata": {},
          "execution_count": 52
        },
        {
          "output_type": "display_data",
          "data": {
            "text/plain": [
              "<Figure size 640x480 with 1 Axes>"
            ],
            "image/png": "[encoded data removed]"
          },
          "metadata": {}
        }
      ]
    },
    {
      "cell_type": "code",
      "source": [
        "result.to_csv('output.csv')"
      ],
      "metadata": {
        "id": "jYBqEVD8ORD6"
      },
      "execution_count": 53,
      "outputs": []
    },
    {
      "cell_type": "markdown",
      "source": [
        "## Taking a look at the Customer Data as well\n",
        "\n",
        "Please be aware that we will not be able to match a production order to a customer order - since the production is customer independent!"
      ],
      "metadata": {
        "id": "mVeHW-DueRJU"
      }
    },
    {
      "cell_type": "code",
      "source": [
        "col = ['RoundId','Type','CustomerOrderEntered','PlannedDeliveryDate','TrueDeliveryDate','??']\n",
        "customer_df = pd.read_csv('/content/kundenauftrag.csv', header=None, names=col, index_col=0 , sep=',',on_bad_lines='skip')\n",
        "\n",
        "customer_df['CustomerOrderEntered'] = pd.to_datetime(customer_df['CustomerOrderEntered'])\n",
        "customer_df['TrueDeliveryDate'] = pd.to_datetime(customer_df['TrueDeliveryDate'])\n",
        "customer_df['PlannedDeliveryDate'] = pd.to_datetime(customer_df['PlannedDeliveryDate'])"
      ],
      "metadata": {
        "id": "0_ByL6gFeQZk"
      },
      "execution_count": null,
      "outputs": []
    },
    {
      "cell_type": "code",
      "source": [
        "customer_df = customer_df[customer_df['RoundId'] == 216]\n",
        "customer_df = customer_df.dropna()"
      ],
      "metadata": {
        "id": "bIsa8ejAgh9r"
      },
      "execution_count": null,
      "outputs": []
    },
    {
      "cell_type": "code",
      "source": [
        "#Generate the duration based on the delivered and the start date\n",
        "customer_df['Duration'] = customer_df['TrueDeliveryDate'] - customer_df['CustomerOrderEntered']\n",
        "customer_df['DurationInSeconds'] = customer_df['Duration'].dt.total_seconds()\n",
        "customer_df = customer_df.drop(columns=['Duration'])\n",
        "\n",
        "# Generate the delay of the order in secondes\n",
        "customer_df['Delay'] = customer_df['TrueDeliveryDate'] - customer_df['PlannedDeliveryDate']\n",
        "customer_df['DelayInSeconds'] = customer_df['Delay'].dt.total_seconds()\n",
        "customer_df = customer_df.drop(columns=['Delay'])"
      ],
      "metadata": {
        "id": "JXciVlQhf4fP"
      },
      "execution_count": null,
      "outputs": []
    },
    {
      "cell_type": "code",
      "source": [
        "customer_df.head()"
      ],
      "metadata": {
        "id": "8LchMc9RghI7"
      },
      "execution_count": null,
      "outputs": []
    },
    {
      "cell_type": "code",
      "source": [
        "# Group the data by 'Category'\n",
        "grouped = customer_df.groupby('Type')\n",
        "\n",
        "for name, group in grouped:\n",
        "    plt.scatter(group['CustomerOrderEntered'], group['DurationInSeconds'], label=name)\n",
        "\n",
        "\n",
        "# Customize the plot as needed (e.g., add labels, title, etc.)\n",
        "plt.plot([customer_df['TrueDeliveryDate'].min(),customer_df['TrueDeliveryDate'].max()],\n",
        "         [180,180],'r-', label = 'Due Date')\n",
        "\n",
        "plt.xlabel('Time [Month hh:mm]')\n",
        "plt.ylabel('Time until delivery [sec]')\n",
        "plt.title('Scatter Plot')\n",
        "plt.legend()\n",
        "\n",
        "# Show the plot\n",
        "plt.show()"
      ],
      "metadata": {
        "id": "pify9l_Jh5yt"
      },
      "execution_count": null,
      "outputs": []
    },
    {
      "cell_type": "code",
      "source": [
        "customer_df[customer_df['DelayInSeconds'] > 0]"
      ],
      "metadata": {
        "id": "SqOplkVmSNIF"
      },
      "execution_count": null,
      "outputs": []
    },
    {
      "cell_type": "markdown",
      "source": [
        "\n",
        "## End of Lab 1\n",
        "We now have gained an understanding and prepared our data.\n",
        "\n",
        "The outliers at station 4 were true outliers and seem to be related to some issue in the assembly line. It seems that this does not occure too often.\n",
        "\n",
        "Considering the median, assembling the products at workstation 3 takes longer than at other stations. The workload of workstation 5 seems to be highly skewed.\n",
        "\n",
        "We found that the median processing time for Variant 8 is higher, compared to the others and that that is often delivered late!\n",
        "\n",
        "We can suspect a rise in time until delivery into the late game?\n",
        "\n",
        "Let revisit the assembly station and line balancing in the lab."
      ],
      "metadata": {
        "id": "98FdjJD7ON27"
      }
    },
    {
      "cell_type": "code",
      "source": [],
      "metadata": {
        "id": "zyyZICCyZ62e"
      },
      "execution_count": null,
      "outputs": []
    }
  ]
}