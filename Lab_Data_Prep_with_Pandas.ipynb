{
  "nbformat": 4,
  "nbformat_minor": 0,
  "metadata": {
    "colab": {
      "provenance": [],
      "collapsed_sections": [],
      "authorship_tag": "ABX9TyPX+6YSr7sTox+yoqVIpcJR",
      "include_colab_link": true
    },
    "kernelspec": {
      "name": "python3",
      "display_name": "Python 3"
    },
    "language_info": {
      "name": "python"
    }
  },
  "cells": [
    {
      "cell_type": "markdown",
      "metadata": {
        "id": "view-in-github",
        "colab_type": "text"
      },
      "source": [
        "<a href=\"https://colab.research.google.com/github/ThomasGVoss/LearningFactory/blob/main/Lab_Data_Prep_with_Pandas.ipynb\" target=\"_parent\"><img src=\"https://colab.research.google.com/assets/colab-badge.svg\" alt=\"Open In Colab\"/></a>"
      ]
    },
    {
      "cell_type": "code",
      "execution_count": 1,
      "metadata": {
        "id": "hMFYYqo75sQE"
      },
      "outputs": [],
      "source": [
        "import numpy as np                                # For matrix operations and numerical processing\n",
        "import pandas as pd                               # For munging tabular data\n",
        "import matplotlib.pyplot as plt                   # For charts and visualizations\n",
        "from IPython.display import Image                 # For displaying images in the notebook\n",
        "from IPython.display import display               # For displaying outputs in the notebook\n",
        "from time import gmtime, strftime                 # For labeling SageMaker models, endpoints, etc.\n",
        "import sys                                        # For writing outputs to notebook\n",
        "import math                                       # For ceiling function\n",
        "import json                                       # For parsing hosting outputs\n",
        "import os                                         # For manipulating filepath names\n",
        "import zipfile                                    # For unzipping\n",
        "\n",
        "# ensure graphs are displayed correctly inline in this notebook\n",
        "%matplotlib inline"
      ]
    },
    {
      "cell_type": "code",
      "source": [],
      "metadata": {
        "id": "L5H87LZ_5suy"
      },
      "execution_count": null,
      "outputs": []
    }
  ]
}