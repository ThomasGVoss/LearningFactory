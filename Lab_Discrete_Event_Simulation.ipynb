{
  "nbformat": 4,
  "nbformat_minor": 0,
  "metadata": {
    "colab": {
      "provenance": [],
      "collapsed_sections": [],
      "authorship_tag": "ABX9TyNdcVp1T68+ngAXw+jNXihd",
      "include_colab_link": true
    },
    "kernelspec": {
      "name": "python3",
      "display_name": "Python 3"
    },
    "language_info": {
      "name": "python"
    }
  },
  "cells": [
    {
      "cell_type": "markdown",
      "metadata": {
        "id": "view-in-github",
        "colab_type": "text"
      },
      "source": [
        "<a href=\"https://colab.research.google.com/github/ThomasGVoss/LearningFactory/blob/main/Lab_Discrete_Event_Simulation.ipynb\" target=\"_parent\"><img src=\"https://colab.research.google.com/assets/colab-badge.svg\" alt=\"Open In Colab\"/></a>"
      ]
    },
    {
      "cell_type": "markdown",
      "source": [
        "We will be using SimPy to model the learning factory\n",
        "\n",
        "Documentation can be found:  [here](https://simpy.readthedocs.io/en/latest/)"
      ],
      "metadata": {
        "id": "21ibF8u9VZ_l"
      }
    },
    {
      "cell_type": "code",
      "execution_count": null,
      "metadata": {
        "colab": {
          "base_uri": "https://localhost:8080/"
        },
        "id": "GZqks9SQNQnj",
        "outputId": "d1825722-a816-4c8e-8708-260b1f4a9a55"
      },
      "outputs": [
        {
          "output_type": "stream",
          "name": "stdout",
          "text": [
            "Looking in indexes: https://pypi.org/simple, https://us-python.pkg.dev/colab-wheels/public/simple/\n",
            "Collecting simpy\n",
            "  Downloading simpy-4.0.1-py2.py3-none-any.whl (29 kB)\n",
            "Installing collected packages: simpy\n",
            "Successfully installed simpy-4.0.1\n"
          ]
        }
      ],
      "source": [
        "!pip install simpy"
      ]
    },
    {
      "cell_type": "code",
      "source": [
        "import simpy\n",
        "import random"
      ],
      "metadata": {
        "id": "fBzMH3vLVESR"
      },
      "execution_count": null,
      "outputs": []
    },
    {
      "cell_type": "code",
      "source": [
        "class Flow_Shop:\n",
        "    def __init__(self, env):\n",
        "        self.raw = simpy.Container(env, capacity = 1000, init = 20)\n",
        "        self.s1 = simpy.Container(env, capacity = 1000, init = 0)\n",
        "        self.dispatch = simpy.Container(env ,capacity = 1000, init = 0)"
      ],
      "metadata": {
        "id": "WGsMB-mrNSD6"
      },
      "execution_count": null,
      "outputs": []
    },
    {
      "cell_type": "markdown",
      "source": [
        "Stations can be used as \n",
        "https://simpy.readthedocs.io/en/latest/topical_guides/resources.html#shared-resources"
      ],
      "metadata": {
        "id": "cdzs_xIEWOuE"
      }
    },
    {
      "cell_type": "code",
      "source": [
        "def station1(env, flow_shop):\n",
        "    while True:\n",
        "        yield flow_shop.raw.get(1)\n",
        "        body_time = random.randint(2, 4)\n",
        "        print('Machine 1 - Start processing at time:%d' % env.now)\n",
        "        yield env.timeout(body_time)\n",
        "        yield flow_shop.s1.put(1)\n",
        "\n",
        "def station2(env,flow_shop):\n",
        "  while True:\n",
        "        yield flow_shop.s1.get(1)\n",
        "        print('Machine 2 - Getting material from s1 which now has %f items left in store.' % flow_shop.s1.level)\n",
        "        print('Machine 2 - Start processing at time:%d' % env.now)\n",
        "        body_time = random.randint(1, 5)\n",
        "        yield env.timeout(body_time)\n",
        "        yield flow_shop.dispatch.put(1)"
      ],
      "metadata": {
        "id": "pYhP5W9NQOSe"
      },
      "execution_count": null,
      "outputs": []
    },
    {
      "cell_type": "code",
      "source": [
        "#working hours\n",
        "hours = 8\n",
        "#business days\n",
        "days = 5\n",
        "#total working time (hours)\n",
        "total_time = hours * days\n",
        "\n",
        "env = simpy.Environment()\n",
        "flow_shop = Flow_Shop(env)\n",
        "\n",
        "station1 = env.process(station1(env, flow_shop))\n",
        "station2 = env.process(station2(env, flow_shop))\n",
        "\n",
        "env.run(until = total_time)\n",
        "print(f'Dispatch has %d bodies ready to go!' % flow_shop.dispatch.level)"
      ],
      "metadata": {
        "colab": {
          "base_uri": "https://localhost:8080/"
        },
        "id": "XputZ4jFQq3q",
        "outputId": "b062f49c-604d-41e0-ffda-f6d508162014"
      },
      "execution_count": null,
      "outputs": [
        {
          "output_type": "stream",
          "name": "stdout",
          "text": [
            "Machine 1 - Start processing at time:0\n",
            "Machine 2 - Getting material from s1 which now has 0.000000 items left in store.\n",
            "Machine 2 - Start processing at time:4\n",
            "Machine 1 - Start processing at time:4\n",
            "Machine 2 - Getting material from s1 which now has 0.000000 items left in store.\n",
            "Machine 2 - Start processing at time:7\n",
            "Machine 1 - Start processing at time:7\n",
            "Machine 2 - Getting material from s1 which now has 0.000000 items left in store.\n",
            "Machine 2 - Start processing at time:11\n",
            "Machine 1 - Start processing at time:11\n",
            "Machine 2 - Getting material from s1 which now has 0.000000 items left in store.\n",
            "Machine 2 - Start processing at time:15\n",
            "Machine 1 - Start processing at time:15\n",
            "Machine 2 - Getting material from s1 which now has 0.000000 items left in store.\n",
            "Machine 2 - Start processing at time:18\n",
            "Machine 1 - Start processing at time:18\n",
            "Machine 1 - Start processing at time:20\n",
            "Machine 2 - Getting material from s1 which now has 0.000000 items left in store.\n",
            "Machine 2 - Start processing at time:23\n",
            "Machine 1 - Start processing at time:24\n",
            "Machine 2 - Getting material from s1 which now has 0.000000 items left in store.\n",
            "Machine 2 - Start processing at time:26\n",
            "Machine 2 - Getting material from s1 which now has 0.000000 items left in store.\n",
            "Machine 2 - Start processing at time:28\n",
            "Machine 1 - Start processing at time:28\n",
            "Machine 2 - Getting material from s1 which now has 0.000000 items left in store.\n",
            "Machine 2 - Start processing at time:30\n",
            "Machine 1 - Start processing at time:30\n",
            "Machine 2 - Getting material from s1 which now has 0.000000 items left in store.\n",
            "Machine 2 - Start processing at time:34\n",
            "Machine 1 - Start processing at time:34\n",
            "Machine 2 - Getting material from s1 which now has 0.000000 items left in store.\n",
            "Machine 2 - Start processing at time:38\n",
            "Machine 1 - Start processing at time:38\n",
            "Dispatch has 10 bodies ready to go!\n"
          ]
        }
      ]
    },
    {
      "cell_type": "code",
      "source": [],
      "metadata": {
        "id": "KSgKZovpRAHg"
      },
      "execution_count": null,
      "outputs": []
    }
  ]
}