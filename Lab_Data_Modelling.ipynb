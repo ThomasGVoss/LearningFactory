{
  "nbformat": 4,
  "nbformat_minor": 0,
  "metadata": {
    "colab": {
      "provenance": [],
      "collapsed_sections": [],
      "authorship_tag": "ABX9TyMP9wX/hKNzVuxr+Ln/KQhU",
      "include_colab_link": true
    },
    "kernelspec": {
      "name": "python3",
      "display_name": "Python 3"
    },
    "language_info": {
      "name": "python"
    }
  },
  "cells": [
    {
      "cell_type": "markdown",
      "metadata": {
        "id": "view-in-github",
        "colab_type": "text"
      },
      "source": [
        "<a href=\"https://colab.research.google.com/github/ThomasGVoss/LearningFactory/blob/main/Lab_Data_Modelling.ipynb\" target=\"_parent\"><img src=\"https://colab.research.google.com/assets/colab-badge.svg\" alt=\"Open In Colab\"/></a>"
      ]
    },
    {
      "cell_type": "markdown",
      "source": [
        "\n",
        "Although the CRISP-DM Guide suggests to “iterate model building and assessment until you strongly believe that you have found the best model(s)”,  in practice teams should continue iterating until they find a “good enough” model, proceed through the CRISP-DM lifecycle, then further improve the model in future iterations. \n",
        "\n",
        "V. Evaluation\n",
        "Whereas the Assess Model task of the Modeling phase focuses on technical model assessment, the Evaluation phase looks more broadly at which model best meets the business and what to do next. This phase has three tasks:\n",
        "\n",
        "Evaluate results: Do the models meet the business success criteria? Which one(s) should we approve for the business?\n",
        "Review process: Review the work accomplished. Was anything overlooked? Were all steps properly executed? Summarize findings and correct anything if needed.\n",
        "Determine next steps: Based on the previous three tasks, determine whether to proceed to deployment, iterate further, or initiate new projects."
      ],
      "metadata": {
        "id": "B1BznXtl5Y62"
      }
    },
    {
      "cell_type": "code",
      "source": [],
      "metadata": {
        "id": "fQcSsHkX8paD"
      },
      "execution_count": null,
      "outputs": []
    },
    {
      "cell_type": "code",
      "execution_count": null,
      "metadata": {
        "id": "US3N1OZf5UAE"
      },
      "outputs": [],
      "source": [
        "import numpy as np                                # For matrix operations and numerical processing\n",
        "import pandas as pd                               # For munging tabular data\n",
        "import matplotlib.pyplot as plt                   # For charts and visualizations\n",
        "from IPython.display import Image                 # For displaying images in the notebook\n",
        "from IPython.display import display               # For displaying outputs in the notebook\n",
        "from time import gmtime, strftime                 # For labeling SageMaker models, endpoints, etc.\n",
        "import sys                                        # For writing outputs to notebook\n",
        "import math                                       # For ceiling function\n",
        "import json                                       # For parsing hosting outputs\n",
        "import os                                         # For manipulating filepath names\n",
        "import zipfile                                    # For unzipping\n",
        "\n",
        "from sklearn.model_selection import train_test_split\n",
        "from sklearn.model_selection import cross_val_score\n",
        "from sklearn.tree import DecisionTreeRegressor\n",
        "# ensure graphs are displayed correctly inline in this notebook\n",
        "%matplotlib inline"
      ]
    },
    {
      "cell_type": "markdown",
      "source": [
        "Load the data again... "
      ],
      "metadata": {
        "id": "BvH3Sp-PAxVK"
      }
    },
    {
      "cell_type": "code",
      "source": [
        "data = pd.read_csv('/content/output.csv', index_col=0)\n",
        "data = data.dropna(axis=0)\n",
        "\n",
        "data.head()"
      ],
      "metadata": {
        "colab": {
          "base_uri": "https://localhost:8080/",
          "height": 206
        },
        "id": "GUEp3gD88yI6",
        "outputId": "11e6a1e4-f5b6-4165-b316-2e2ca24b029b"
      },
      "execution_count": null,
      "outputs": [
        {
          "output_type": "execute_result",
          "data": {
            "text/plain": [
              "      ProcessID  RoundId  Workstation                Start  \\\n",
              "4125       1745      216            1  2022-09-02 19:29:26   \n",
              "4126       1745      216            2  2022-09-02 19:30:29   \n",
              "4127       1746      216            1  2022-09-02 19:30:36   \n",
              "4128       1747      216            1  2022-09-02 19:32:23   \n",
              "4129       1745      216            3  2022-09-02 19:32:35   \n",
              "\n",
              "                      End  Seconds  \n",
              "4125  2022-09-02 19:30:27     61.0  \n",
              "4126  2022-09-02 19:32:32    123.0  \n",
              "4127  2022-09-02 19:32:01     85.0  \n",
              "4128  2022-09-02 19:33:21     58.0  \n",
              "4129  2022-09-02 19:34:29    114.0  "
            ],
            "text/html": [
              "\n",
              "  <div id=\"df-5cc265ca-5075-4cfd-b3ca-72486f592cdc\">\n",
              "    <div class=\"colab-df-container\">\n",
              "      <div>\n",
              "<style scoped>\n",
              "    .dataframe tbody tr th:only-of-type {\n",
              "        vertical-align: middle;\n",
              "    }\n",
              "\n",
              "    .dataframe tbody tr th {\n",
              "        vertical-align: top;\n",
              "    }\n",
              "\n",
              "    .dataframe thead th {\n",
              "        text-align: right;\n",
              "    }\n",
              "</style>\n",
              "<table border=\"1\" class=\"dataframe\">\n",
              "  <thead>\n",
              "    <tr style=\"text-align: right;\">\n",
              "      <th></th>\n",
              "      <th>ProcessID</th>\n",
              "      <th>RoundId</th>\n",
              "      <th>Workstation</th>\n",
              "      <th>Start</th>\n",
              "      <th>End</th>\n",
              "      <th>Seconds</th>\n",
              "    </tr>\n",
              "  </thead>\n",
              "  <tbody>\n",
              "    <tr>\n",
              "      <th>4125</th>\n",
              "      <td>1745</td>\n",
              "      <td>216</td>\n",
              "      <td>1</td>\n",
              "      <td>2022-09-02 19:29:26</td>\n",
              "      <td>2022-09-02 19:30:27</td>\n",
              "      <td>61.0</td>\n",
              "    </tr>\n",
              "    <tr>\n",
              "      <th>4126</th>\n",
              "      <td>1745</td>\n",
              "      <td>216</td>\n",
              "      <td>2</td>\n",
              "      <td>2022-09-02 19:30:29</td>\n",
              "      <td>2022-09-02 19:32:32</td>\n",
              "      <td>123.0</td>\n",
              "    </tr>\n",
              "    <tr>\n",
              "      <th>4127</th>\n",
              "      <td>1746</td>\n",
              "      <td>216</td>\n",
              "      <td>1</td>\n",
              "      <td>2022-09-02 19:30:36</td>\n",
              "      <td>2022-09-02 19:32:01</td>\n",
              "      <td>85.0</td>\n",
              "    </tr>\n",
              "    <tr>\n",
              "      <th>4128</th>\n",
              "      <td>1747</td>\n",
              "      <td>216</td>\n",
              "      <td>1</td>\n",
              "      <td>2022-09-02 19:32:23</td>\n",
              "      <td>2022-09-02 19:33:21</td>\n",
              "      <td>58.0</td>\n",
              "    </tr>\n",
              "    <tr>\n",
              "      <th>4129</th>\n",
              "      <td>1745</td>\n",
              "      <td>216</td>\n",
              "      <td>3</td>\n",
              "      <td>2022-09-02 19:32:35</td>\n",
              "      <td>2022-09-02 19:34:29</td>\n",
              "      <td>114.0</td>\n",
              "    </tr>\n",
              "  </tbody>\n",
              "</table>\n",
              "</div>\n",
              "      <button class=\"colab-df-convert\" onclick=\"convertToInteractive('df-5cc265ca-5075-4cfd-b3ca-72486f592cdc')\"\n",
              "              title=\"Convert this dataframe to an interactive table.\"\n",
              "              style=\"display:none;\">\n",
              "        \n",
              "  <svg xmlns=\"http://www.w3.org/2000/svg\" height=\"24px\"viewBox=\"0 0 24 24\"\n",
              "       width=\"24px\">\n",
              "    <path d=\"M0 0h24v24H0V0z\" fill=\"none\"/>\n",
              "    <path d=\"M18.56 5.44l.94 2.06.94-2.06 2.06-.94-2.06-.94-.94-2.06-.94 2.06-2.06.94zm-11 1L8.5 8.5l.94-2.06 2.06-.94-2.06-.94L8.5 2.5l-.94 2.06-2.06.94zm10 10l.94 2.06.94-2.06 2.06-.94-2.06-.94-.94-2.06-.94 2.06-2.06.94z\"/><path d=\"M17.41 7.96l-1.37-1.37c-.4-.4-.92-.59-1.43-.59-.52 0-1.04.2-1.43.59L10.3 9.45l-7.72 7.72c-.78.78-.78 2.05 0 2.83L4 21.41c.39.39.9.59 1.41.59.51 0 1.02-.2 1.41-.59l7.78-7.78 2.81-2.81c.8-.78.8-2.07 0-2.86zM5.41 20L4 18.59l7.72-7.72 1.47 1.35L5.41 20z\"/>\n",
              "  </svg>\n",
              "      </button>\n",
              "      \n",
              "  <style>\n",
              "    .colab-df-container {\n",
              "      display:flex;\n",
              "      flex-wrap:wrap;\n",
              "      gap: 12px;\n",
              "    }\n",
              "\n",
              "    .colab-df-convert {\n",
              "      background-color: #E8F0FE;\n",
              "      border: none;\n",
              "      border-radius: 50%;\n",
              "      cursor: pointer;\n",
              "      display: none;\n",
              "      fill: #1967D2;\n",
              "      height: 32px;\n",
              "      padding: 0 0 0 0;\n",
              "      width: 32px;\n",
              "    }\n",
              "\n",
              "    .colab-df-convert:hover {\n",
              "      background-color: #E2EBFA;\n",
              "      box-shadow: 0px 1px 2px rgba(60, 64, 67, 0.3), 0px 1px 3px 1px rgba(60, 64, 67, 0.15);\n",
              "      fill: #174EA6;\n",
              "    }\n",
              "\n",
              "    [theme=dark] .colab-df-convert {\n",
              "      background-color: #3B4455;\n",
              "      fill: #D2E3FC;\n",
              "    }\n",
              "\n",
              "    [theme=dark] .colab-df-convert:hover {\n",
              "      background-color: #434B5C;\n",
              "      box-shadow: 0px 1px 3px 1px rgba(0, 0, 0, 0.15);\n",
              "      filter: drop-shadow(0px 1px 2px rgba(0, 0, 0, 0.3));\n",
              "      fill: #FFFFFF;\n",
              "    }\n",
              "  </style>\n",
              "\n",
              "      <script>\n",
              "        const buttonEl =\n",
              "          document.querySelector('#df-5cc265ca-5075-4cfd-b3ca-72486f592cdc button.colab-df-convert');\n",
              "        buttonEl.style.display =\n",
              "          google.colab.kernel.accessAllowed ? 'block' : 'none';\n",
              "\n",
              "        async function convertToInteractive(key) {\n",
              "          const element = document.querySelector('#df-5cc265ca-5075-4cfd-b3ca-72486f592cdc');\n",
              "          const dataTable =\n",
              "            await google.colab.kernel.invokeFunction('convertToInteractive',\n",
              "                                                     [key], {});\n",
              "          if (!dataTable) return;\n",
              "\n",
              "          const docLinkHtml = 'Like what you see? Visit the ' +\n",
              "            '<a target=\"_blank\" href=https://colab.research.google.com/notebooks/data_table.ipynb>data table notebook</a>'\n",
              "            + ' to learn more about interactive tables.';\n",
              "          element.innerHTML = '';\n",
              "          dataTable['output_type'] = 'display_data';\n",
              "          await google.colab.output.renderOutput(dataTable, element);\n",
              "          const docLink = document.createElement('div');\n",
              "          docLink.innerHTML = docLinkHtml;\n",
              "          element.appendChild(docLink);\n",
              "        }\n",
              "      </script>\n",
              "    </div>\n",
              "  </div>\n",
              "  "
            ]
          },
          "metadata": {},
          "execution_count": 63
        }
      ]
    },
    {
      "cell_type": "markdown",
      "source": [
        "Very! brief intro to machine learning\n",
        "\n",
        "Supervised | Reinforcement Learnnig | Unsupervised\n",
        "\n",
        "Supervised - Classification and Regression\n",
        "\n",
        "Unsupervised - clustering\n",
        "\n",
        "Features and the resulting variable"
      ],
      "metadata": {
        "id": "LZI2htzXA03H"
      }
    },
    {
      "cell_type": "code",
      "source": [
        "X = data[['Workstation','ProcessID']].copy()\n",
        "y = data['Seconds']\n"
      ],
      "metadata": {
        "id": "zDBBEq2G9H6_"
      },
      "execution_count": null,
      "outputs": []
    },
    {
      "cell_type": "markdown",
      "source": [
        "Train test Validation Split? \n",
        "Validation? "
      ],
      "metadata": {
        "id": "bemvoFHzCWqp"
      }
    },
    {
      "cell_type": "code",
      "source": [
        "X_train, X_test, y_train, y_test = train_test_split(X, y, test_size=0.33, random_state=42)\n"
      ],
      "metadata": {
        "id": "MgNwweu49ZSu"
      },
      "execution_count": null,
      "outputs": []
    },
    {
      "cell_type": "markdown",
      "source": [
        "r² or mean (squere) error?"
      ],
      "metadata": {
        "id": "O8n_stGKCmzm"
      }
    },
    {
      "cell_type": "markdown",
      "source": [
        "Supervised - Regression - Decission Trees"
      ],
      "metadata": {
        "id": "bYzUdSl4B1zM"
      }
    },
    {
      "cell_type": "code",
      "source": [
        "regressor = DecisionTreeRegressor(random_state=0)\n",
        "regressor.fit(X_train,y_train)"
      ],
      "metadata": {
        "colab": {
          "base_uri": "https://localhost:8080/"
        },
        "id": "y4OKv-j49aEy",
        "outputId": "1aff1aa5-aae3-4a23-c16d-52d73ad0295a"
      },
      "execution_count": null,
      "outputs": [
        {
          "output_type": "execute_result",
          "data": {
            "text/plain": [
              "DecisionTreeRegressor(random_state=0)"
            ]
          },
          "metadata": {},
          "execution_count": 69
        }
      ]
    },
    {
      "cell_type": "code",
      "source": [
        "regressor.predict(X_test)"
      ],
      "metadata": {
        "colab": {
          "base_uri": "https://localhost:8080/"
        },
        "id": "Yqh7pyPX926K",
        "outputId": "4ffa8e40-a1a4-4730-be61-48885287cff5"
      },
      "execution_count": null,
      "outputs": [
        {
          "output_type": "execute_result",
          "data": {
            "text/plain": [
              "array([ 71. ,   2. ,  74. ,  79. , 171.5, 101. ,   2. , 117. , 123. ,\n",
              "        72. ,  54. ,  60. ,   2. ,  35. , 139. , 139. ,  35. , 162. ,\n",
              "        11. ,   1. ,  84. ,  59. ,  58. ,  11. ,  71. ,  35. , 171.5,\n",
              "        77. , 224. ,  59. ,  50. ,  43. ])"
            ]
          },
          "metadata": {},
          "execution_count": 70
        }
      ]
    },
    {
      "cell_type": "markdown",
      "source": [
        "Corssvalidation"
      ],
      "metadata": {
        "id": "NeQPeTwkCgtN"
      }
    },
    {
      "cell_type": "code",
      "source": [
        "#cross_val_score(regressor, X, y, cv=10)"
      ],
      "metadata": {
        "id": "558t_ZR79zrz"
      },
      "execution_count": null,
      "outputs": []
    }
  ]
}